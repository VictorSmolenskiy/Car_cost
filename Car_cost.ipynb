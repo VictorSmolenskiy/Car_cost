{
 "cells": [
  {
   "cell_type": "markdown",
   "metadata": {},
   "source": [
    "# Стоимость автомобиля"
   ]
  },
  {
   "cell_type": "markdown",
   "metadata": {},
   "source": [
    "Многие знают про маркетплейсы где продаются б/у вещи, на которых есть возможность недорого купить качественную и полезную вещь. Но всегда волнует вопрос - кто и как устанавливает цену, и какие его характеристики больше всего влияют на итоговую стоимость продажи?! Вопрос становиться особо актуальным, если речь идет про дорогие товары, например про автомобили!  \n",
    "\n",
    "Целью проекта будет разработанная модель предсказания стоимости автомобиля на вторичном рынке.\n",
    "\n",
    "Источник данных: [https://www.kaggle.com/competitions/copy-of-used-cars-price-prediction-ds18](https://www.kaggle.com/competitions/copy-of-used-cars-price-prediction-ds18)"
   ]
  },
  {
   "cell_type": "markdown",
   "metadata": {},
   "source": [
    "## 1. Подготовка данных"
   ]
  },
  {
   "cell_type": "markdown",
   "metadata": {},
   "source": [
    "### 1.1. Импорт библиотек и модулей, загрузка данных"
   ]
  },
  {
   "cell_type": "code",
   "execution_count": 422,
   "metadata": {},
   "outputs": [],
   "source": [
    "# Установка библиотек\n",
    "#!pip3 install catboost\n",
    "#!pip install shap\n",
    "#!pip install association-metrics"
   ]
  },
  {
   "cell_type": "code",
   "execution_count": 423,
   "metadata": {},
   "outputs": [],
   "source": [
    "# Импорт необходимых библиотек, модулей и т.д.\n",
    "import pandas as pd\n",
    "import numpy as np\n",
    "#from sklearn.tree import DecisionTreeClassifier\n",
    "#from sklearn.ensemble import RandomForestClassifier\n",
    "#from sklearn.linear_model import LogisticRegression\n",
    "#from sklearn.model_selection import train_test_split\n",
    "#from sklearn.preprocessing import StandardScaler\n",
    "#from sklearn.metrics import f1_score, roc_auc_score, roc_curve\n",
    "#from sklearn.utils import shuffle\n",
    "import matplotlib.pyplot as plt\n",
    "import seaborn as sns\n",
    "import association_metrics as am\n",
    "from catboost import CatBoostRegressor\n",
    "from catboost import cv, Pool\n",
    "import shap\n",
    "#shap.initjs()"
   ]
  },
  {
   "cell_type": "code",
   "execution_count": 424,
   "metadata": {},
   "outputs": [
    {
     "data": {
      "text/html": [
       "<style>.container { width:90% !important; }</style>"
      ],
      "text/plain": [
       "<IPython.core.display.HTML object>"
      ]
     },
     "metadata": {},
     "output_type": "display_data"
    }
   ],
   "source": [
    "from IPython.core.display import display, HTML\n",
    "display(HTML(\"<style>.container { width:90% !important; }</style>\"))"
   ]
  },
  {
   "cell_type": "code",
   "execution_count": 425,
   "metadata": {},
   "outputs": [],
   "source": [
    "# Загрузка данных\n",
    "df_train = pd.read_csv('C:/Users/svkb2/Desktop/Data Science/Workshop car cost/Data/train.csv')\n",
    "df_test = pd.read_csv('C:/Users/svkb2/Desktop/Data Science/Workshop car cost/Data/test.csv')\n",
    "# Присвоим таблицам имена:\n",
    "df_train.name = 'Тренировочные данные'\n",
    "df_test.name = 'Тестовые данные'"
   ]
  },
  {
   "cell_type": "markdown",
   "metadata": {},
   "source": [
    "### 1.2. Первичное знакомство с данными"
   ]
  },
  {
   "cell_type": "code",
   "execution_count": 426,
   "metadata": {},
   "outputs": [],
   "source": [
    "# Функция первичного знакомства с данными\n",
    "def introduction(df):\n",
    "    print('Название датафрейма:', df.name)\n",
    "    print('_'*100)\n",
    "    display(df.tail())\n",
    "    print('\\nОбщая информация')\n",
    "    print('_'*100)\n",
    "    display(df.info())\n",
    "    print('\\nХарактеристики распределения')\n",
    "    print('_'*100)\n",
    "    display(df.describe().T)\n",
    "    display(df.describe(include = ['object']).T)\n",
    "    print('\\nКол-во дубликатов записей:', df.duplicated().sum())\n",
    "    print('_'*100)"
   ]
  },
  {
   "cell_type": "code",
   "execution_count": 427,
   "metadata": {},
   "outputs": [
    {
     "name": "stdout",
     "output_type": "stream",
     "text": [
      "Название датафрейма: Тренировочные данные\n",
      "____________________________________________________________________________________________________\n"
     ]
    },
    {
     "data": {
      "text/html": [
       "<div>\n",
       "<style scoped>\n",
       "    .dataframe tbody tr th:only-of-type {\n",
       "        vertical-align: middle;\n",
       "    }\n",
       "\n",
       "    .dataframe tbody tr th {\n",
       "        vertical-align: top;\n",
       "    }\n",
       "\n",
       "    .dataframe thead th {\n",
       "        text-align: right;\n",
       "    }\n",
       "</style>\n",
       "<table border=\"1\" class=\"dataframe\">\n",
       "  <thead>\n",
       "    <tr style=\"text-align: right;\">\n",
       "      <th></th>\n",
       "      <th>year</th>\n",
       "      <th>make</th>\n",
       "      <th>model</th>\n",
       "      <th>trim</th>\n",
       "      <th>body</th>\n",
       "      <th>transmission</th>\n",
       "      <th>vin</th>\n",
       "      <th>state</th>\n",
       "      <th>condition</th>\n",
       "      <th>odometer</th>\n",
       "      <th>color</th>\n",
       "      <th>interior</th>\n",
       "      <th>seller</th>\n",
       "      <th>sellingprice</th>\n",
       "      <th>saledate</th>\n",
       "    </tr>\n",
       "  </thead>\n",
       "  <tbody>\n",
       "    <tr>\n",
       "      <th>440231</th>\n",
       "      <td>2013</td>\n",
       "      <td>Kia</td>\n",
       "      <td>Optima</td>\n",
       "      <td>EX Hybrid</td>\n",
       "      <td>Sedan</td>\n",
       "      <td>automatic</td>\n",
       "      <td>knagm4ad4d5057805</td>\n",
       "      <td>ca</td>\n",
       "      <td>4.5</td>\n",
       "      <td>20434.0</td>\n",
       "      <td>white</td>\n",
       "      <td>beige</td>\n",
       "      <td>kia motors america, inc</td>\n",
       "      <td>16000</td>\n",
       "      <td>Tue Jan 20 2015 04:30:00 GMT-0800 (PST)</td>\n",
       "    </tr>\n",
       "    <tr>\n",
       "      <th>440232</th>\n",
       "      <td>2014</td>\n",
       "      <td>MINI</td>\n",
       "      <td>Cooper Countryman</td>\n",
       "      <td>S ALL4</td>\n",
       "      <td>Wagon</td>\n",
       "      <td>automatic</td>\n",
       "      <td>wmwzc5c55ewp36517</td>\n",
       "      <td>wi</td>\n",
       "      <td>2.9</td>\n",
       "      <td>14675.0</td>\n",
       "      <td>white</td>\n",
       "      <td>black</td>\n",
       "      <td>bmw mini financial services</td>\n",
       "      <td>24250</td>\n",
       "      <td>Wed Feb 11 2015 02:00:00 GMT-0800 (PST)</td>\n",
       "    </tr>\n",
       "    <tr>\n",
       "      <th>440233</th>\n",
       "      <td>2008</td>\n",
       "      <td>BMW</td>\n",
       "      <td>6 Series</td>\n",
       "      <td>650i</td>\n",
       "      <td>Coupe</td>\n",
       "      <td>automatic</td>\n",
       "      <td>wbaea53588cv90110</td>\n",
       "      <td>ca</td>\n",
       "      <td>3.7</td>\n",
       "      <td>102552.0</td>\n",
       "      <td>gray</td>\n",
       "      <td>black</td>\n",
       "      <td>studio city auto group</td>\n",
       "      <td>16750</td>\n",
       "      <td>Tue Mar 03 2015 04:30:00 GMT-0800 (PST)</td>\n",
       "    </tr>\n",
       "    <tr>\n",
       "      <th>440234</th>\n",
       "      <td>2014</td>\n",
       "      <td>Ram</td>\n",
       "      <td>2500</td>\n",
       "      <td>SLT</td>\n",
       "      <td>Crew Cab</td>\n",
       "      <td>automatic</td>\n",
       "      <td>3c6ur5dl2eg243568</td>\n",
       "      <td>tx</td>\n",
       "      <td>3.0</td>\n",
       "      <td>29367.0</td>\n",
       "      <td>white</td>\n",
       "      <td>gray</td>\n",
       "      <td>express car &amp; truck rental</td>\n",
       "      <td>33000</td>\n",
       "      <td>Wed Jan 14 2015 02:05:00 GMT-0800 (PST)</td>\n",
       "    </tr>\n",
       "    <tr>\n",
       "      <th>440235</th>\n",
       "      <td>2013</td>\n",
       "      <td>Nissan</td>\n",
       "      <td>Rogue</td>\n",
       "      <td>SV</td>\n",
       "      <td>SUV</td>\n",
       "      <td>automatic</td>\n",
       "      <td>jn8as5mt9dw038107</td>\n",
       "      <td>il</td>\n",
       "      <td>3.5</td>\n",
       "      <td>27924.0</td>\n",
       "      <td>silver</td>\n",
       "      <td>gray</td>\n",
       "      <td>ec sales,llc</td>\n",
       "      <td>14500</td>\n",
       "      <td>Thu Jan 15 2015 02:00:00 GMT-0800 (PST)</td>\n",
       "    </tr>\n",
       "  </tbody>\n",
       "</table>\n",
       "</div>"
      ],
      "text/plain": [
       "        year    make              model       trim      body transmission  \\\n",
       "440231  2013     Kia             Optima  EX Hybrid     Sedan    automatic   \n",
       "440232  2014    MINI  Cooper Countryman     S ALL4     Wagon    automatic   \n",
       "440233  2008     BMW           6 Series       650i     Coupe    automatic   \n",
       "440234  2014     Ram               2500        SLT  Crew Cab    automatic   \n",
       "440235  2013  Nissan              Rogue         SV       SUV    automatic   \n",
       "\n",
       "                      vin state  condition  odometer   color interior  \\\n",
       "440231  knagm4ad4d5057805    ca        4.5   20434.0   white    beige   \n",
       "440232  wmwzc5c55ewp36517    wi        2.9   14675.0   white    black   \n",
       "440233  wbaea53588cv90110    ca        3.7  102552.0    gray    black   \n",
       "440234  3c6ur5dl2eg243568    tx        3.0   29367.0   white     gray   \n",
       "440235  jn8as5mt9dw038107    il        3.5   27924.0  silver     gray   \n",
       "\n",
       "                             seller  sellingprice  \\\n",
       "440231      kia motors america, inc         16000   \n",
       "440232  bmw mini financial services         24250   \n",
       "440233       studio city auto group         16750   \n",
       "440234   express car & truck rental         33000   \n",
       "440235                 ec sales,llc         14500   \n",
       "\n",
       "                                       saledate  \n",
       "440231  Tue Jan 20 2015 04:30:00 GMT-0800 (PST)  \n",
       "440232  Wed Feb 11 2015 02:00:00 GMT-0800 (PST)  \n",
       "440233  Tue Mar 03 2015 04:30:00 GMT-0800 (PST)  \n",
       "440234  Wed Jan 14 2015 02:05:00 GMT-0800 (PST)  \n",
       "440235  Thu Jan 15 2015 02:00:00 GMT-0800 (PST)  "
      ]
     },
     "metadata": {},
     "output_type": "display_data"
    },
    {
     "name": "stdout",
     "output_type": "stream",
     "text": [
      "\n",
      "Общая информация\n",
      "____________________________________________________________________________________________________\n",
      "<class 'pandas.core.frame.DataFrame'>\n",
      "RangeIndex: 440236 entries, 0 to 440235\n",
      "Data columns (total 15 columns):\n",
      " #   Column        Non-Null Count   Dtype  \n",
      "---  ------        --------------   -----  \n",
      " 0   year          440236 non-null  int64  \n",
      " 1   make          432193 non-null  object \n",
      " 2   model         432113 non-null  object \n",
      " 3   trim          431899 non-null  object \n",
      " 4   body          429843 non-null  object \n",
      " 5   transmission  388775 non-null  object \n",
      " 6   vin           440236 non-null  object \n",
      " 7   state         440236 non-null  object \n",
      " 8   condition     430831 non-null  float64\n",
      " 9   odometer      440167 non-null  float64\n",
      " 10  color         439650 non-null  object \n",
      " 11  interior      439650 non-null  object \n",
      " 12  seller        440236 non-null  object \n",
      " 13  sellingprice  440236 non-null  int64  \n",
      " 14  saledate      440236 non-null  object \n",
      "dtypes: float64(2), int64(2), object(11)\n",
      "memory usage: 50.4+ MB\n"
     ]
    },
    {
     "data": {
      "text/plain": [
       "None"
      ]
     },
     "metadata": {},
     "output_type": "display_data"
    },
    {
     "name": "stdout",
     "output_type": "stream",
     "text": [
      "\n",
      "Характеристики распределения\n",
      "____________________________________________________________________________________________________\n"
     ]
    },
    {
     "data": {
      "text/html": [
       "<div>\n",
       "<style scoped>\n",
       "    .dataframe tbody tr th:only-of-type {\n",
       "        vertical-align: middle;\n",
       "    }\n",
       "\n",
       "    .dataframe tbody tr th {\n",
       "        vertical-align: top;\n",
       "    }\n",
       "\n",
       "    .dataframe thead th {\n",
       "        text-align: right;\n",
       "    }\n",
       "</style>\n",
       "<table border=\"1\" class=\"dataframe\">\n",
       "  <thead>\n",
       "    <tr style=\"text-align: right;\">\n",
       "      <th></th>\n",
       "      <th>count</th>\n",
       "      <th>mean</th>\n",
       "      <th>std</th>\n",
       "      <th>min</th>\n",
       "      <th>25%</th>\n",
       "      <th>50%</th>\n",
       "      <th>75%</th>\n",
       "      <th>max</th>\n",
       "    </tr>\n",
       "  </thead>\n",
       "  <tbody>\n",
       "    <tr>\n",
       "      <th>year</th>\n",
       "      <td>440236.0</td>\n",
       "      <td>2010.040101</td>\n",
       "      <td>3.977945</td>\n",
       "      <td>1982.0</td>\n",
       "      <td>2007.0</td>\n",
       "      <td>2012.0</td>\n",
       "      <td>2013.0</td>\n",
       "      <td>2015.0</td>\n",
       "    </tr>\n",
       "    <tr>\n",
       "      <th>condition</th>\n",
       "      <td>430831.0</td>\n",
       "      <td>3.425077</td>\n",
       "      <td>0.949973</td>\n",
       "      <td>1.0</td>\n",
       "      <td>2.7</td>\n",
       "      <td>3.6</td>\n",
       "      <td>4.2</td>\n",
       "      <td>5.0</td>\n",
       "    </tr>\n",
       "    <tr>\n",
       "      <th>odometer</th>\n",
       "      <td>440167.0</td>\n",
       "      <td>68344.421604</td>\n",
       "      <td>53542.203908</td>\n",
       "      <td>1.0</td>\n",
       "      <td>28258.0</td>\n",
       "      <td>52098.0</td>\n",
       "      <td>99272.0</td>\n",
       "      <td>999999.0</td>\n",
       "    </tr>\n",
       "    <tr>\n",
       "      <th>sellingprice</th>\n",
       "      <td>440236.0</td>\n",
       "      <td>13592.209588</td>\n",
       "      <td>9751.479098</td>\n",
       "      <td>1.0</td>\n",
       "      <td>6900.0</td>\n",
       "      <td>12100.0</td>\n",
       "      <td>18200.0</td>\n",
       "      <td>230000.0</td>\n",
       "    </tr>\n",
       "  </tbody>\n",
       "</table>\n",
       "</div>"
      ],
      "text/plain": [
       "                 count          mean           std     min      25%      50%  \\\n",
       "year          440236.0   2010.040101      3.977945  1982.0   2007.0   2012.0   \n",
       "condition     430831.0      3.425077      0.949973     1.0      2.7      3.6   \n",
       "odometer      440167.0  68344.421604  53542.203908     1.0  28258.0  52098.0   \n",
       "sellingprice  440236.0  13592.209588   9751.479098     1.0   6900.0  12100.0   \n",
       "\n",
       "                  75%       max  \n",
       "year           2013.0    2015.0  \n",
       "condition         4.2       5.0  \n",
       "odometer      99272.0  999999.0  \n",
       "sellingprice  18200.0  230000.0  "
      ]
     },
     "metadata": {},
     "output_type": "display_data"
    },
    {
     "data": {
      "text/html": [
       "<div>\n",
       "<style scoped>\n",
       "    .dataframe tbody tr th:only-of-type {\n",
       "        vertical-align: middle;\n",
       "    }\n",
       "\n",
       "    .dataframe tbody tr th {\n",
       "        vertical-align: top;\n",
       "    }\n",
       "\n",
       "    .dataframe thead th {\n",
       "        text-align: right;\n",
       "    }\n",
       "</style>\n",
       "<table border=\"1\" class=\"dataframe\">\n",
       "  <thead>\n",
       "    <tr style=\"text-align: right;\">\n",
       "      <th></th>\n",
       "      <th>count</th>\n",
       "      <th>unique</th>\n",
       "      <th>top</th>\n",
       "      <th>freq</th>\n",
       "    </tr>\n",
       "  </thead>\n",
       "  <tbody>\n",
       "    <tr>\n",
       "      <th>make</th>\n",
       "      <td>432193</td>\n",
       "      <td>92</td>\n",
       "      <td>Ford</td>\n",
       "      <td>73708</td>\n",
       "    </tr>\n",
       "    <tr>\n",
       "      <th>model</th>\n",
       "      <td>432113</td>\n",
       "      <td>959</td>\n",
       "      <td>Altima</td>\n",
       "      <td>15454</td>\n",
       "    </tr>\n",
       "    <tr>\n",
       "      <th>trim</th>\n",
       "      <td>431899</td>\n",
       "      <td>1922</td>\n",
       "      <td>Base</td>\n",
       "      <td>43853</td>\n",
       "    </tr>\n",
       "    <tr>\n",
       "      <th>body</th>\n",
       "      <td>429843</td>\n",
       "      <td>85</td>\n",
       "      <td>Sedan</td>\n",
       "      <td>157639</td>\n",
       "    </tr>\n",
       "    <tr>\n",
       "      <th>transmission</th>\n",
       "      <td>388775</td>\n",
       "      <td>2</td>\n",
       "      <td>automatic</td>\n",
       "      <td>375061</td>\n",
       "    </tr>\n",
       "    <tr>\n",
       "      <th>vin</th>\n",
       "      <td>440236</td>\n",
       "      <td>440236</td>\n",
       "      <td>2fmdk3jc4bba41556</td>\n",
       "      <td>1</td>\n",
       "    </tr>\n",
       "    <tr>\n",
       "      <th>state</th>\n",
       "      <td>440236</td>\n",
       "      <td>38</td>\n",
       "      <td>fl</td>\n",
       "      <td>65618</td>\n",
       "    </tr>\n",
       "    <tr>\n",
       "      <th>color</th>\n",
       "      <td>439650</td>\n",
       "      <td>20</td>\n",
       "      <td>black</td>\n",
       "      <td>87115</td>\n",
       "    </tr>\n",
       "    <tr>\n",
       "      <th>interior</th>\n",
       "      <td>439650</td>\n",
       "      <td>17</td>\n",
       "      <td>black</td>\n",
       "      <td>192442</td>\n",
       "    </tr>\n",
       "    <tr>\n",
       "      <th>seller</th>\n",
       "      <td>440236</td>\n",
       "      <td>13025</td>\n",
       "      <td>nissan-infiniti lt</td>\n",
       "      <td>15823</td>\n",
       "    </tr>\n",
       "    <tr>\n",
       "      <th>saledate</th>\n",
       "      <td>440236</td>\n",
       "      <td>3597</td>\n",
       "      <td>Tue Feb 10 2015 01:30:00 GMT-0800 (PST)</td>\n",
       "      <td>4209</td>\n",
       "    </tr>\n",
       "  </tbody>\n",
       "</table>\n",
       "</div>"
      ],
      "text/plain": [
       "               count  unique                                      top    freq\n",
       "make          432193      92                                     Ford   73708\n",
       "model         432113     959                                   Altima   15454\n",
       "trim          431899    1922                                     Base   43853\n",
       "body          429843      85                                    Sedan  157639\n",
       "transmission  388775       2                                automatic  375061\n",
       "vin           440236  440236                        2fmdk3jc4bba41556       1\n",
       "state         440236      38                                       fl   65618\n",
       "color         439650      20                                    black   87115\n",
       "interior      439650      17                                    black  192442\n",
       "seller        440236   13025                       nissan-infiniti lt   15823\n",
       "saledate      440236    3597  Tue Feb 10 2015 01:30:00 GMT-0800 (PST)    4209"
      ]
     },
     "metadata": {},
     "output_type": "display_data"
    },
    {
     "name": "stdout",
     "output_type": "stream",
     "text": [
      "\n",
      "Кол-во дубликатов записей: 0\n",
      "____________________________________________________________________________________________________\n"
     ]
    }
   ],
   "source": [
    "introduction(df_train)"
   ]
  },
  {
   "cell_type": "code",
   "execution_count": 428,
   "metadata": {},
   "outputs": [
    {
     "name": "stdout",
     "output_type": "stream",
     "text": [
      "Название датафрейма: Тестовые данные\n",
      "____________________________________________________________________________________________________\n"
     ]
    },
    {
     "data": {
      "text/html": [
       "<div>\n",
       "<style scoped>\n",
       "    .dataframe tbody tr th:only-of-type {\n",
       "        vertical-align: middle;\n",
       "    }\n",
       "\n",
       "    .dataframe tbody tr th {\n",
       "        vertical-align: top;\n",
       "    }\n",
       "\n",
       "    .dataframe thead th {\n",
       "        text-align: right;\n",
       "    }\n",
       "</style>\n",
       "<table border=\"1\" class=\"dataframe\">\n",
       "  <thead>\n",
       "    <tr style=\"text-align: right;\">\n",
       "      <th></th>\n",
       "      <th>year</th>\n",
       "      <th>make</th>\n",
       "      <th>model</th>\n",
       "      <th>trim</th>\n",
       "      <th>body</th>\n",
       "      <th>transmission</th>\n",
       "      <th>vin</th>\n",
       "      <th>state</th>\n",
       "      <th>condition</th>\n",
       "      <th>odometer</th>\n",
       "      <th>color</th>\n",
       "      <th>interior</th>\n",
       "      <th>seller</th>\n",
       "      <th>saledate</th>\n",
       "    </tr>\n",
       "  </thead>\n",
       "  <tbody>\n",
       "    <tr>\n",
       "      <th>110053</th>\n",
       "      <td>2011</td>\n",
       "      <td>Jeep</td>\n",
       "      <td>Wrangler</td>\n",
       "      <td>Sport</td>\n",
       "      <td>SUV</td>\n",
       "      <td>automatic</td>\n",
       "      <td>1j4aa2d17bl584330</td>\n",
       "      <td>ca</td>\n",
       "      <td>3.8</td>\n",
       "      <td>66085.0</td>\n",
       "      <td>orange</td>\n",
       "      <td>black</td>\n",
       "      <td>dtg operations inc</td>\n",
       "      <td>Thu Jan 15 2015 03:30:00 GMT-0800 (PST)</td>\n",
       "    </tr>\n",
       "    <tr>\n",
       "      <th>110054</th>\n",
       "      <td>2014</td>\n",
       "      <td>Lexus</td>\n",
       "      <td>IS 250</td>\n",
       "      <td>Base</td>\n",
       "      <td>sedan</td>\n",
       "      <td>automatic</td>\n",
       "      <td>jthbf1d23e5007526</td>\n",
       "      <td>fl</td>\n",
       "      <td>4.8</td>\n",
       "      <td>17588.0</td>\n",
       "      <td>gray</td>\n",
       "      <td>black</td>\n",
       "      <td>lexus financial services</td>\n",
       "      <td>Mon Jun 15 2015 11:00:00 GMT-0700 (PDT)</td>\n",
       "    </tr>\n",
       "    <tr>\n",
       "      <th>110055</th>\n",
       "      <td>2004</td>\n",
       "      <td>Nissan</td>\n",
       "      <td>Maxima</td>\n",
       "      <td>3.5 SL</td>\n",
       "      <td>Sedan</td>\n",
       "      <td>automatic</td>\n",
       "      <td>1n4ba41e54c831950</td>\n",
       "      <td>va</td>\n",
       "      <td>2.9</td>\n",
       "      <td>124036.0</td>\n",
       "      <td>silver</td>\n",
       "      <td>gray</td>\n",
       "      <td>shirlie slack mitsubishi</td>\n",
       "      <td>Thu Feb 05 2015 01:35:00 GMT-0800 (PST)</td>\n",
       "    </tr>\n",
       "    <tr>\n",
       "      <th>110056</th>\n",
       "      <td>2013</td>\n",
       "      <td>Nissan</td>\n",
       "      <td>370Z</td>\n",
       "      <td>Base</td>\n",
       "      <td>coupe</td>\n",
       "      <td>manual</td>\n",
       "      <td>jn1az4eh3dm382431</td>\n",
       "      <td>tx</td>\n",
       "      <td>2.2</td>\n",
       "      <td>27169.0</td>\n",
       "      <td>—</td>\n",
       "      <td>black</td>\n",
       "      <td>nissan motor acceptance corporation</td>\n",
       "      <td>Wed Jun 17 2015 03:30:00 GMT-0700 (PDT)</td>\n",
       "    </tr>\n",
       "    <tr>\n",
       "      <th>110057</th>\n",
       "      <td>2012</td>\n",
       "      <td>Chevrolet</td>\n",
       "      <td>Camaro</td>\n",
       "      <td>LS</td>\n",
       "      <td>Coupe</td>\n",
       "      <td>NaN</td>\n",
       "      <td>2g1fa1e32c9193058</td>\n",
       "      <td>pa</td>\n",
       "      <td>3.7</td>\n",
       "      <td>40399.0</td>\n",
       "      <td>blue</td>\n",
       "      <td>black</td>\n",
       "      <td>ingersoll auto of danbury</td>\n",
       "      <td>Fri Jan 09 2015 09:00:00 GMT-0800 (PST)</td>\n",
       "    </tr>\n",
       "  </tbody>\n",
       "</table>\n",
       "</div>"
      ],
      "text/plain": [
       "        year       make     model    trim   body transmission  \\\n",
       "110053  2011       Jeep  Wrangler   Sport    SUV    automatic   \n",
       "110054  2014      Lexus    IS 250    Base  sedan    automatic   \n",
       "110055  2004     Nissan    Maxima  3.5 SL  Sedan    automatic   \n",
       "110056  2013     Nissan      370Z    Base  coupe       manual   \n",
       "110057  2012  Chevrolet    Camaro      LS  Coupe          NaN   \n",
       "\n",
       "                      vin state  condition  odometer   color interior  \\\n",
       "110053  1j4aa2d17bl584330    ca        3.8   66085.0  orange    black   \n",
       "110054  jthbf1d23e5007526    fl        4.8   17588.0    gray    black   \n",
       "110055  1n4ba41e54c831950    va        2.9  124036.0  silver     gray   \n",
       "110056  jn1az4eh3dm382431    tx        2.2   27169.0       —    black   \n",
       "110057  2g1fa1e32c9193058    pa        3.7   40399.0    blue    black   \n",
       "\n",
       "                                     seller  \\\n",
       "110053                   dtg operations inc   \n",
       "110054             lexus financial services   \n",
       "110055             shirlie slack mitsubishi   \n",
       "110056  nissan motor acceptance corporation   \n",
       "110057            ingersoll auto of danbury   \n",
       "\n",
       "                                       saledate  \n",
       "110053  Thu Jan 15 2015 03:30:00 GMT-0800 (PST)  \n",
       "110054  Mon Jun 15 2015 11:00:00 GMT-0700 (PDT)  \n",
       "110055  Thu Feb 05 2015 01:35:00 GMT-0800 (PST)  \n",
       "110056  Wed Jun 17 2015 03:30:00 GMT-0700 (PDT)  \n",
       "110057  Fri Jan 09 2015 09:00:00 GMT-0800 (PST)  "
      ]
     },
     "metadata": {},
     "output_type": "display_data"
    },
    {
     "name": "stdout",
     "output_type": "stream",
     "text": [
      "\n",
      "Общая информация\n",
      "____________________________________________________________________________________________________\n",
      "<class 'pandas.core.frame.DataFrame'>\n",
      "RangeIndex: 110058 entries, 0 to 110057\n",
      "Data columns (total 14 columns):\n",
      " #   Column        Non-Null Count   Dtype  \n",
      "---  ------        --------------   -----  \n",
      " 0   year          110058 non-null  int64  \n",
      " 1   make          107997 non-null  object \n",
      " 2   model         107979 non-null  object \n",
      " 3   trim          107944 non-null  object \n",
      " 4   body          107464 non-null  object \n",
      " 5   transmission  97047 non-null   object \n",
      " 6   vin           110058 non-null  object \n",
      " 7   state         110058 non-null  object \n",
      " 8   condition     107679 non-null  float64\n",
      " 9   odometer      110039 non-null  float64\n",
      " 10  color         109900 non-null  object \n",
      " 11  interior      109900 non-null  object \n",
      " 12  seller        110058 non-null  object \n",
      " 13  saledate      110058 non-null  object \n",
      "dtypes: float64(2), int64(1), object(11)\n",
      "memory usage: 11.8+ MB\n"
     ]
    },
    {
     "data": {
      "text/plain": [
       "None"
      ]
     },
     "metadata": {},
     "output_type": "display_data"
    },
    {
     "name": "stdout",
     "output_type": "stream",
     "text": [
      "\n",
      "Характеристики распределения\n",
      "____________________________________________________________________________________________________\n"
     ]
    },
    {
     "data": {
      "text/html": [
       "<div>\n",
       "<style scoped>\n",
       "    .dataframe tbody tr th:only-of-type {\n",
       "        vertical-align: middle;\n",
       "    }\n",
       "\n",
       "    .dataframe tbody tr th {\n",
       "        vertical-align: top;\n",
       "    }\n",
       "\n",
       "    .dataframe thead th {\n",
       "        text-align: right;\n",
       "    }\n",
       "</style>\n",
       "<table border=\"1\" class=\"dataframe\">\n",
       "  <thead>\n",
       "    <tr style=\"text-align: right;\">\n",
       "      <th></th>\n",
       "      <th>count</th>\n",
       "      <th>mean</th>\n",
       "      <th>std</th>\n",
       "      <th>min</th>\n",
       "      <th>25%</th>\n",
       "      <th>50%</th>\n",
       "      <th>75%</th>\n",
       "      <th>max</th>\n",
       "    </tr>\n",
       "  </thead>\n",
       "  <tbody>\n",
       "    <tr>\n",
       "      <th>year</th>\n",
       "      <td>110058.0</td>\n",
       "      <td>2010.060005</td>\n",
       "      <td>3.960190</td>\n",
       "      <td>1982.0</td>\n",
       "      <td>2007.0</td>\n",
       "      <td>2012.0</td>\n",
       "      <td>2013.0</td>\n",
       "      <td>2015.0</td>\n",
       "    </tr>\n",
       "    <tr>\n",
       "      <th>condition</th>\n",
       "      <td>107679.0</td>\n",
       "      <td>3.423222</td>\n",
       "      <td>0.951301</td>\n",
       "      <td>1.0</td>\n",
       "      <td>2.7</td>\n",
       "      <td>3.6</td>\n",
       "      <td>4.2</td>\n",
       "      <td>5.0</td>\n",
       "    </tr>\n",
       "    <tr>\n",
       "      <th>odometer</th>\n",
       "      <td>110039.0</td>\n",
       "      <td>68074.331601</td>\n",
       "      <td>53520.988173</td>\n",
       "      <td>1.0</td>\n",
       "      <td>28313.5</td>\n",
       "      <td>51922.0</td>\n",
       "      <td>98852.5</td>\n",
       "      <td>999999.0</td>\n",
       "    </tr>\n",
       "  </tbody>\n",
       "</table>\n",
       "</div>"
      ],
      "text/plain": [
       "              count          mean           std     min      25%      50%  \\\n",
       "year       110058.0   2010.060005      3.960190  1982.0   2007.0   2012.0   \n",
       "condition  107679.0      3.423222      0.951301     1.0      2.7      3.6   \n",
       "odometer   110039.0  68074.331601  53520.988173     1.0  28313.5  51922.0   \n",
       "\n",
       "               75%       max  \n",
       "year        2013.0    2015.0  \n",
       "condition      4.2       5.0  \n",
       "odometer   98852.5  999999.0  "
      ]
     },
     "metadata": {},
     "output_type": "display_data"
    },
    {
     "data": {
      "text/html": [
       "<div>\n",
       "<style scoped>\n",
       "    .dataframe tbody tr th:only-of-type {\n",
       "        vertical-align: middle;\n",
       "    }\n",
       "\n",
       "    .dataframe tbody tr th {\n",
       "        vertical-align: top;\n",
       "    }\n",
       "\n",
       "    .dataframe thead th {\n",
       "        text-align: right;\n",
       "    }\n",
       "</style>\n",
       "<table border=\"1\" class=\"dataframe\">\n",
       "  <thead>\n",
       "    <tr style=\"text-align: right;\">\n",
       "      <th></th>\n",
       "      <th>count</th>\n",
       "      <th>unique</th>\n",
       "      <th>top</th>\n",
       "      <th>freq</th>\n",
       "    </tr>\n",
       "  </thead>\n",
       "  <tbody>\n",
       "    <tr>\n",
       "      <th>make</th>\n",
       "      <td>107997</td>\n",
       "      <td>85</td>\n",
       "      <td>Ford</td>\n",
       "      <td>18383</td>\n",
       "    </tr>\n",
       "    <tr>\n",
       "      <th>model</th>\n",
       "      <td>107979</td>\n",
       "      <td>824</td>\n",
       "      <td>Altima</td>\n",
       "      <td>3736</td>\n",
       "    </tr>\n",
       "    <tr>\n",
       "      <th>trim</th>\n",
       "      <td>107944</td>\n",
       "      <td>1496</td>\n",
       "      <td>Base</td>\n",
       "      <td>11007</td>\n",
       "    </tr>\n",
       "    <tr>\n",
       "      <th>body</th>\n",
       "      <td>107464</td>\n",
       "      <td>77</td>\n",
       "      <td>Sedan</td>\n",
       "      <td>39255</td>\n",
       "    </tr>\n",
       "    <tr>\n",
       "      <th>transmission</th>\n",
       "      <td>97047</td>\n",
       "      <td>2</td>\n",
       "      <td>automatic</td>\n",
       "      <td>93584</td>\n",
       "    </tr>\n",
       "    <tr>\n",
       "      <th>vin</th>\n",
       "      <td>110058</td>\n",
       "      <td>110058</td>\n",
       "      <td>1g6dp567450124779</td>\n",
       "      <td>1</td>\n",
       "    </tr>\n",
       "    <tr>\n",
       "      <th>state</th>\n",
       "      <td>110058</td>\n",
       "      <td>38</td>\n",
       "      <td>fl</td>\n",
       "      <td>16295</td>\n",
       "    </tr>\n",
       "    <tr>\n",
       "      <th>color</th>\n",
       "      <td>109900</td>\n",
       "      <td>20</td>\n",
       "      <td>black</td>\n",
       "      <td>22006</td>\n",
       "    </tr>\n",
       "    <tr>\n",
       "      <th>interior</th>\n",
       "      <td>109900</td>\n",
       "      <td>17</td>\n",
       "      <td>black</td>\n",
       "      <td>48176</td>\n",
       "    </tr>\n",
       "    <tr>\n",
       "      <th>seller</th>\n",
       "      <td>110058</td>\n",
       "      <td>7623</td>\n",
       "      <td>ford motor credit company,llc</td>\n",
       "      <td>3858</td>\n",
       "    </tr>\n",
       "    <tr>\n",
       "      <th>saledate</th>\n",
       "      <td>110058</td>\n",
       "      <td>2817</td>\n",
       "      <td>Tue Feb 17 2015 01:30:00 GMT-0800 (PST)</td>\n",
       "      <td>1039</td>\n",
       "    </tr>\n",
       "  </tbody>\n",
       "</table>\n",
       "</div>"
      ],
      "text/plain": [
       "               count  unique                                      top   freq\n",
       "make          107997      85                                     Ford  18383\n",
       "model         107979     824                                   Altima   3736\n",
       "trim          107944    1496                                     Base  11007\n",
       "body          107464      77                                    Sedan  39255\n",
       "transmission   97047       2                                automatic  93584\n",
       "vin           110058  110058                        1g6dp567450124779      1\n",
       "state         110058      38                                       fl  16295\n",
       "color         109900      20                                    black  22006\n",
       "interior      109900      17                                    black  48176\n",
       "seller        110058    7623            ford motor credit company,llc   3858\n",
       "saledate      110058    2817  Tue Feb 17 2015 01:30:00 GMT-0800 (PST)   1039"
      ]
     },
     "metadata": {},
     "output_type": "display_data"
    },
    {
     "name": "stdout",
     "output_type": "stream",
     "text": [
      "\n",
      "Кол-во дубликатов записей: 0\n",
      "____________________________________________________________________________________________________\n"
     ]
    }
   ],
   "source": [
    "introduction(df_test)"
   ]
  },
  {
   "cell_type": "markdown",
   "metadata": {},
   "source": [
    "**Для удобства предобработки данных объединим тренировочные и тестовые данные** "
   ]
  },
  {
   "cell_type": "code",
   "execution_count": 429,
   "metadata": {},
   "outputs": [
    {
     "name": "stdout",
     "output_type": "stream",
     "text": [
      "Название датафрейма: Объединенные данные\n",
      "____________________________________________________________________________________________________\n"
     ]
    },
    {
     "data": {
      "text/html": [
       "<div>\n",
       "<style scoped>\n",
       "    .dataframe tbody tr th:only-of-type {\n",
       "        vertical-align: middle;\n",
       "    }\n",
       "\n",
       "    .dataframe tbody tr th {\n",
       "        vertical-align: top;\n",
       "    }\n",
       "\n",
       "    .dataframe thead th {\n",
       "        text-align: right;\n",
       "    }\n",
       "</style>\n",
       "<table border=\"1\" class=\"dataframe\">\n",
       "  <thead>\n",
       "    <tr style=\"text-align: right;\">\n",
       "      <th></th>\n",
       "      <th>year</th>\n",
       "      <th>make</th>\n",
       "      <th>model</th>\n",
       "      <th>trim</th>\n",
       "      <th>body</th>\n",
       "      <th>transmission</th>\n",
       "      <th>vin</th>\n",
       "      <th>state</th>\n",
       "      <th>condition</th>\n",
       "      <th>odometer</th>\n",
       "      <th>color</th>\n",
       "      <th>interior</th>\n",
       "      <th>seller</th>\n",
       "      <th>sellingprice</th>\n",
       "      <th>saledate</th>\n",
       "    </tr>\n",
       "  </thead>\n",
       "  <tbody>\n",
       "    <tr>\n",
       "      <th>110053</th>\n",
       "      <td>2011</td>\n",
       "      <td>Jeep</td>\n",
       "      <td>Wrangler</td>\n",
       "      <td>Sport</td>\n",
       "      <td>SUV</td>\n",
       "      <td>automatic</td>\n",
       "      <td>1j4aa2d17bl584330</td>\n",
       "      <td>ca</td>\n",
       "      <td>3.8</td>\n",
       "      <td>66085.0</td>\n",
       "      <td>orange</td>\n",
       "      <td>black</td>\n",
       "      <td>dtg operations inc</td>\n",
       "      <td>NaN</td>\n",
       "      <td>Thu Jan 15 2015 03:30:00 GMT-0800 (PST)</td>\n",
       "    </tr>\n",
       "    <tr>\n",
       "      <th>110054</th>\n",
       "      <td>2014</td>\n",
       "      <td>Lexus</td>\n",
       "      <td>IS 250</td>\n",
       "      <td>Base</td>\n",
       "      <td>sedan</td>\n",
       "      <td>automatic</td>\n",
       "      <td>jthbf1d23e5007526</td>\n",
       "      <td>fl</td>\n",
       "      <td>4.8</td>\n",
       "      <td>17588.0</td>\n",
       "      <td>gray</td>\n",
       "      <td>black</td>\n",
       "      <td>lexus financial services</td>\n",
       "      <td>NaN</td>\n",
       "      <td>Mon Jun 15 2015 11:00:00 GMT-0700 (PDT)</td>\n",
       "    </tr>\n",
       "    <tr>\n",
       "      <th>110055</th>\n",
       "      <td>2004</td>\n",
       "      <td>Nissan</td>\n",
       "      <td>Maxima</td>\n",
       "      <td>3.5 SL</td>\n",
       "      <td>Sedan</td>\n",
       "      <td>automatic</td>\n",
       "      <td>1n4ba41e54c831950</td>\n",
       "      <td>va</td>\n",
       "      <td>2.9</td>\n",
       "      <td>124036.0</td>\n",
       "      <td>silver</td>\n",
       "      <td>gray</td>\n",
       "      <td>shirlie slack mitsubishi</td>\n",
       "      <td>NaN</td>\n",
       "      <td>Thu Feb 05 2015 01:35:00 GMT-0800 (PST)</td>\n",
       "    </tr>\n",
       "    <tr>\n",
       "      <th>110056</th>\n",
       "      <td>2013</td>\n",
       "      <td>Nissan</td>\n",
       "      <td>370Z</td>\n",
       "      <td>Base</td>\n",
       "      <td>coupe</td>\n",
       "      <td>manual</td>\n",
       "      <td>jn1az4eh3dm382431</td>\n",
       "      <td>tx</td>\n",
       "      <td>2.2</td>\n",
       "      <td>27169.0</td>\n",
       "      <td>—</td>\n",
       "      <td>black</td>\n",
       "      <td>nissan motor acceptance corporation</td>\n",
       "      <td>NaN</td>\n",
       "      <td>Wed Jun 17 2015 03:30:00 GMT-0700 (PDT)</td>\n",
       "    </tr>\n",
       "    <tr>\n",
       "      <th>110057</th>\n",
       "      <td>2012</td>\n",
       "      <td>Chevrolet</td>\n",
       "      <td>Camaro</td>\n",
       "      <td>LS</td>\n",
       "      <td>Coupe</td>\n",
       "      <td>NaN</td>\n",
       "      <td>2g1fa1e32c9193058</td>\n",
       "      <td>pa</td>\n",
       "      <td>3.7</td>\n",
       "      <td>40399.0</td>\n",
       "      <td>blue</td>\n",
       "      <td>black</td>\n",
       "      <td>ingersoll auto of danbury</td>\n",
       "      <td>NaN</td>\n",
       "      <td>Fri Jan 09 2015 09:00:00 GMT-0800 (PST)</td>\n",
       "    </tr>\n",
       "  </tbody>\n",
       "</table>\n",
       "</div>"
      ],
      "text/plain": [
       "        year       make     model    trim   body transmission  \\\n",
       "110053  2011       Jeep  Wrangler   Sport    SUV    automatic   \n",
       "110054  2014      Lexus    IS 250    Base  sedan    automatic   \n",
       "110055  2004     Nissan    Maxima  3.5 SL  Sedan    automatic   \n",
       "110056  2013     Nissan      370Z    Base  coupe       manual   \n",
       "110057  2012  Chevrolet    Camaro      LS  Coupe          NaN   \n",
       "\n",
       "                      vin state  condition  odometer   color interior  \\\n",
       "110053  1j4aa2d17bl584330    ca        3.8   66085.0  orange    black   \n",
       "110054  jthbf1d23e5007526    fl        4.8   17588.0    gray    black   \n",
       "110055  1n4ba41e54c831950    va        2.9  124036.0  silver     gray   \n",
       "110056  jn1az4eh3dm382431    tx        2.2   27169.0       —    black   \n",
       "110057  2g1fa1e32c9193058    pa        3.7   40399.0    blue    black   \n",
       "\n",
       "                                     seller  sellingprice  \\\n",
       "110053                   dtg operations inc           NaN   \n",
       "110054             lexus financial services           NaN   \n",
       "110055             shirlie slack mitsubishi           NaN   \n",
       "110056  nissan motor acceptance corporation           NaN   \n",
       "110057            ingersoll auto of danbury           NaN   \n",
       "\n",
       "                                       saledate  \n",
       "110053  Thu Jan 15 2015 03:30:00 GMT-0800 (PST)  \n",
       "110054  Mon Jun 15 2015 11:00:00 GMT-0700 (PDT)  \n",
       "110055  Thu Feb 05 2015 01:35:00 GMT-0800 (PST)  \n",
       "110056  Wed Jun 17 2015 03:30:00 GMT-0700 (PDT)  \n",
       "110057  Fri Jan 09 2015 09:00:00 GMT-0800 (PST)  "
      ]
     },
     "metadata": {},
     "output_type": "display_data"
    },
    {
     "name": "stdout",
     "output_type": "stream",
     "text": [
      "\n",
      "Общая информация\n",
      "____________________________________________________________________________________________________\n",
      "<class 'pandas.core.frame.DataFrame'>\n",
      "Int64Index: 550294 entries, 0 to 110057\n",
      "Data columns (total 15 columns):\n",
      " #   Column        Non-Null Count   Dtype  \n",
      "---  ------        --------------   -----  \n",
      " 0   year          550294 non-null  int64  \n",
      " 1   make          540190 non-null  object \n",
      " 2   model         540092 non-null  object \n",
      " 3   trim          539843 non-null  object \n",
      " 4   body          537307 non-null  object \n",
      " 5   transmission  485822 non-null  object \n",
      " 6   vin           550294 non-null  object \n",
      " 7   state         550294 non-null  object \n",
      " 8   condition     538510 non-null  float64\n",
      " 9   odometer      550206 non-null  float64\n",
      " 10  color         549550 non-null  object \n",
      " 11  interior      549550 non-null  object \n",
      " 12  seller        550294 non-null  object \n",
      " 13  sellingprice  440236 non-null  float64\n",
      " 14  saledate      550294 non-null  object \n",
      "dtypes: float64(3), int64(1), object(11)\n",
      "memory usage: 67.2+ MB\n"
     ]
    },
    {
     "data": {
      "text/plain": [
       "None"
      ]
     },
     "metadata": {},
     "output_type": "display_data"
    },
    {
     "name": "stdout",
     "output_type": "stream",
     "text": [
      "\n",
      "Характеристики распределения\n",
      "____________________________________________________________________________________________________\n"
     ]
    },
    {
     "data": {
      "text/html": [
       "<div>\n",
       "<style scoped>\n",
       "    .dataframe tbody tr th:only-of-type {\n",
       "        vertical-align: middle;\n",
       "    }\n",
       "\n",
       "    .dataframe tbody tr th {\n",
       "        vertical-align: top;\n",
       "    }\n",
       "\n",
       "    .dataframe thead th {\n",
       "        text-align: right;\n",
       "    }\n",
       "</style>\n",
       "<table border=\"1\" class=\"dataframe\">\n",
       "  <thead>\n",
       "    <tr style=\"text-align: right;\">\n",
       "      <th></th>\n",
       "      <th>count</th>\n",
       "      <th>mean</th>\n",
       "      <th>std</th>\n",
       "      <th>min</th>\n",
       "      <th>25%</th>\n",
       "      <th>50%</th>\n",
       "      <th>75%</th>\n",
       "      <th>max</th>\n",
       "    </tr>\n",
       "  </thead>\n",
       "  <tbody>\n",
       "    <tr>\n",
       "      <th>year</th>\n",
       "      <td>550294.0</td>\n",
       "      <td>2010.044082</td>\n",
       "      <td>3.974405</td>\n",
       "      <td>1982.0</td>\n",
       "      <td>2007.0</td>\n",
       "      <td>2012.0</td>\n",
       "      <td>2013.0</td>\n",
       "      <td>2015.0</td>\n",
       "    </tr>\n",
       "    <tr>\n",
       "      <th>condition</th>\n",
       "      <td>538510.0</td>\n",
       "      <td>3.424706</td>\n",
       "      <td>0.950238</td>\n",
       "      <td>1.0</td>\n",
       "      <td>2.7</td>\n",
       "      <td>3.6</td>\n",
       "      <td>4.2</td>\n",
       "      <td>5.0</td>\n",
       "    </tr>\n",
       "    <tr>\n",
       "      <th>odometer</th>\n",
       "      <td>550206.0</td>\n",
       "      <td>68290.404683</td>\n",
       "      <td>53538.021892</td>\n",
       "      <td>1.0</td>\n",
       "      <td>28267.0</td>\n",
       "      <td>52061.0</td>\n",
       "      <td>99197.0</td>\n",
       "      <td>999999.0</td>\n",
       "    </tr>\n",
       "    <tr>\n",
       "      <th>sellingprice</th>\n",
       "      <td>440236.0</td>\n",
       "      <td>13592.209588</td>\n",
       "      <td>9751.479098</td>\n",
       "      <td>1.0</td>\n",
       "      <td>6900.0</td>\n",
       "      <td>12100.0</td>\n",
       "      <td>18200.0</td>\n",
       "      <td>230000.0</td>\n",
       "    </tr>\n",
       "  </tbody>\n",
       "</table>\n",
       "</div>"
      ],
      "text/plain": [
       "                 count          mean           std     min      25%      50%  \\\n",
       "year          550294.0   2010.044082      3.974405  1982.0   2007.0   2012.0   \n",
       "condition     538510.0      3.424706      0.950238     1.0      2.7      3.6   \n",
       "odometer      550206.0  68290.404683  53538.021892     1.0  28267.0  52061.0   \n",
       "sellingprice  440236.0  13592.209588   9751.479098     1.0   6900.0  12100.0   \n",
       "\n",
       "                  75%       max  \n",
       "year           2013.0    2015.0  \n",
       "condition         4.2       5.0  \n",
       "odometer      99197.0  999999.0  \n",
       "sellingprice  18200.0  230000.0  "
      ]
     },
     "metadata": {},
     "output_type": "display_data"
    },
    {
     "data": {
      "text/html": [
       "<div>\n",
       "<style scoped>\n",
       "    .dataframe tbody tr th:only-of-type {\n",
       "        vertical-align: middle;\n",
       "    }\n",
       "\n",
       "    .dataframe tbody tr th {\n",
       "        vertical-align: top;\n",
       "    }\n",
       "\n",
       "    .dataframe thead th {\n",
       "        text-align: right;\n",
       "    }\n",
       "</style>\n",
       "<table border=\"1\" class=\"dataframe\">\n",
       "  <thead>\n",
       "    <tr style=\"text-align: right;\">\n",
       "      <th></th>\n",
       "      <th>count</th>\n",
       "      <th>unique</th>\n",
       "      <th>top</th>\n",
       "      <th>freq</th>\n",
       "    </tr>\n",
       "  </thead>\n",
       "  <tbody>\n",
       "    <tr>\n",
       "      <th>make</th>\n",
       "      <td>540190</td>\n",
       "      <td>96</td>\n",
       "      <td>Ford</td>\n",
       "      <td>92091</td>\n",
       "    </tr>\n",
       "    <tr>\n",
       "      <th>model</th>\n",
       "      <td>540092</td>\n",
       "      <td>973</td>\n",
       "      <td>Altima</td>\n",
       "      <td>19190</td>\n",
       "    </tr>\n",
       "    <tr>\n",
       "      <th>trim</th>\n",
       "      <td>539843</td>\n",
       "      <td>1975</td>\n",
       "      <td>Base</td>\n",
       "      <td>54860</td>\n",
       "    </tr>\n",
       "    <tr>\n",
       "      <th>body</th>\n",
       "      <td>537307</td>\n",
       "      <td>85</td>\n",
       "      <td>Sedan</td>\n",
       "      <td>196894</td>\n",
       "    </tr>\n",
       "    <tr>\n",
       "      <th>transmission</th>\n",
       "      <td>485822</td>\n",
       "      <td>2</td>\n",
       "      <td>automatic</td>\n",
       "      <td>468645</td>\n",
       "    </tr>\n",
       "    <tr>\n",
       "      <th>vin</th>\n",
       "      <td>550294</td>\n",
       "      <td>550294</td>\n",
       "      <td>2fmdk3jc4bba41556</td>\n",
       "      <td>1</td>\n",
       "    </tr>\n",
       "    <tr>\n",
       "      <th>state</th>\n",
       "      <td>550294</td>\n",
       "      <td>38</td>\n",
       "      <td>fl</td>\n",
       "      <td>81913</td>\n",
       "    </tr>\n",
       "    <tr>\n",
       "      <th>color</th>\n",
       "      <td>549550</td>\n",
       "      <td>20</td>\n",
       "      <td>black</td>\n",
       "      <td>109121</td>\n",
       "    </tr>\n",
       "    <tr>\n",
       "      <th>interior</th>\n",
       "      <td>549550</td>\n",
       "      <td>17</td>\n",
       "      <td>black</td>\n",
       "      <td>240618</td>\n",
       "    </tr>\n",
       "    <tr>\n",
       "      <th>seller</th>\n",
       "      <td>550294</td>\n",
       "      <td>14093</td>\n",
       "      <td>nissan-infiniti lt</td>\n",
       "      <td>19675</td>\n",
       "    </tr>\n",
       "    <tr>\n",
       "      <th>saledate</th>\n",
       "      <td>550294</td>\n",
       "      <td>3734</td>\n",
       "      <td>Tue Feb 10 2015 01:30:00 GMT-0800 (PST)</td>\n",
       "      <td>5214</td>\n",
       "    </tr>\n",
       "  </tbody>\n",
       "</table>\n",
       "</div>"
      ],
      "text/plain": [
       "               count  unique                                      top    freq\n",
       "make          540190      96                                     Ford   92091\n",
       "model         540092     973                                   Altima   19190\n",
       "trim          539843    1975                                     Base   54860\n",
       "body          537307      85                                    Sedan  196894\n",
       "transmission  485822       2                                automatic  468645\n",
       "vin           550294  550294                        2fmdk3jc4bba41556       1\n",
       "state         550294      38                                       fl   81913\n",
       "color         549550      20                                    black  109121\n",
       "interior      549550      17                                    black  240618\n",
       "seller        550294   14093                       nissan-infiniti lt   19675\n",
       "saledate      550294    3734  Tue Feb 10 2015 01:30:00 GMT-0800 (PST)    5214"
      ]
     },
     "metadata": {},
     "output_type": "display_data"
    },
    {
     "name": "stdout",
     "output_type": "stream",
     "text": [
      "\n",
      "Кол-во дубликатов записей: 0\n",
      "____________________________________________________________________________________________________\n"
     ]
    }
   ],
   "source": [
    "df = pd.concat([df_train, df_test], sort=False, axis=0)\n",
    "df.name = 'Объединенные данные'\n",
    "introduction(df)"
   ]
  },
  {
   "cell_type": "markdown",
   "metadata": {},
   "source": [
    "## 2. Предобработка данных"
   ]
  },
  {
   "cell_type": "markdown",
   "metadata": {},
   "source": [
    "### 2.1. Обработка категориальных переменных"
   ]
  },
  {
   "cell_type": "markdown",
   "metadata": {},
   "source": [
    "#### 2.1.1. Колонка `make`"
   ]
  },
  {
   "cell_type": "code",
   "execution_count": 430,
   "metadata": {},
   "outputs": [
    {
     "name": "stdout",
     "output_type": "stream",
     "text": [
      "Кол-во уникальных значений на этом шаге: 67 \n",
      "\n",
      "['acura', 'airstream', 'aston martin', 'audi', 'bentley', 'bmw', 'buick', 'cadillac', 'chev truck', 'chevrolet', 'chrysler', 'daewoo', 'dodge', 'dodge tk', 'dot', 'ferrari', 'fiat', 'fisker', 'ford', 'ford tk', 'ford truck', 'geo', 'gmc', 'gmc truck', 'honda', 'hummer', 'hyundai', 'hyundai tk', 'infiniti', 'isuzu', 'jaguar', 'jeep', 'kia', 'lamborghini', 'land rover', 'landrover', 'lexus', 'lincoln', 'lotus', 'maserati', 'mazda', 'mazda tk', 'mercedes', 'mercedes-b', 'mercedes-benz', 'mercury', 'mini', 'mitsubishi', 'nissan', 'oldsmobile', 'other', 'plymouth', 'pontiac', 'porsche', 'ram', 'rolls-royce', 'saab', 'saturn', 'scion', 'smart', 'subaru', 'suzuki', 'tesla', 'toyota', 'volkswagen', 'volvo', 'vw']\n"
     ]
    }
   ],
   "source": [
    "#cat_features = list(df.select_dtypes(include='object').columns)\n",
    "#df[cat_features] = df[cat_features].fillna('other')\n",
    "# Присвоим пропускам значение 'other'\n",
    "df['make'] = df['make'].fillna('other')\n",
    "# Сделаем все буквы в названиях строчными\n",
    "df['make'] = df['make'].str.lower()\n",
    "print('Кол-во уникальных значений на этом шаге:', df['make'].nunique(),'\\n')\n",
    "# Выведем отсортированные уникальные значения, это поможет увидеть неявные дубликаты\n",
    "a = df['make'].unique()\n",
    "print(sorted(a))"
   ]
  },
  {
   "cell_type": "markdown",
   "metadata": {},
   "source": [
    "В колонке остаются неявные дубликаты, имеет смысл их обработать"
   ]
  },
  {
   "cell_type": "code",
   "execution_count": 431,
   "metadata": {},
   "outputs": [
    {
     "name": "stdout",
     "output_type": "stream",
     "text": [
      "Кол-во уникальных значений на этом шаге: 56 \n",
      "\n",
      "['acura', 'airstream', 'aston martin', 'audi', 'bentley', 'bmw', 'buick', 'cadillac', 'chevrolet', 'chrysler', 'daewoo', 'dodge', 'dot', 'ferrari', 'fiat', 'fisker', 'ford', 'geo', 'gmc', 'honda', 'hummer', 'hyundai', 'infiniti', 'isuzu', 'jaguar', 'jeep', 'kia', 'lamborghini', 'land rover', 'lexus', 'lincoln', 'lotus', 'maserati', 'mazda', 'mercedes', 'mercury', 'mini', 'mitsubishi', 'nissan', 'oldsmobile', 'other', 'plymouth', 'pontiac', 'porsche', 'ram', 'rolls-royce', 'saab', 'saturn', 'scion', 'smart', 'subaru', 'suzuki', 'tesla', 'toyota', 'volkswagen', 'volvo']\n"
     ]
    }
   ],
   "source": [
    "# Словарь для унификации названий производителей\n",
    "correct_make = {'dodge tk':'dodge', 'ford truck':'ford', 'gmc truck':'gmc', 'landrover':'land rover', 'mazda tk':'mazda', 'mercedes-benz':'mercedes',\n",
    "                'mercedes-b':'mercedes', 'vw':'volkswagen', 'chev truck': 'chevrolet', 'ford tk': 'ford', 'hyundai tk': 'hyundai'}\n",
    "# Функция, которая унифицирует название производителя\n",
    "def universal_make (make):\n",
    "    try:\n",
    "        for i in list(correct_make.keys()):\n",
    "            make = make.replace(i, correct_make[i])\n",
    "        return make\n",
    "    except:\n",
    "        return make\n",
    "# Применим функцию к столбцу 'make'\n",
    "df['make'] = df['make'].apply(universal_make)\n",
    "print('Кол-во уникальных значений на этом шаге:', df['make'].nunique(),'\\n')\n",
    "a = df['make'].unique()\n",
    "print(sorted(a))"
   ]
  },
  {
   "cell_type": "markdown",
   "metadata": {},
   "source": [
    "#### 2.1.2. Колонка `model`"
   ]
  },
  {
   "cell_type": "code",
   "execution_count": 432,
   "metadata": {},
   "outputs": [
    {
     "name": "stdout",
     "output_type": "stream",
     "text": [
      "Кол-во уникальных значений на этом шаге: 852 \n",
      "\n",
      "['190-class', '300-class', '300e', '400-class', '420-class', '420sel', '500-class', 'b-class electric drive', 'b200', 'c-class', 'c230', 'c230wz', 'c240s', 'c240w', 'cl-class', 'cl55', 'cla-class', 'clk-class', 'cls-class', 'e-class', 'e300dt', 'g-class', 'g500', 'g55', 'gl-class', 'gla-class', 'glk-class', 'm-class', 'ml55 amg', 'r-class', 's-class', 's55', 'sl-class', 'sl55', 'slk-class', 'sls amg', 'sls amg gt', 'sprinter']\n"
     ]
    }
   ],
   "source": [
    "# Присвоим пропускам значение 'other'\n",
    "df['model'] = df['model'].fillna('other')\n",
    "# Сделаем все буквы в названиях строчными\n",
    "df['model'] = df['model'].str.lower()\n",
    "print('Кол-во уникальных значений на этом шаге:', df['model'].nunique(),'\\n')\n",
    "# Выведем отсортированные уникальные значения, возможно это поможет увидеть неявные дубликаты\n",
    "a = df.query('make == \"mercedes\"')['model'].unique()\n",
    "#a = df['model'].unique()\n",
    "print(sorted(a))"
   ]
  },
  {
   "cell_type": "markdown",
   "metadata": {},
   "source": [
    "Скорее всего, в колонке остались неявные дубликаты. Но количество записей слишком велико, чтобы обработать их вручную. Оставим как есть."
   ]
  },
  {
   "cell_type": "markdown",
   "metadata": {},
   "source": [
    "#### 2.1.3. Колонка `trim`"
   ]
  },
  {
   "cell_type": "code",
   "execution_count": 433,
   "metadata": {},
   "outputs": [
    {
     "name": "stdout",
     "output_type": "stream",
     "text": [
      "Кол-во уникальных значений на этом шаге: 1902 \n",
      "\n",
      "['190e 2.3', '2500 144 wb cargo', '2500 144 wb crew', '2500 144 wb passenger', '2500 170 wb cargo', '2500 170 wb passenger', '300e', '300e 2.8', '300se', '300sl', '3500', '3500 170 wb cargo', '400sel', '420sel', '500sl', 'amg', 'base', 'c220', 'c230', 'c230 kompressor', 'c230 sport', 'c240', 'c240 4matic', 'c240 luxury', 'c240 luxury 4matic', 'c250', 'c250 sport', 'c280', 'c280 luxury', 'c280 luxury 4matic', 'c300', 'c300 luxury', 'c300 luxury 4matic', 'c300 sport', 'c300 sport 4matic', 'c32 amg', 'c320', 'c320 4matic', 'c320 luxury 4matic', 'c320 sport', 'c350', 'c350 4matic', 'c350 luxury', 'c350 luxury 4matic', 'c350 sport', 'c400 sport 4matic', 'c55 amg', 'c63 amg', 'cl500', 'cl55 amg', 'cl550', 'cl550 4matic', 'cl600', 'cl63 amg', 'cl65 amg', 'cla250', 'cla250 4matic', 'cla45 amg', 'clk320', 'clk350', 'clk430', 'clk500', 'clk55 amg', 'clk550', 'clk63 amg', 'cls500', 'cls55 amg', 'cls550', 'cls550 4matic', 'cls63 amg', 'cls63 amg 4matic s-model', 'e250 luxury bluetec 4matic', 'e250 sport bluetec', 'e300d', 'e320', 'e320 4matic', 'e320 bluetec', 'e320 cdi', 'e350', 'e350 4matic', 'e350 bluetec', 'e350 luxury', 'e350 luxury 4matic', 'e350 sport', 'e350 sport 4matic', 'e350 sport bluetec', 'e400 hybrid', 'e400 sport hybrid', 'e420', 'e430', 'e430 4matic', 'e500', 'e500 4matic', 'e55 amg', 'e550', 'e550 4matic', 'e550 sport 4matic', 'e63 amg', 'e63 amg 4matic', 'e63 amg 4matic s-model', 'g500', 'g55 amg', 'g550', 'g63 amg', 'gl320 bluetec', 'gl320 cdi', 'gl350 bluetec', 'gl350 bluetec 4matic', 'gl450', 'gl450 4matic', 'gl550', 'gl550 4matic', 'gl63 amg', 'gla250 4matic', 'glk250 bluetec 4matic', 'glk350', 'glk350 4matic', 'ml320', 'ml320 bluetec', 'ml320 cdi', 'ml350', 'ml350 4matic', 'ml350 bluetec', 'ml350 bluetec 4matic', 'ml430', 'ml500', 'ml55 amg', 'ml550', 'ml550 4matic', 'ml63 amg', 'other', 'r320 bluetec', 'r320 cdi', 'r350', 'r350 4matic', 'r350 bluetec', 'r500', 's320 lwb', 's320 swb', 's350', 's350 bluetec 4matic', 's400 hybrid', 's420', 's430', 's430 4matic', 's500', 's500 4matic', 's55 amg', 's550', 's550 4matic', 's600', 's63 amg', 's63 amg 4matic', 's65 amg', 'sl320', 'sl500', 'sl55 amg', 'sl550', 'sl600', 'sl63 amg', 'sl65 amg', 'slk230', 'slk230 kompressor', 'slk250', 'slk280', 'slk300', 'slk320', 'slk350', 'slk55 amg']\n"
     ]
    }
   ],
   "source": [
    "# Присвоим пропускам значение 'other'\n",
    "df['trim'] = df['trim'].fillna('other')\n",
    "# Сделаем все буквы в названиях строчными\n",
    "df['trim'] = df['trim'].str.lower()\n",
    "print('Кол-во уникальных значений на этом шаге:', df['trim'].nunique(),'\\n')\n",
    "# Выведем отсортированные уникальные значения, возможно это поможет увидеть неявные дубликаты\n",
    "a = df.query('make == \"mercedes\"')['trim'].unique()\n",
    "#a = df['model'].unique()\n",
    "print(sorted(a))"
   ]
  },
  {
   "cell_type": "markdown",
   "metadata": {},
   "source": [
    "#### 2.1.4. Колонка `body`"
   ]
  },
  {
   "cell_type": "code",
   "execution_count": 434,
   "metadata": {},
   "outputs": [
    {
     "name": "stdout",
     "output_type": "stream",
     "text": [
      "Кол-во уникальных значений на этом шаге: 46 \n",
      "\n",
      "['access cab', 'beetle convertible', 'cab plus', 'cab plus 4', 'club cab', 'convertible', 'coupe', 'crew cab', 'crewmax cab', 'cts coupe', 'cts wagon', 'cts-v coupe', 'cts-v wagon', 'double cab', 'e-series van', 'elantra coupe', 'extended cab', 'g convertible', 'g coupe', 'g sedan', 'g37 convertible', 'g37 coupe', 'genesis coupe', 'granturismo convertible', 'hatchback', 'king cab', 'koup', 'mega cab', 'minivan', 'other', 'promaster cargo van', 'q60 convertible', 'q60 coupe', 'quad cab', 'ram van', 'regular cab', 'regular-cab', 'sedan', 'supercab', 'supercrew', 'suv', 'transit van', 'tsx sport wagon', 'van', 'wagon', 'xtracab']\n"
     ]
    }
   ],
   "source": [
    "# Присвоим пропускам значение 'other'\n",
    "df['body'] = df['body'].fillna('other')\n",
    "# Сделаем все буквы в названиях строчными\n",
    "df['body'] = df['body'].str.lower()\n",
    "print('Кол-во уникальных значений на этом шаге:', df['body'].nunique(),'\\n')\n",
    "# Выведем отсортированные уникальные значения, это поможет увидеть неявные дубликаты\n",
    "a = df['body'].unique()\n",
    "print(sorted(a))"
   ]
  },
  {
   "cell_type": "markdown",
   "metadata": {},
   "source": [
    "#### 2.1.5. Колонка `transmission`"
   ]
  },
  {
   "cell_type": "code",
   "execution_count": 435,
   "metadata": {},
   "outputs": [
    {
     "data": {
      "text/plain": [
       "array(['automatic', 'other', 'manual'], dtype=object)"
      ]
     },
     "execution_count": 435,
     "metadata": {},
     "output_type": "execute_result"
    }
   ],
   "source": [
    "# Присвоим пропускам значение 'other'\n",
    "df['transmission'] = df['transmission'].fillna('other')\n",
    "df['transmission'].unique()"
   ]
  },
  {
   "cell_type": "markdown",
   "metadata": {},
   "source": [
    "#### 2.1.6. Колонка `color`"
   ]
  },
  {
   "cell_type": "code",
   "execution_count": 436,
   "metadata": {},
   "outputs": [],
   "source": [
    "a = df['color'].unique()"
   ]
  },
  {
   "cell_type": "code",
   "execution_count": 437,
   "metadata": {},
   "outputs": [
    {
     "name": "stdout",
     "output_type": "stream",
     "text": [
      "Кол-во уникальных значений на этом шаге: 20 \n",
      "\n",
      "['beige', 'black', 'blue', 'brown', 'burgundy', 'charcoal', 'gold', 'gray', 'green', 'lime', 'off-white', 'orange', 'pink', 'purple', 'red', 'silver', 'turquoise', 'white', 'yellow', '—']\n"
     ]
    }
   ],
   "source": [
    "# Чтобы не плодить лишние значения, присвоим пропускам значение '—'\n",
    "df['color'] = df['color'].fillna('—')\n",
    "print('Кол-во уникальных значений на этом шаге:', df['color'].nunique(),'\\n')\n",
    "# Выведем отсортированные уникальные значения, это поможет увидеть неявные дубликаты\n",
    "a = df['color'].unique()\n",
    "print(sorted(a))"
   ]
  },
  {
   "cell_type": "markdown",
   "metadata": {},
   "source": [
    "#### 2.1.7. Колонка `interior`"
   ]
  },
  {
   "cell_type": "code",
   "execution_count": 438,
   "metadata": {},
   "outputs": [
    {
     "data": {
      "text/plain": [
       "array(['black', 'beige', 'gray', 'tan', 'brown', '—', 'off-white', nan,\n",
       "       'blue', 'white', 'silver', 'red', 'green', 'gold', 'purple',\n",
       "       'orange', 'burgundy', 'yellow'], dtype=object)"
      ]
     },
     "execution_count": 438,
     "metadata": {},
     "output_type": "execute_result"
    }
   ],
   "source": [
    "df['interior'].unique()"
   ]
  },
  {
   "cell_type": "code",
   "execution_count": 439,
   "metadata": {},
   "outputs": [
    {
     "name": "stdout",
     "output_type": "stream",
     "text": [
      "Кол-во уникальных значений на этом шаге: 17 \n",
      "\n",
      "['beige', 'black', 'blue', 'brown', 'burgundy', 'gold', 'gray', 'green', 'off-white', 'orange', 'purple', 'red', 'silver', 'tan', 'white', 'yellow', '—']\n"
     ]
    }
   ],
   "source": [
    "# Чтобы не плодить лишние значения, присвоим пропускам значение '—'\n",
    "df['interior'] = df['interior'].fillna('—')\n",
    "print('Кол-во уникальных значений на этом шаге:', df['interior'].nunique(),'\\n')\n",
    "# Выведем отсортированные уникальные значения, это поможет увидеть неявные дубликаты\n",
    "a = df['interior'].unique()\n",
    "print(sorted(a))"
   ]
  },
  {
   "cell_type": "markdown",
   "metadata": {},
   "source": [
    "### 2.2. Создание новых признаков"
   ]
  },
  {
   "cell_type": "markdown",
   "metadata": {},
   "source": [
    "#### 2.2.1. Из колонки `saledate` выделим и добавим в данные год и месяц продажи "
   ]
  },
  {
   "cell_type": "code",
   "execution_count": 440,
   "metadata": {},
   "outputs": [
    {
     "data": {
      "text/html": [
       "<div>\n",
       "<style scoped>\n",
       "    .dataframe tbody tr th:only-of-type {\n",
       "        vertical-align: middle;\n",
       "    }\n",
       "\n",
       "    .dataframe tbody tr th {\n",
       "        vertical-align: top;\n",
       "    }\n",
       "\n",
       "    .dataframe thead th {\n",
       "        text-align: right;\n",
       "    }\n",
       "</style>\n",
       "<table border=\"1\" class=\"dataframe\">\n",
       "  <thead>\n",
       "    <tr style=\"text-align: right;\">\n",
       "      <th></th>\n",
       "      <th>year</th>\n",
       "      <th>make</th>\n",
       "      <th>model</th>\n",
       "      <th>trim</th>\n",
       "      <th>body</th>\n",
       "      <th>transmission</th>\n",
       "      <th>vin</th>\n",
       "      <th>state</th>\n",
       "      <th>condition</th>\n",
       "      <th>odometer</th>\n",
       "      <th>color</th>\n",
       "      <th>interior</th>\n",
       "      <th>seller</th>\n",
       "      <th>sellingprice</th>\n",
       "      <th>saledate</th>\n",
       "      <th>sale_month</th>\n",
       "      <th>sale_year</th>\n",
       "    </tr>\n",
       "  </thead>\n",
       "  <tbody>\n",
       "    <tr>\n",
       "      <th>0</th>\n",
       "      <td>2011</td>\n",
       "      <td>ford</td>\n",
       "      <td>edge</td>\n",
       "      <td>sel</td>\n",
       "      <td>suv</td>\n",
       "      <td>automatic</td>\n",
       "      <td>2fmdk3jc4bba41556</td>\n",
       "      <td>md</td>\n",
       "      <td>4.2</td>\n",
       "      <td>111041.0</td>\n",
       "      <td>black</td>\n",
       "      <td>black</td>\n",
       "      <td>santander consumer</td>\n",
       "      <td>12500.0</td>\n",
       "      <td>Tue Jun 02 2015 02:30:00 GMT-0700 (PDT)</td>\n",
       "      <td>Jun</td>\n",
       "      <td>2015</td>\n",
       "    </tr>\n",
       "    <tr>\n",
       "      <th>1</th>\n",
       "      <td>2014</td>\n",
       "      <td>ford</td>\n",
       "      <td>fusion</td>\n",
       "      <td>se</td>\n",
       "      <td>sedan</td>\n",
       "      <td>automatic</td>\n",
       "      <td>3fa6p0h75er208976</td>\n",
       "      <td>mo</td>\n",
       "      <td>3.5</td>\n",
       "      <td>31034.0</td>\n",
       "      <td>black</td>\n",
       "      <td>black</td>\n",
       "      <td>ars/avis budget group</td>\n",
       "      <td>14500.0</td>\n",
       "      <td>Wed Feb 25 2015 02:00:00 GMT-0800 (PST)</td>\n",
       "      <td>Feb</td>\n",
       "      <td>2015</td>\n",
       "    </tr>\n",
       "    <tr>\n",
       "      <th>2</th>\n",
       "      <td>2012</td>\n",
       "      <td>nissan</td>\n",
       "      <td>sentra</td>\n",
       "      <td>2.0 sl</td>\n",
       "      <td>sedan</td>\n",
       "      <td>automatic</td>\n",
       "      <td>3n1ab6ap4cl698412</td>\n",
       "      <td>nj</td>\n",
       "      <td>2.2</td>\n",
       "      <td>35619.0</td>\n",
       "      <td>black</td>\n",
       "      <td>black</td>\n",
       "      <td>nissan-infiniti lt</td>\n",
       "      <td>9100.0</td>\n",
       "      <td>Wed Jun 10 2015 02:30:00 GMT-0700 (PDT)</td>\n",
       "      <td>Jun</td>\n",
       "      <td>2015</td>\n",
       "    </tr>\n",
       "    <tr>\n",
       "      <th>3</th>\n",
       "      <td>2003</td>\n",
       "      <td>hummer</td>\n",
       "      <td>h2</td>\n",
       "      <td>base</td>\n",
       "      <td>suv</td>\n",
       "      <td>automatic</td>\n",
       "      <td>5grgn23u93h101360</td>\n",
       "      <td>tx</td>\n",
       "      <td>2.8</td>\n",
       "      <td>131301.0</td>\n",
       "      <td>gold</td>\n",
       "      <td>beige</td>\n",
       "      <td>wichita falls ford lin inc</td>\n",
       "      <td>13300.0</td>\n",
       "      <td>Wed Jun 17 2015 03:00:00 GMT-0700 (PDT)</td>\n",
       "      <td>Jun</td>\n",
       "      <td>2015</td>\n",
       "    </tr>\n",
       "    <tr>\n",
       "      <th>4</th>\n",
       "      <td>2007</td>\n",
       "      <td>ford</td>\n",
       "      <td>fusion</td>\n",
       "      <td>sel</td>\n",
       "      <td>sedan</td>\n",
       "      <td>automatic</td>\n",
       "      <td>3fahp08z17r268380</td>\n",
       "      <td>md</td>\n",
       "      <td>2.0</td>\n",
       "      <td>127709.0</td>\n",
       "      <td>black</td>\n",
       "      <td>black</td>\n",
       "      <td>purple heart</td>\n",
       "      <td>1300.0</td>\n",
       "      <td>Tue Feb 03 2015 04:00:00 GMT-0800 (PST)</td>\n",
       "      <td>Feb</td>\n",
       "      <td>2015</td>\n",
       "    </tr>\n",
       "  </tbody>\n",
       "</table>\n",
       "</div>"
      ],
      "text/plain": [
       "   year    make   model    trim   body transmission                vin state  \\\n",
       "0  2011    ford    edge     sel    suv    automatic  2fmdk3jc4bba41556    md   \n",
       "1  2014    ford  fusion      se  sedan    automatic  3fa6p0h75er208976    mo   \n",
       "2  2012  nissan  sentra  2.0 sl  sedan    automatic  3n1ab6ap4cl698412    nj   \n",
       "3  2003  hummer      h2    base    suv    automatic  5grgn23u93h101360    tx   \n",
       "4  2007    ford  fusion     sel  sedan    automatic  3fahp08z17r268380    md   \n",
       "\n",
       "   condition  odometer  color interior                      seller  \\\n",
       "0        4.2  111041.0  black    black          santander consumer   \n",
       "1        3.5   31034.0  black    black       ars/avis budget group   \n",
       "2        2.2   35619.0  black    black          nissan-infiniti lt   \n",
       "3        2.8  131301.0   gold    beige  wichita falls ford lin inc   \n",
       "4        2.0  127709.0  black    black                purple heart   \n",
       "\n",
       "   sellingprice                                 saledate sale_month  sale_year  \n",
       "0       12500.0  Tue Jun 02 2015 02:30:00 GMT-0700 (PDT)        Jun       2015  \n",
       "1       14500.0  Wed Feb 25 2015 02:00:00 GMT-0800 (PST)        Feb       2015  \n",
       "2        9100.0  Wed Jun 10 2015 02:30:00 GMT-0700 (PDT)        Jun       2015  \n",
       "3       13300.0  Wed Jun 17 2015 03:00:00 GMT-0700 (PDT)        Jun       2015  \n",
       "4        1300.0  Tue Feb 03 2015 04:00:00 GMT-0800 (PST)        Feb       2015  "
      ]
     },
     "metadata": {},
     "output_type": "display_data"
    },
    {
     "data": {
      "text/plain": [
       "dtype('int64')"
      ]
     },
     "execution_count": 440,
     "metadata": {},
     "output_type": "execute_result"
    }
   ],
   "source": [
    "# Функция выделяет месяц продажи \n",
    "def parse_month (saledate):\n",
    "    sale_month = saledate[4:7]\n",
    "    return sale_month\n",
    "# Функция выделяет год продажи \n",
    "def parse_year (saledate):\n",
    "    sale_year = saledate[11:15]\n",
    "    return sale_year\n",
    "# Чтобы создать колонки с месяцем и годом продажи, применим функции к столбцу 'saledate'\n",
    "df['sale_month'] = df['saledate'].apply(parse_month)\n",
    "df['sale_year'] = df['saledate'].apply(parse_year).astype('int64')\n",
    "display(df.head())\n",
    "df['sale_year'].dtype"
   ]
  },
  {
   "cell_type": "markdown",
   "metadata": {},
   "source": [
    "В дальнейшем для обучения модели колонку `saledate` использовать не целесообразно."
   ]
  },
  {
   "cell_type": "markdown",
   "metadata": {},
   "source": [
    "#### 2.2.2. Рассчитаем возраст автомобиля на момент продажи и добавим соответствующий признак в данные"
   ]
  },
  {
   "cell_type": "code",
   "execution_count": 441,
   "metadata": {},
   "outputs": [],
   "source": [
    "# Добавим в данные колонку 'car_age' с возрастом автомобиля на дату продажи\n",
    "df['car_age'] = df['sale_year'] - df['year']"
   ]
  },
  {
   "cell_type": "code",
   "execution_count": 442,
   "metadata": {},
   "outputs": [
    {
     "name": "stdout",
     "output_type": "stream",
     "text": [
      "[-1, 0, 1, 2, 3, 4, 5, 6, 7, 8, 9, 10, 11, 12, 13, 14, 15, 16, 17, 18, 19, 20, 21, 22, 23, 24, 25, 26, 27, 28, 29, 30, 31, 32, 33]\n"
     ]
    }
   ],
   "source": [
    "a = df['car_age'].unique()\n",
    "print(sorted(a))"
   ]
  },
  {
   "cell_type": "code",
   "execution_count": 443,
   "metadata": {},
   "outputs": [],
   "source": [
    "# Возраст автомобиля на момент продажи не может быть отрицательным\n",
    "# Предположим, что это были продажи еще не выпущенных автомобилей\n",
    "# Тогда это не ошибка, а отдельный сегмент\n",
    "# Чтобы не сбивать модель, избавимся от отрицательного возраста, добавив всем 1 \n",
    "df['car_age'] = df['car_age'] + 1"
   ]
  },
  {
   "cell_type": "code",
   "execution_count": 444,
   "metadata": {},
   "outputs": [
    {
     "name": "stdout",
     "output_type": "stream",
     "text": [
      "[0, 1, 2, 3, 4, 5, 6, 7, 8, 9, 10, 11, 12, 13, 14, 15, 16, 17, 18, 19, 20, 21, 22, 23, 24, 25, 26, 27, 28, 29, 30, 31, 32, 33, 34]\n"
     ]
    }
   ],
   "source": [
    "a = df['car_age'].unique()\n",
    "print(sorted(a))"
   ]
  },
  {
   "cell_type": "markdown",
   "metadata": {},
   "source": [
    "#### 2.2.3 Итоги создания новых признаков"
   ]
  },
  {
   "cell_type": "markdown",
   "metadata": {},
   "source": [
    "Теперь колонку `saledate` следует исключить для моделирования и рассмотреть целесообразновть использования признаков `sale_month`, `sale_year` и `car_age`."
   ]
  },
  {
   "cell_type": "markdown",
   "metadata": {},
   "source": [
    "### 2.3. Обработка количественных признаков"
   ]
  },
  {
   "cell_type": "markdown",
   "metadata": {},
   "source": [
    "#### 2.3.1. Колонка `condition`"
   ]
  },
  {
   "cell_type": "code",
   "execution_count": 445,
   "metadata": {},
   "outputs": [],
   "source": [
    "# Заполним пропуски медианным значением состояния автомобиля, соответствующим возрасту возрасту автомобиля на дату продажи\n",
    "for i in df['car_age'].unique():\n",
    "    df.loc[(df['car_age'] == i) & (df['condition'].isna()), 'condition'] = \\\n",
    "    df.loc[(df['car_age'] == i), 'condition'].median()"
   ]
  },
  {
   "cell_type": "markdown",
   "metadata": {},
   "source": [
    "#### 2.3.1. Колонка `odometer`"
   ]
  },
  {
   "cell_type": "code",
   "execution_count": 446,
   "metadata": {},
   "outputs": [],
   "source": [
    "# Заполним пропуски медианным значением пробега автомобиля, соответствующим возрасту автомобиля на дату продажи\n",
    "for i in df['car_age'].unique():\n",
    "    df.loc[(df['car_age'] == i) & (df['odometer'].isna()), 'odometer'] = \\\n",
    "    df.loc[(df['car_age'] == i), 'odometer'].median()"
   ]
  },
  {
   "cell_type": "markdown",
   "metadata": {},
   "source": [
    "### 2.4. Итоги предобработки данных"
   ]
  },
  {
   "cell_type": "code",
   "execution_count": 447,
   "metadata": {},
   "outputs": [
    {
     "name": "stdout",
     "output_type": "stream",
     "text": [
      "<class 'pandas.core.frame.DataFrame'>\n",
      "Int64Index: 550294 entries, 0 to 110057\n",
      "Data columns (total 18 columns):\n",
      " #   Column        Non-Null Count   Dtype  \n",
      "---  ------        --------------   -----  \n",
      " 0   year          550294 non-null  int64  \n",
      " 1   make          550294 non-null  object \n",
      " 2   model         550294 non-null  object \n",
      " 3   trim          550294 non-null  object \n",
      " 4   body          550294 non-null  object \n",
      " 5   transmission  550294 non-null  object \n",
      " 6   vin           550294 non-null  object \n",
      " 7   state         550294 non-null  object \n",
      " 8   condition     550294 non-null  float64\n",
      " 9   odometer      550294 non-null  float64\n",
      " 10  color         550294 non-null  object \n",
      " 11  interior      550294 non-null  object \n",
      " 12  seller        550294 non-null  object \n",
      " 13  sellingprice  440236 non-null  float64\n",
      " 14  saledate      550294 non-null  object \n",
      " 15  sale_month    550294 non-null  object \n",
      " 16  sale_year     550294 non-null  int64  \n",
      " 17  car_age       550294 non-null  int64  \n",
      "dtypes: float64(3), int64(3), object(12)\n",
      "memory usage: 79.8+ MB\n"
     ]
    }
   ],
   "source": [
    "# Проверим, остались ли пропуски в данных\n",
    "df.info()"
   ]
  },
  {
   "cell_type": "markdown",
   "metadata": {},
   "source": [
    "В результате предобработки в данных частично устранены неявные дубликаты и заполнены пропуски:  \n",
    "- Значением `other`  или `-` для категориальных данных\n",
    "- Медианным значением параметра, соответствующим возрасту возрасту автомобиля на дату продажи\n",
    "\n",
    "В данные добавлены новые признаки возраст атомобиля, год и месяц продажи.\n",
    "Все преобразования сделаны для объединенных данных."
   ]
  },
  {
   "cell_type": "markdown",
   "metadata": {},
   "source": [
    "## 3. Анализ данных"
   ]
  },
  {
   "cell_type": "markdown",
   "metadata": {},
   "source": [
    "### 3.1. Количественные признаки"
   ]
  },
  {
   "cell_type": "code",
   "execution_count": 448,
   "metadata": {},
   "outputs": [
    {
     "data": {
      "text/plain": [
       "<AxesSubplot:>"
      ]
     },
     "execution_count": 448,
     "metadata": {},
     "output_type": "execute_result"
    },
    {
     "data": {
      "image/png": "[encoded data removed]",
      "text/plain": [
       "<Figure size 640x480 with 2 Axes>"
      ]
     },
     "metadata": {},
     "output_type": "display_data"
    }
   ],
   "source": [
    "corr = df.corr()\n",
    "sns.heatmap(corr, annot=True)"
   ]
  },
  {
   "cell_type": "markdown",
   "metadata": {},
   "source": [
    "Коэффициент корреляции между годом выпуска автомобиля и его возрастом равен `-1` .  \n",
    "Поэтому для модели правильно отобрать из них один - `car-age` .  \n",
    "Корреляция между `sale_year` и целевым признаком `sellingprice` отсутствует, поэтому `sale_year` целесообразно удалить из списка параметров для обучения модели."
   ]
  },
  {
   "cell_type": "markdown",
   "metadata": {},
   "source": [
    "### 3.2. Категориальные признаки"
   ]
  },
  {
   "cell_type": "markdown",
   "metadata": {},
   "source": [
    "#### 3.2.1. Аналог корреляции между категориальными признаками"
   ]
  },
  {
   "cell_type": "code",
   "execution_count": 449,
   "metadata": {},
   "outputs": [],
   "source": [
    "# Список колонок, которые передам модели для категоризации\n",
    "cat_features = ['make', 'model', 'trim', 'body', 'transmission', 'state', 'color', 'interior', 'seller', 'sale_month']\n",
    "df_cat = df[cat_features]"
   ]
  },
  {
   "cell_type": "code",
   "execution_count": 450,
   "metadata": {},
   "outputs": [
    {
     "data": {
      "text/html": [
       "<div>\n",
       "<style scoped>\n",
       "    .dataframe tbody tr th:only-of-type {\n",
       "        vertical-align: middle;\n",
       "    }\n",
       "\n",
       "    .dataframe tbody tr th {\n",
       "        vertical-align: top;\n",
       "    }\n",
       "\n",
       "    .dataframe thead th {\n",
       "        text-align: right;\n",
       "    }\n",
       "</style>\n",
       "<table border=\"1\" class=\"dataframe\">\n",
       "  <thead>\n",
       "    <tr style=\"text-align: right;\">\n",
       "      <th></th>\n",
       "      <th>make</th>\n",
       "      <th>model</th>\n",
       "      <th>trim</th>\n",
       "      <th>body</th>\n",
       "      <th>transmission</th>\n",
       "      <th>state</th>\n",
       "      <th>color</th>\n",
       "      <th>interior</th>\n",
       "      <th>seller</th>\n",
       "      <th>sale_month</th>\n",
       "    </tr>\n",
       "  </thead>\n",
       "  <tbody>\n",
       "    <tr>\n",
       "      <th>make</th>\n",
       "      <td>1.000000</td>\n",
       "      <td>0.980680</td>\n",
       "      <td>0.723470</td>\n",
       "      <td>0.247575</td>\n",
       "      <td>0.159759</td>\n",
       "      <td>0.077626</td>\n",
       "      <td>0.086134</td>\n",
       "      <td>0.107860</td>\n",
       "      <td>0.474175</td>\n",
       "      <td>0.039631</td>\n",
       "    </tr>\n",
       "    <tr>\n",
       "      <th>model</th>\n",
       "      <td>0.980680</td>\n",
       "      <td>1.000000</td>\n",
       "      <td>0.510441</td>\n",
       "      <td>0.841672</td>\n",
       "      <td>0.308436</td>\n",
       "      <td>0.114320</td>\n",
       "      <td>0.146302</td>\n",
       "      <td>0.180662</td>\n",
       "      <td>0.264395</td>\n",
       "      <td>0.078685</td>\n",
       "    </tr>\n",
       "    <tr>\n",
       "      <th>trim</th>\n",
       "      <td>0.723470</td>\n",
       "      <td>0.510441</td>\n",
       "      <td>1.000000</td>\n",
       "      <td>0.573287</td>\n",
       "      <td>0.287942</td>\n",
       "      <td>0.124597</td>\n",
       "      <td>0.135748</td>\n",
       "      <td>0.207865</td>\n",
       "      <td>0.241027</td>\n",
       "      <td>0.093409</td>\n",
       "    </tr>\n",
       "    <tr>\n",
       "      <th>body</th>\n",
       "      <td>0.247575</td>\n",
       "      <td>0.841672</td>\n",
       "      <td>0.573287</td>\n",
       "      <td>1.000000</td>\n",
       "      <td>0.168806</td>\n",
       "      <td>0.049013</td>\n",
       "      <td>0.072357</td>\n",
       "      <td>0.074281</td>\n",
       "      <td>0.275908</td>\n",
       "      <td>0.021920</td>\n",
       "    </tr>\n",
       "    <tr>\n",
       "      <th>transmission</th>\n",
       "      <td>0.159759</td>\n",
       "      <td>0.308436</td>\n",
       "      <td>0.287942</td>\n",
       "      <td>0.168806</td>\n",
       "      <td>1.000000</td>\n",
       "      <td>0.377917</td>\n",
       "      <td>0.062246</td>\n",
       "      <td>0.065248</td>\n",
       "      <td>0.387027</td>\n",
       "      <td>0.031428</td>\n",
       "    </tr>\n",
       "    <tr>\n",
       "      <th>state</th>\n",
       "      <td>0.077626</td>\n",
       "      <td>0.114320</td>\n",
       "      <td>0.124597</td>\n",
       "      <td>0.049013</td>\n",
       "      <td>0.377917</td>\n",
       "      <td>1.000000</td>\n",
       "      <td>0.066054</td>\n",
       "      <td>0.063094</td>\n",
       "      <td>0.676261</td>\n",
       "      <td>0.083385</td>\n",
       "    </tr>\n",
       "    <tr>\n",
       "      <th>color</th>\n",
       "      <td>0.086134</td>\n",
       "      <td>0.146302</td>\n",
       "      <td>0.135748</td>\n",
       "      <td>0.072357</td>\n",
       "      <td>0.062246</td>\n",
       "      <td>0.066054</td>\n",
       "      <td>1.000000</td>\n",
       "      <td>0.093187</td>\n",
       "      <td>0.223390</td>\n",
       "      <td>0.017406</td>\n",
       "    </tr>\n",
       "    <tr>\n",
       "      <th>interior</th>\n",
       "      <td>0.107860</td>\n",
       "      <td>0.180662</td>\n",
       "      <td>0.207865</td>\n",
       "      <td>0.074281</td>\n",
       "      <td>0.065248</td>\n",
       "      <td>0.063094</td>\n",
       "      <td>0.093187</td>\n",
       "      <td>1.000000</td>\n",
       "      <td>0.257887</td>\n",
       "      <td>0.065126</td>\n",
       "    </tr>\n",
       "    <tr>\n",
       "      <th>seller</th>\n",
       "      <td>0.474175</td>\n",
       "      <td>0.264395</td>\n",
       "      <td>0.241027</td>\n",
       "      <td>0.275908</td>\n",
       "      <td>0.387027</td>\n",
       "      <td>0.676261</td>\n",
       "      <td>0.223390</td>\n",
       "      <td>0.257887</td>\n",
       "      <td>1.000000</td>\n",
       "      <td>0.286119</td>\n",
       "    </tr>\n",
       "    <tr>\n",
       "      <th>sale_month</th>\n",
       "      <td>0.039631</td>\n",
       "      <td>0.078685</td>\n",
       "      <td>0.093409</td>\n",
       "      <td>0.021920</td>\n",
       "      <td>0.031428</td>\n",
       "      <td>0.083385</td>\n",
       "      <td>0.017406</td>\n",
       "      <td>0.065126</td>\n",
       "      <td>0.286119</td>\n",
       "      <td>1.000000</td>\n",
       "    </tr>\n",
       "  </tbody>\n",
       "</table>\n",
       "</div>"
      ],
      "text/plain": [
       "                  make     model      trim      body  transmission     state  \\\n",
       "make          1.000000  0.980680  0.723470  0.247575      0.159759  0.077626   \n",
       "model         0.980680  1.000000  0.510441  0.841672      0.308436  0.114320   \n",
       "trim          0.723470  0.510441  1.000000  0.573287      0.287942  0.124597   \n",
       "body          0.247575  0.841672  0.573287  1.000000      0.168806  0.049013   \n",
       "transmission  0.159759  0.308436  0.287942  0.168806      1.000000  0.377917   \n",
       "state         0.077626  0.114320  0.124597  0.049013      0.377917  1.000000   \n",
       "color         0.086134  0.146302  0.135748  0.072357      0.062246  0.066054   \n",
       "interior      0.107860  0.180662  0.207865  0.074281      0.065248  0.063094   \n",
       "seller        0.474175  0.264395  0.241027  0.275908      0.387027  0.676261   \n",
       "sale_month    0.039631  0.078685  0.093409  0.021920      0.031428  0.083385   \n",
       "\n",
       "                 color  interior    seller  sale_month  \n",
       "make          0.086134  0.107860  0.474175    0.039631  \n",
       "model         0.146302  0.180662  0.264395    0.078685  \n",
       "trim          0.135748  0.207865  0.241027    0.093409  \n",
       "body          0.072357  0.074281  0.275908    0.021920  \n",
       "transmission  0.062246  0.065248  0.387027    0.031428  \n",
       "state         0.066054  0.063094  0.676261    0.083385  \n",
       "color         1.000000  0.093187  0.223390    0.017406  \n",
       "interior      0.093187  1.000000  0.257887    0.065126  \n",
       "seller        0.223390  0.257887  1.000000    0.286119  \n",
       "sale_month    0.017406  0.065126  0.286119    1.000000  "
      ]
     },
     "execution_count": 450,
     "metadata": {},
     "output_type": "execute_result"
    }
   ],
   "source": [
    "DC = df_cat.apply(lambda x: x.astype(\"category\") if x.dtype == \"object\" else x)\n",
    "cramersv = am.CramersV(DC) \n",
    "cramersv.fit()"
   ]
  },
  {
   "cell_type": "markdown",
   "metadata": {},
   "source": [
    "#### 3.2.2. Оценка влияния категориальных признаков на целевой признак `sellingprice`"
   ]
  },
  {
   "cell_type": "markdown",
   "metadata": {},
   "source": [
    "Для каждого признака оценим, как меняется средняя цена автомобиля от значения категории."
   ]
  },
  {
   "cell_type": "code",
   "execution_count": 451,
   "metadata": {
    "scrolled": true
   },
   "outputs": [
    {
     "data": {
      "image/png": "[encoded data removed]",
      "text/plain": [
       "<Figure size 1000x300 with 1 Axes>"
      ]
     },
     "metadata": {},
     "output_type": "display_data"
    },
    {
     "data": {
      "image/png": "[encoded data removed]",
      "text/plain": [
       "<Figure size 1000x300 with 1 Axes>"
      ]
     },
     "metadata": {},
     "output_type": "display_data"
    },
    {
     "data": {
      "image/png": "[encoded data removed]",
      "text/plain": [
       "<Figure size 1000x300 with 1 Axes>"
      ]
     },
     "metadata": {},
     "output_type": "display_data"
    },
    {
     "data": {
      "image/png": "[encoded data removed]",
      "text/plain": [
       "<Figure size 1000x300 with 1 Axes>"
      ]
     },
     "metadata": {},
     "output_type": "display_data"
    },
    {
     "data": {
      "image/png": "[encoded data removed]",
      "text/plain": [
       "<Figure size 1000x300 with 1 Axes>"
      ]
     },
     "metadata": {},
     "output_type": "display_data"
    },
    {
     "data": {
      "image/png": "[encoded data removed]",
      "text/plain": [
       "<Figure size 1000x300 with 1 Axes>"
      ]
     },
     "metadata": {},
     "output_type": "display_data"
    },
    {
     "data": {
      "image/png": "[encoded data removed]",
      "text/plain": [
       "<Figure size 1000x300 with 1 Axes>"
      ]
     },
     "metadata": {},
     "output_type": "display_data"
    },
    {
     "data": {
      "image/png": "[encoded data removed]",
      "text/plain": [
       "<Figure size 1000x300 with 1 Axes>"
      ]
     },
     "metadata": {},
     "output_type": "display_data"
    },
    {
     "data": {
      "image/png": "[encoded data removed]",
      "text/plain": [
       "<Figure size 1000x300 with 1 Axes>"
      ]
     },
     "metadata": {},
     "output_type": "display_data"
    },
    {
     "data": {
      "image/png": "[encoded data removed]",
      "text/plain": [
       "<Figure size 1000x300 with 1 Axes>"
      ]
     },
     "metadata": {},
     "output_type": "display_data"
    }
   ],
   "source": [
    "for i in cat_features:\n",
    "    if df[i].dtype == 'object':\n",
    "        df2 = df.pivot_table(index=i, values='sellingprice', aggfunc = 'mean')\n",
    "        df2 = df2.sort_values('sellingprice', ascending=False)\n",
    "        df2.plot(title=i, grid=True, figsize=(10, 3)) "
   ]
  },
  {
   "cell_type": "markdown",
   "metadata": {},
   "source": [
    "#### 3.3.3. Итоги анализа категориальных признаков"
   ]
  },
  {
   "cell_type": "markdown",
   "metadata": {},
   "source": [
    "Стоимость автомобиля зависит от значений рассмотренных категориальных признаков.  \n",
    "Их целесообразно использовать в моделировании."
   ]
  },
  {
   "cell_type": "markdown",
   "metadata": {},
   "source": [
    "## 4. Подбор оптимальных параметров и обучение модели CatBoostRegressor"
   ]
  },
  {
   "cell_type": "markdown",
   "metadata": {},
   "source": [
    "### 4.1. Подготовка данных для моделирования"
   ]
  },
  {
   "cell_type": "code",
   "execution_count": 452,
   "metadata": {},
   "outputs": [
    {
     "name": "stdout",
     "output_type": "stream",
     "text": [
      "<class 'pandas.core.frame.DataFrame'>\n",
      "Int64Index: 110058 entries, 0 to 110057\n",
      "Data columns (total 18 columns):\n",
      " #   Column        Non-Null Count   Dtype  \n",
      "---  ------        --------------   -----  \n",
      " 0   year          110058 non-null  int64  \n",
      " 1   make          110058 non-null  object \n",
      " 2   model         110058 non-null  object \n",
      " 3   trim          110058 non-null  object \n",
      " 4   body          110058 non-null  object \n",
      " 5   transmission  110058 non-null  object \n",
      " 6   vin           110058 non-null  object \n",
      " 7   state         110058 non-null  object \n",
      " 8   condition     110058 non-null  float64\n",
      " 9   odometer      110058 non-null  float64\n",
      " 10  color         110058 non-null  object \n",
      " 11  interior      110058 non-null  object \n",
      " 12  seller        110058 non-null  object \n",
      " 13  sellingprice  0 non-null       float64\n",
      " 14  saledate      110058 non-null  object \n",
      " 15  sale_month    110058 non-null  object \n",
      " 16  sale_year     110058 non-null  int64  \n",
      " 17  car_age       110058 non-null  int64  \n",
      "dtypes: float64(3), int64(3), object(12)\n",
      "memory usage: 16.0+ MB\n"
     ]
    }
   ],
   "source": [
    "# Данные для тестирования\n",
    "df_new_test=df[df['sellingprice'].isna()]\n",
    "df_new_test.info()"
   ]
  },
  {
   "cell_type": "code",
   "execution_count": 453,
   "metadata": {},
   "outputs": [
    {
     "name": "stdout",
     "output_type": "stream",
     "text": [
      "<class 'pandas.core.frame.DataFrame'>\n",
      "Int64Index: 440236 entries, 0 to 440235\n",
      "Data columns (total 18 columns):\n",
      " #   Column        Non-Null Count   Dtype  \n",
      "---  ------        --------------   -----  \n",
      " 0   year          440236 non-null  int64  \n",
      " 1   make          440236 non-null  object \n",
      " 2   model         440236 non-null  object \n",
      " 3   trim          440236 non-null  object \n",
      " 4   body          440236 non-null  object \n",
      " 5   transmission  440236 non-null  object \n",
      " 6   vin           440236 non-null  object \n",
      " 7   state         440236 non-null  object \n",
      " 8   condition     440236 non-null  float64\n",
      " 9   odometer      440236 non-null  float64\n",
      " 10  color         440236 non-null  object \n",
      " 11  interior      440236 non-null  object \n",
      " 12  seller        440236 non-null  object \n",
      " 13  sellingprice  440236 non-null  float64\n",
      " 14  saledate      440236 non-null  object \n",
      " 15  sale_month    440236 non-null  object \n",
      " 16  sale_year     440236 non-null  int64  \n",
      " 17  car_age       440236 non-null  int64  \n",
      "dtypes: float64(3), int64(3), object(12)\n",
      "memory usage: 63.8+ MB\n"
     ]
    }
   ],
   "source": [
    "# Тренировочные данные\n",
    "df = df[df['sellingprice'].notnull()]\n",
    "df.info()"
   ]
  },
  {
   "cell_type": "code",
   "execution_count": 454,
   "metadata": {},
   "outputs": [],
   "source": [
    "# Список параметров для обучения модели\n",
    "X = ['make', 'model', 'trim', 'body', 'transmission', 'state', 'condition', 'odometer', 'color', 'interior', 'seller', 'sale_month', 'car_age']"
   ]
  },
  {
   "cell_type": "code",
   "execution_count": 455,
   "metadata": {},
   "outputs": [],
   "source": [
    "# Целевой параметр\n",
    "y = ['sellingprice']"
   ]
  },
  {
   "cell_type": "code",
   "execution_count": 456,
   "metadata": {},
   "outputs": [],
   "source": [
    "train_data = Pool(data=df[X], label=df[y], cat_features=cat_features)"
   ]
  },
  {
   "cell_type": "markdown",
   "metadata": {},
   "source": [
    "### 4.2. Настройка оптимальных гиперпараметров модели"
   ]
  },
  {
   "cell_type": "markdown",
   "metadata": {},
   "source": [
    "Ключевой гиперпараметр `learning_rate` .  \n",
    "Поиск его оптимального значения производил вручную, используя встроенную в CatBoost кросвалидацию.  \n",
    "Начальное значение `learning_rate` было установлено `0.15`."
   ]
  },
  {
   "cell_type": "code",
   "execution_count": 457,
   "metadata": {},
   "outputs": [],
   "source": [
    "params = {'cat_features': cat_features,\n",
    "         'eval_metric': 'MAPE',\n",
    "         'loss_function': 'RMSE',\n",
    "         'learning_rate': 0.35,\n",
    "         'random_seed': 12345,\n",
    "         'verbose': 100}"
   ]
  },
  {
   "cell_type": "code",
   "execution_count": 458,
   "metadata": {},
   "outputs": [
    {
     "name": "stdout",
     "output_type": "stream",
     "text": [
      "Training on fold [0/5]\n",
      "\n",
      "bestTest = 0.172812029\n",
      "bestIteration = 998\n",
      "\n",
      "Training on fold [1/5]\n",
      "\n",
      "bestTest = 0.171912862\n",
      "bestIteration = 956\n",
      "\n",
      "Training on fold [2/5]\n",
      "\n",
      "bestTest = 0.1782897245\n",
      "bestIteration = 769\n",
      "\n",
      "Training on fold [3/5]\n",
      "\n",
      "bestTest = 0.1742299118\n",
      "bestIteration = 997\n",
      "\n",
      "Training on fold [4/5]\n",
      "\n",
      "bestTest = 0.2584017386\n",
      "bestIteration = 997\n",
      "\n"
     ]
    }
   ],
   "source": [
    "cv_data = cv(params = params,\n",
    "            pool = train_data,\n",
    "            fold_count=5,\n",
    "            shuffle = True,\n",
    "            partition_random_seed = 0,\n",
    "            stratified = False,\n",
    "#            stratified = True,\n",
    "            verbose = False,\n",
    "            early_stopping_rounds = 200)"
   ]
  },
  {
   "cell_type": "code",
   "execution_count": 459,
   "metadata": {},
   "outputs": [
    {
     "data": {
      "text/html": [
       "<div>\n",
       "<style scoped>\n",
       "    .dataframe tbody tr th:only-of-type {\n",
       "        vertical-align: middle;\n",
       "    }\n",
       "\n",
       "    .dataframe tbody tr th {\n",
       "        vertical-align: top;\n",
       "    }\n",
       "\n",
       "    .dataframe thead th {\n",
       "        text-align: right;\n",
       "    }\n",
       "</style>\n",
       "<table border=\"1\" class=\"dataframe\">\n",
       "  <thead>\n",
       "    <tr style=\"text-align: right;\">\n",
       "      <th></th>\n",
       "      <th>iterations</th>\n",
       "      <th>test-MAPE-mean</th>\n",
       "      <th>test-MAPE-std</th>\n",
       "      <th>train-MAPE-mean</th>\n",
       "      <th>train-MAPE-std</th>\n",
       "      <th>test-RMSE-mean</th>\n",
       "      <th>test-RMSE-std</th>\n",
       "      <th>train-RMSE-mean</th>\n",
       "      <th>train-RMSE-std</th>\n",
       "    </tr>\n",
       "  </thead>\n",
       "  <tbody>\n",
       "    <tr>\n",
       "      <th>0</th>\n",
       "      <td>0</td>\n",
       "      <td>0.667947</td>\n",
       "      <td>0.025670</td>\n",
       "      <td>0.667847</td>\n",
       "      <td>0.006285</td>\n",
       "      <td>11857.150410</td>\n",
       "      <td>59.752300</td>\n",
       "      <td>11861.346885</td>\n",
       "      <td>11.782318</td>\n",
       "    </tr>\n",
       "    <tr>\n",
       "      <th>1</th>\n",
       "      <td>1</td>\n",
       "      <td>0.526479</td>\n",
       "      <td>0.023484</td>\n",
       "      <td>0.529703</td>\n",
       "      <td>0.034943</td>\n",
       "      <td>8799.748475</td>\n",
       "      <td>47.824500</td>\n",
       "      <td>8769.800354</td>\n",
       "      <td>57.175016</td>\n",
       "    </tr>\n",
       "    <tr>\n",
       "      <th>2</th>\n",
       "      <td>2</td>\n",
       "      <td>0.471631</td>\n",
       "      <td>0.036207</td>\n",
       "      <td>0.469957</td>\n",
       "      <td>0.030963</td>\n",
       "      <td>6958.883852</td>\n",
       "      <td>76.287232</td>\n",
       "      <td>6925.836304</td>\n",
       "      <td>63.964628</td>\n",
       "    </tr>\n",
       "    <tr>\n",
       "      <th>3</th>\n",
       "      <td>3</td>\n",
       "      <td>0.429719</td>\n",
       "      <td>0.030710</td>\n",
       "      <td>0.435148</td>\n",
       "      <td>0.018491</td>\n",
       "      <td>5887.265707</td>\n",
       "      <td>45.828240</td>\n",
       "      <td>5838.873086</td>\n",
       "      <td>48.277467</td>\n",
       "    </tr>\n",
       "    <tr>\n",
       "      <th>4</th>\n",
       "      <td>4</td>\n",
       "      <td>0.414772</td>\n",
       "      <td>0.050495</td>\n",
       "      <td>0.417458</td>\n",
       "      <td>0.009587</td>\n",
       "      <td>5249.600968</td>\n",
       "      <td>42.259938</td>\n",
       "      <td>5214.730309</td>\n",
       "      <td>50.333953</td>\n",
       "    </tr>\n",
       "    <tr>\n",
       "      <th>...</th>\n",
       "      <td>...</td>\n",
       "      <td>...</td>\n",
       "      <td>...</td>\n",
       "      <td>...</td>\n",
       "      <td>...</td>\n",
       "      <td>...</td>\n",
       "      <td>...</td>\n",
       "      <td>...</td>\n",
       "      <td>...</td>\n",
       "    </tr>\n",
       "    <tr>\n",
       "      <th>995</th>\n",
       "      <td>995</td>\n",
       "      <td>0.193723</td>\n",
       "      <td>0.037033</td>\n",
       "      <td>0.193948</td>\n",
       "      <td>0.008631</td>\n",
       "      <td>2306.108217</td>\n",
       "      <td>92.505041</td>\n",
       "      <td>2104.595408</td>\n",
       "      <td>13.543094</td>\n",
       "    </tr>\n",
       "    <tr>\n",
       "      <th>996</th>\n",
       "      <td>996</td>\n",
       "      <td>0.193718</td>\n",
       "      <td>0.037037</td>\n",
       "      <td>0.193945</td>\n",
       "      <td>0.008656</td>\n",
       "      <td>2305.921580</td>\n",
       "      <td>92.605171</td>\n",
       "      <td>2104.241851</td>\n",
       "      <td>13.683581</td>\n",
       "    </tr>\n",
       "    <tr>\n",
       "      <th>997</th>\n",
       "      <td>997</td>\n",
       "      <td>0.193680</td>\n",
       "      <td>0.037003</td>\n",
       "      <td>0.193907</td>\n",
       "      <td>0.008623</td>\n",
       "      <td>2305.637394</td>\n",
       "      <td>92.766624</td>\n",
       "      <td>2103.666305</td>\n",
       "      <td>13.623025</td>\n",
       "    </tr>\n",
       "    <tr>\n",
       "      <th>998</th>\n",
       "      <td>998</td>\n",
       "      <td>0.193694</td>\n",
       "      <td>0.037069</td>\n",
       "      <td>0.193938</td>\n",
       "      <td>0.008636</td>\n",
       "      <td>2305.379329</td>\n",
       "      <td>92.885212</td>\n",
       "      <td>2103.398279</td>\n",
       "      <td>13.770130</td>\n",
       "    </tr>\n",
       "    <tr>\n",
       "      <th>999</th>\n",
       "      <td>999</td>\n",
       "      <td>0.193705</td>\n",
       "      <td>0.037044</td>\n",
       "      <td>0.193949</td>\n",
       "      <td>0.008692</td>\n",
       "      <td>2305.010268</td>\n",
       "      <td>93.098126</td>\n",
       "      <td>2103.095031</td>\n",
       "      <td>13.688818</td>\n",
       "    </tr>\n",
       "  </tbody>\n",
       "</table>\n",
       "<p>1000 rows × 9 columns</p>\n",
       "</div>"
      ],
      "text/plain": [
       "     iterations  test-MAPE-mean  test-MAPE-std  train-MAPE-mean  \\\n",
       "0             0        0.667947       0.025670         0.667847   \n",
       "1             1        0.526479       0.023484         0.529703   \n",
       "2             2        0.471631       0.036207         0.469957   \n",
       "3             3        0.429719       0.030710         0.435148   \n",
       "4             4        0.414772       0.050495         0.417458   \n",
       "..          ...             ...            ...              ...   \n",
       "995         995        0.193723       0.037033         0.193948   \n",
       "996         996        0.193718       0.037037         0.193945   \n",
       "997         997        0.193680       0.037003         0.193907   \n",
       "998         998        0.193694       0.037069         0.193938   \n",
       "999         999        0.193705       0.037044         0.193949   \n",
       "\n",
       "     train-MAPE-std  test-RMSE-mean  test-RMSE-std  train-RMSE-mean  \\\n",
       "0          0.006285    11857.150410      59.752300     11861.346885   \n",
       "1          0.034943     8799.748475      47.824500      8769.800354   \n",
       "2          0.030963     6958.883852      76.287232      6925.836304   \n",
       "3          0.018491     5887.265707      45.828240      5838.873086   \n",
       "4          0.009587     5249.600968      42.259938      5214.730309   \n",
       "..              ...             ...            ...              ...   \n",
       "995        0.008631     2306.108217      92.505041      2104.595408   \n",
       "996        0.008656     2305.921580      92.605171      2104.241851   \n",
       "997        0.008623     2305.637394      92.766624      2103.666305   \n",
       "998        0.008636     2305.379329      92.885212      2103.398279   \n",
       "999        0.008692     2305.010268      93.098126      2103.095031   \n",
       "\n",
       "     train-RMSE-std  \n",
       "0         11.782318  \n",
       "1         57.175016  \n",
       "2         63.964628  \n",
       "3         48.277467  \n",
       "4         50.333953  \n",
       "..              ...  \n",
       "995       13.543094  \n",
       "996       13.683581  \n",
       "997       13.623025  \n",
       "998       13.770130  \n",
       "999       13.688818  \n",
       "\n",
       "[1000 rows x 9 columns]"
      ]
     },
     "execution_count": 459,
     "metadata": {},
     "output_type": "execute_result"
    }
   ],
   "source": [
    "cv_data"
   ]
  },
  {
   "cell_type": "code",
   "execution_count": 460,
   "metadata": {},
   "outputs": [
    {
     "data": {
      "text/html": [
       "<div>\n",
       "<style scoped>\n",
       "    .dataframe tbody tr th:only-of-type {\n",
       "        vertical-align: middle;\n",
       "    }\n",
       "\n",
       "    .dataframe tbody tr th {\n",
       "        vertical-align: top;\n",
       "    }\n",
       "\n",
       "    .dataframe thead th {\n",
       "        text-align: right;\n",
       "    }\n",
       "</style>\n",
       "<table border=\"1\" class=\"dataframe\">\n",
       "  <thead>\n",
       "    <tr style=\"text-align: right;\">\n",
       "      <th></th>\n",
       "      <th>iterations</th>\n",
       "      <th>test-MAPE-mean</th>\n",
       "      <th>test-MAPE-std</th>\n",
       "      <th>train-MAPE-mean</th>\n",
       "      <th>train-MAPE-std</th>\n",
       "      <th>test-RMSE-mean</th>\n",
       "      <th>test-RMSE-std</th>\n",
       "      <th>train-RMSE-mean</th>\n",
       "      <th>train-RMSE-std</th>\n",
       "    </tr>\n",
       "  </thead>\n",
       "  <tbody>\n",
       "    <tr>\n",
       "      <th>997</th>\n",
       "      <td>997</td>\n",
       "      <td>0.19368</td>\n",
       "      <td>0.037003</td>\n",
       "      <td>0.193907</td>\n",
       "      <td>0.008623</td>\n",
       "      <td>2305.637394</td>\n",
       "      <td>92.766624</td>\n",
       "      <td>2103.666305</td>\n",
       "      <td>13.623025</td>\n",
       "    </tr>\n",
       "  </tbody>\n",
       "</table>\n",
       "</div>"
      ],
      "text/plain": [
       "     iterations  test-MAPE-mean  test-MAPE-std  train-MAPE-mean  \\\n",
       "997         997         0.19368       0.037003         0.193907   \n",
       "\n",
       "     train-MAPE-std  test-RMSE-mean  test-RMSE-std  train-RMSE-mean  \\\n",
       "997        0.008623     2305.637394      92.766624      2103.666305   \n",
       "\n",
       "     train-RMSE-std  \n",
       "997       13.623025  "
      ]
     },
     "execution_count": 460,
     "metadata": {},
     "output_type": "execute_result"
    }
   ],
   "source": [
    "cv_data[cv_data['test-MAPE-mean'] == cv_data['test-MAPE-mean'].min()]"
   ]
  },
  {
   "cell_type": "markdown",
   "metadata": {},
   "source": [
    "Оптимальный `learning_rate` - 0.35.  \n",
    "При этом значении кол-во иттерации - 997. "
   ]
  },
  {
   "cell_type": "markdown",
   "metadata": {},
   "source": [
    "### 4.3. Обучение модели и предсказание стоимости автомобилей на тестовых данных "
   ]
  },
  {
   "cell_type": "code",
   "execution_count": 461,
   "metadata": {},
   "outputs": [],
   "source": [
    "model = CatBoostRegressor(**params)"
   ]
  },
  {
   "cell_type": "code",
   "execution_count": 462,
   "metadata": {},
   "outputs": [
    {
     "name": "stdout",
     "output_type": "stream",
     "text": [
      "0:\tlearn: 1.3506217\ttotal: 280ms\tremaining: 4m 39s\n",
      "100:\tlearn: 0.2395756\ttotal: 30s\tremaining: 4m 26s\n",
      "200:\tlearn: 0.2221976\ttotal: 1m 2s\tremaining: 4m 7s\n",
      "300:\tlearn: 0.2138784\ttotal: 1m 34s\tremaining: 3m 39s\n",
      "400:\tlearn: 0.2097501\ttotal: 2m 6s\tremaining: 3m 9s\n",
      "500:\tlearn: 0.2046736\ttotal: 2m 38s\tremaining: 2m 38s\n",
      "600:\tlearn: 0.1991150\ttotal: 3m 11s\tremaining: 2m 7s\n",
      "700:\tlearn: 0.1977497\ttotal: 3m 44s\tremaining: 1m 35s\n",
      "800:\tlearn: 0.1942598\ttotal: 4m 17s\tremaining: 1m 3s\n",
      "900:\tlearn: 0.1939657\ttotal: 4m 50s\tremaining: 31.9s\n",
      "999:\tlearn: 0.1935637\ttotal: 5m 23s\tremaining: 0us\n"
     ]
    },
    {
     "data": {
      "text/plain": [
       "<catboost.core.CatBoostRegressor at 0x1ec151282e0>"
      ]
     },
     "execution_count": 462,
     "metadata": {},
     "output_type": "execute_result"
    }
   ],
   "source": [
    "model.fit(df[X], df[y])"
   ]
  },
  {
   "cell_type": "code",
   "execution_count": 463,
   "metadata": {},
   "outputs": [
    {
     "data": {
      "text/plain": [
       "{'nan_mode': 'Min',\n",
       " 'eval_metric': 'MAPE',\n",
       " 'combinations_ctr': ['Borders:CtrBorderCount=15:CtrBorderType=Uniform:TargetBorderCount=1:TargetBorderType=MinEntropy:Prior=0/1:Prior=0.5/1:Prior=1/1',\n",
       "  'Counter:CtrBorderCount=15:CtrBorderType=Uniform:Prior=0/1'],\n",
       " 'iterations': 1000,\n",
       " 'sampling_frequency': 'PerTree',\n",
       " 'fold_permutation_block': 0,\n",
       " 'leaf_estimation_method': 'Newton',\n",
       " 'counter_calc_method': 'SkipTest',\n",
       " 'grow_policy': 'SymmetricTree',\n",
       " 'penalties_coefficient': 1,\n",
       " 'boosting_type': 'Plain',\n",
       " 'model_shrink_mode': 'Constant',\n",
       " 'feature_border_type': 'GreedyLogSum',\n",
       " 'ctr_leaf_count_limit': 18446744073709551615,\n",
       " 'bayesian_matrix_reg': 0.10000000149011612,\n",
       " 'one_hot_max_size': 2,\n",
       " 'eval_fraction': 0,\n",
       " 'force_unit_auto_pair_weights': False,\n",
       " 'l2_leaf_reg': 3,\n",
       " 'random_strength': 1,\n",
       " 'rsm': 1,\n",
       " 'boost_from_average': True,\n",
       " 'max_ctr_complexity': 4,\n",
       " 'model_size_reg': 0.5,\n",
       " 'simple_ctr': ['Borders:CtrBorderCount=15:CtrBorderType=Uniform:TargetBorderCount=1:TargetBorderType=MinEntropy:Prior=0/1:Prior=0.5/1:Prior=1/1',\n",
       "  'Counter:CtrBorderCount=15:CtrBorderType=Uniform:Prior=0/1'],\n",
       " 'pool_metainfo_options': {'tags': {}},\n",
       " 'subsample': 0.800000011920929,\n",
       " 'use_best_model': False,\n",
       " 'random_seed': 12345,\n",
       " 'depth': 6,\n",
       " 'ctr_target_border_count': 1,\n",
       " 'posterior_sampling': False,\n",
       " 'has_time': False,\n",
       " 'store_all_simple_ctr': False,\n",
       " 'border_count': 254,\n",
       " 'classes_count': 0,\n",
       " 'auto_class_weights': 'None',\n",
       " 'sparse_features_conflict_fraction': 0,\n",
       " 'leaf_estimation_backtracking': 'AnyImprovement',\n",
       " 'best_model_min_trees': 1,\n",
       " 'model_shrink_rate': 0,\n",
       " 'min_data_in_leaf': 1,\n",
       " 'loss_function': 'RMSE',\n",
       " 'learning_rate': 0.3499999940395355,\n",
       " 'score_function': 'Cosine',\n",
       " 'task_type': 'CPU',\n",
       " 'leaf_estimation_iterations': 1,\n",
       " 'bootstrap_type': 'MVS',\n",
       " 'max_leaves': 64,\n",
       " 'permutation_count': 4}"
      ]
     },
     "execution_count": 463,
     "metadata": {},
     "output_type": "execute_result"
    }
   ],
   "source": [
    "model.get_all_params()"
   ]
  },
  {
   "cell_type": "code",
   "execution_count": 464,
   "metadata": {},
   "outputs": [],
   "source": [
    "df_new_test['sellingprice'] = model.predict(df_new_test[X])"
   ]
  },
  {
   "cell_type": "code",
   "execution_count": 465,
   "metadata": {},
   "outputs": [
    {
     "name": "stdout",
     "output_type": "stream",
     "text": [
      "<class 'pandas.core.frame.DataFrame'>\n",
      "Int64Index: 110058 entries, 0 to 110057\n",
      "Data columns (total 18 columns):\n",
      " #   Column        Non-Null Count   Dtype  \n",
      "---  ------        --------------   -----  \n",
      " 0   year          110058 non-null  int64  \n",
      " 1   make          110058 non-null  object \n",
      " 2   model         110058 non-null  object \n",
      " 3   trim          110058 non-null  object \n",
      " 4   body          110058 non-null  object \n",
      " 5   transmission  110058 non-null  object \n",
      " 6   vin           110058 non-null  object \n",
      " 7   state         110058 non-null  object \n",
      " 8   condition     110058 non-null  float64\n",
      " 9   odometer      110058 non-null  float64\n",
      " 10  color         110058 non-null  object \n",
      " 11  interior      110058 non-null  object \n",
      " 12  seller        110058 non-null  object \n",
      " 13  sellingprice  110058 non-null  float64\n",
      " 14  saledate      110058 non-null  object \n",
      " 15  sale_month    110058 non-null  object \n",
      " 16  sale_year     110058 non-null  int64  \n",
      " 17  car_age       110058 non-null  int64  \n",
      "dtypes: float64(3), int64(3), object(12)\n",
      "memory usage: 16.0+ MB\n"
     ]
    }
   ],
   "source": [
    "df_new_test.info()"
   ]
  },
  {
   "cell_type": "code",
   "execution_count": 466,
   "metadata": {},
   "outputs": [],
   "source": [
    "b=['vin', 'sellingprice']"
   ]
  },
  {
   "cell_type": "code",
   "execution_count": 467,
   "metadata": {},
   "outputs": [],
   "source": [
    "df_new = df_new_test[b]"
   ]
  },
  {
   "cell_type": "code",
   "execution_count": 468,
   "metadata": {},
   "outputs": [
    {
     "data": {
      "text/html": [
       "<div>\n",
       "<style scoped>\n",
       "    .dataframe tbody tr th:only-of-type {\n",
       "        vertical-align: middle;\n",
       "    }\n",
       "\n",
       "    .dataframe tbody tr th {\n",
       "        vertical-align: top;\n",
       "    }\n",
       "\n",
       "    .dataframe thead th {\n",
       "        text-align: right;\n",
       "    }\n",
       "</style>\n",
       "<table border=\"1\" class=\"dataframe\">\n",
       "  <thead>\n",
       "    <tr style=\"text-align: right;\">\n",
       "      <th></th>\n",
       "      <th>vin</th>\n",
       "      <th>sellingprice</th>\n",
       "    </tr>\n",
       "  </thead>\n",
       "  <tbody>\n",
       "    <tr>\n",
       "      <th>0</th>\n",
       "      <td>1g6dp567450124779</td>\n",
       "      <td>4783.938816</td>\n",
       "    </tr>\n",
       "    <tr>\n",
       "      <th>1</th>\n",
       "      <td>1gtw7fca7e1902207</td>\n",
       "      <td>21478.604789</td>\n",
       "    </tr>\n",
       "    <tr>\n",
       "      <th>2</th>\n",
       "      <td>jn8az1mw6dw303497</td>\n",
       "      <td>20797.808263</td>\n",
       "    </tr>\n",
       "    <tr>\n",
       "      <th>3</th>\n",
       "      <td>2g1wf5e34d1160703</td>\n",
       "      <td>9697.789602</td>\n",
       "    </tr>\n",
       "    <tr>\n",
       "      <th>4</th>\n",
       "      <td>1n6aa0ec3dn301209</td>\n",
       "      <td>19656.491756</td>\n",
       "    </tr>\n",
       "  </tbody>\n",
       "</table>\n",
       "</div>"
      ],
      "text/plain": [
       "                 vin  sellingprice\n",
       "0  1g6dp567450124779   4783.938816\n",
       "1  1gtw7fca7e1902207  21478.604789\n",
       "2  jn8az1mw6dw303497  20797.808263\n",
       "3  2g1wf5e34d1160703   9697.789602\n",
       "4  1n6aa0ec3dn301209  19656.491756"
      ]
     },
     "metadata": {},
     "output_type": "display_data"
    }
   ],
   "source": [
    "display(df_new.head())"
   ]
  },
  {
   "cell_type": "code",
   "execution_count": 469,
   "metadata": {},
   "outputs": [],
   "source": [
    "#df_new.to_csv (r'C:\\Users\\svkb2\\Desktop\\Data Science\\Workshop car cost\\Predict\\sample_submission_3.csv', index= False )"
   ]
  },
  {
   "cell_type": "markdown",
   "metadata": {},
   "source": [
    "## 5. Анализ важности признаков, влияющих на стоимость"
   ]
  },
  {
   "cell_type": "markdown",
   "metadata": {},
   "source": [
    "### 5.1. Вычисленные значения функций"
   ]
  },
  {
   "cell_type": "code",
   "execution_count": 476,
   "metadata": {},
   "outputs": [
    {
     "data": {
      "text/plain": [
       "array([19.98467182, 18.45439051,  7.11216385, 10.29583823,  0.39100884,\n",
       "        0.91797746,  5.82184981, 16.7542105 ,  0.33751704,  1.40026464,\n",
       "        2.87996106,  0.7538158 , 14.89633044])"
      ]
     },
     "execution_count": 476,
     "metadata": {},
     "output_type": "execute_result"
    }
   ],
   "source": [
    "model.feature_importances_"
   ]
  },
  {
   "cell_type": "code",
   "execution_count": null,
   "metadata": {},
   "outputs": [],
   "source": [
    "f_i = pd.DataFrame({'featture': X, \n",
    "                    'rate': [19.98467182, 18.45439051, 7.11216385, 10.29583823, \n",
    "                             0.39100884, 0.91797746, 5.82184981, 16.7542105 , \n",
    "                             0.33751704, 1.40026464, 2.87996106, 0.7538158 , 14.89633044]})"
   ]
  },
  {
   "cell_type": "code",
   "execution_count": 477,
   "metadata": {},
   "outputs": [
    {
     "data": {
      "text/html": [
       "<div>\n",
       "<style scoped>\n",
       "    .dataframe tbody tr th:only-of-type {\n",
       "        vertical-align: middle;\n",
       "    }\n",
       "\n",
       "    .dataframe tbody tr th {\n",
       "        vertical-align: top;\n",
       "    }\n",
       "\n",
       "    .dataframe thead th {\n",
       "        text-align: right;\n",
       "    }\n",
       "</style>\n",
       "<table border=\"1\" class=\"dataframe\">\n",
       "  <thead>\n",
       "    <tr style=\"text-align: right;\">\n",
       "      <th></th>\n",
       "      <th>featture</th>\n",
       "      <th>rate</th>\n",
       "    </tr>\n",
       "  </thead>\n",
       "  <tbody>\n",
       "    <tr>\n",
       "      <th>0</th>\n",
       "      <td>make</td>\n",
       "      <td>19.984672</td>\n",
       "    </tr>\n",
       "    <tr>\n",
       "      <th>1</th>\n",
       "      <td>model</td>\n",
       "      <td>18.454391</td>\n",
       "    </tr>\n",
       "    <tr>\n",
       "      <th>7</th>\n",
       "      <td>odometer</td>\n",
       "      <td>16.754210</td>\n",
       "    </tr>\n",
       "    <tr>\n",
       "      <th>12</th>\n",
       "      <td>car_age</td>\n",
       "      <td>14.896330</td>\n",
       "    </tr>\n",
       "    <tr>\n",
       "      <th>3</th>\n",
       "      <td>body</td>\n",
       "      <td>10.295838</td>\n",
       "    </tr>\n",
       "    <tr>\n",
       "      <th>2</th>\n",
       "      <td>trim</td>\n",
       "      <td>7.112164</td>\n",
       "    </tr>\n",
       "    <tr>\n",
       "      <th>6</th>\n",
       "      <td>condition</td>\n",
       "      <td>5.821850</td>\n",
       "    </tr>\n",
       "    <tr>\n",
       "      <th>10</th>\n",
       "      <td>seller</td>\n",
       "      <td>2.879961</td>\n",
       "    </tr>\n",
       "    <tr>\n",
       "      <th>9</th>\n",
       "      <td>interior</td>\n",
       "      <td>1.400265</td>\n",
       "    </tr>\n",
       "    <tr>\n",
       "      <th>5</th>\n",
       "      <td>state</td>\n",
       "      <td>0.917977</td>\n",
       "    </tr>\n",
       "    <tr>\n",
       "      <th>11</th>\n",
       "      <td>sale_month</td>\n",
       "      <td>0.753816</td>\n",
       "    </tr>\n",
       "    <tr>\n",
       "      <th>4</th>\n",
       "      <td>transmission</td>\n",
       "      <td>0.391009</td>\n",
       "    </tr>\n",
       "    <tr>\n",
       "      <th>8</th>\n",
       "      <td>color</td>\n",
       "      <td>0.337517</td>\n",
       "    </tr>\n",
       "  </tbody>\n",
       "</table>\n",
       "</div>"
      ],
      "text/plain": [
       "        featture       rate\n",
       "0           make  19.984672\n",
       "1          model  18.454391\n",
       "7       odometer  16.754210\n",
       "12       car_age  14.896330\n",
       "3           body  10.295838\n",
       "2           trim   7.112164\n",
       "6      condition   5.821850\n",
       "10        seller   2.879961\n",
       "9       interior   1.400265\n",
       "5          state   0.917977\n",
       "11    sale_month   0.753816\n",
       "4   transmission   0.391009\n",
       "8          color   0.337517"
      ]
     },
     "execution_count": 477,
     "metadata": {},
     "output_type": "execute_result"
    }
   ],
   "source": [
    "f_i.sort_values('rate', ascending=False)"
   ]
  },
  {
   "cell_type": "markdown",
   "metadata": {},
   "source": [
    "### 5.2. Распределение влияния каждой функции на выходные данные модели"
   ]
  },
  {
   "cell_type": "code",
   "execution_count": 470,
   "metadata": {},
   "outputs": [],
   "source": [
    "explainer = shap.TreeExplainer(model)"
   ]
  },
  {
   "cell_type": "code",
   "execution_count": 471,
   "metadata": {},
   "outputs": [],
   "source": [
    "shap_values = explainer.shap_values(train_data)"
   ]
  },
  {
   "cell_type": "code",
   "execution_count": 472,
   "metadata": {
    "scrolled": false
   },
   "outputs": [
    {
     "data": {
      "image/png": "[encoded data removed]",
      "text/plain": [
       "<Figure size 800x670 with 1 Axes>"
      ]
     },
     "metadata": {},
     "output_type": "display_data"
    }
   ],
   "source": [
    "shap.summary_plot(shap_values, X)"
   ]
  },
  {
   "cell_type": "markdown",
   "metadata": {},
   "source": [
    "## 6. Итоги"
   ]
  },
  {
   "cell_type": "markdown",
   "metadata": {},
   "source": [
    "Целью проекта была разработка модели предсказания стоимости автомобиля на вторичном рынке.  \n",
    "В качестве исходных данных использовалась информация о продажах (~440000) автомобилей с аукционов.  \n",
    "В рамках проекта исходные данные были загружены и исследованы.  \n",
    "На этапе предобработки данных были заполнены пропуски, устранены неявные дубликаты, выделены и созданы новые признаки.  \n",
    "По результатам проведенного анализа были отобраны признаки для моделирования.  \n",
    "Для моделирования была выбрана модель CatBoostRegressor.  \n",
    "Были определены оптимальные гиперпараметры и обучена модель.  \n",
    "По результатам моделирования был проведен анализ важности признаков, влияющих на стоимость.  \n",
    "Наибольшее влияние на стоимость автомобиля оказывают модель и возраст автомобиля.  \n",
    "Наименьшее - цвет кузова и тип коробки передач.  \n",
    "С использованием модели были выполнены предсказания на тестовых данных.  \n",
    "Предсказания загружены на платформу Kaggle.  \n",
    "Показатель эффективности модели MAPE на тестовых данных составил 17.11283%.  \n",
    "Это обеспечило модели позицию № 9 в рейтинге конкурса 'Предскажи стоимость автомобиля на вторичном рынке'."
   ]
  }
 ],
 "metadata": {
  "ExecuteTimeLog": [
   {
    "duration": 46,
    "start_time": "2023-02-27T10:41:08.553Z"
   },
   {
    "duration": 1133,
    "start_time": "2023-02-27T10:41:47.680Z"
   },
   {
    "duration": 185,
    "start_time": "2023-02-27T10:44:19.402Z"
   },
   {
    "duration": 57,
    "start_time": "2023-02-27T10:48:23.757Z"
   },
   {
    "duration": 52,
    "start_time": "2023-02-27T10:48:26.923Z"
   },
   {
    "duration": 18,
    "start_time": "2023-02-27T10:48:44.127Z"
   },
   {
    "duration": 13,
    "start_time": "2023-02-27T10:48:58.057Z"
   },
   {
    "duration": 4,
    "start_time": "2023-02-27T10:49:22.227Z"
   },
   {
    "duration": 73,
    "start_time": "2023-02-27T10:50:29.032Z"
   },
   {
    "duration": 12,
    "start_time": "2023-02-27T10:50:39.484Z"
   },
   {
    "duration": 16,
    "start_time": "2023-02-27T10:52:42.307Z"
   },
   {
    "duration": 5,
    "start_time": "2023-02-27T10:53:39.664Z"
   },
   {
    "duration": 13,
    "start_time": "2023-02-27T10:54:20.165Z"
   },
   {
    "duration": 17,
    "start_time": "2023-02-27T10:54:36.318Z"
   },
   {
    "duration": 25,
    "start_time": "2023-02-27T10:56:48.481Z"
   },
   {
    "duration": 11,
    "start_time": "2023-02-27T11:02:09.951Z"
   },
   {
    "duration": 4,
    "start_time": "2023-02-27T11:02:32.819Z"
   },
   {
    "duration": 9,
    "start_time": "2023-02-27T11:03:10.669Z"
   },
   {
    "duration": 5,
    "start_time": "2023-02-27T11:03:55.784Z"
   },
   {
    "duration": 17,
    "start_time": "2023-02-27T13:07:11.417Z"
   },
   {
    "duration": 12,
    "start_time": "2023-02-27T13:09:24.830Z"
   },
   {
    "duration": 13,
    "start_time": "2023-02-27T13:16:41.058Z"
   },
   {
    "duration": 3,
    "start_time": "2023-02-27T13:27:20.646Z"
   },
   {
    "duration": 2,
    "start_time": "2023-02-27T13:27:23.959Z"
   },
   {
    "duration": 16,
    "start_time": "2023-02-27T13:28:06.537Z"
   },
   {
    "duration": 4,
    "start_time": "2023-02-27T13:28:19.057Z"
   },
   {
    "duration": 3,
    "start_time": "2023-02-27T13:28:27.066Z"
   },
   {
    "duration": 3,
    "start_time": "2023-02-27T13:28:39.296Z"
   },
   {
    "duration": 13,
    "start_time": "2023-02-27T13:28:52.075Z"
   },
   {
    "duration": 9,
    "start_time": "2023-02-27T13:36:06.706Z"
   },
   {
    "duration": 5,
    "start_time": "2023-02-27T13:36:53.699Z"
   },
   {
    "duration": 4,
    "start_time": "2023-02-27T14:06:58.122Z"
   },
   {
    "duration": 11,
    "start_time": "2023-02-27T14:07:16.707Z"
   },
   {
    "duration": 42,
    "start_time": "2023-02-27T14:57:20.312Z"
   },
   {
    "duration": 12,
    "start_time": "2023-02-27T14:57:20.356Z"
   },
   {
    "duration": 12,
    "start_time": "2023-02-27T14:57:20.370Z"
   },
   {
    "duration": 7,
    "start_time": "2023-02-27T14:57:20.384Z"
   },
   {
    "duration": 10,
    "start_time": "2023-02-27T14:57:20.393Z"
   },
   {
    "duration": 8,
    "start_time": "2023-02-27T14:57:51.403Z"
   },
   {
    "duration": 14,
    "start_time": "2023-02-27T14:58:21.572Z"
   },
   {
    "duration": 10,
    "start_time": "2023-02-27T15:04:41.856Z"
   },
   {
    "duration": 8,
    "start_time": "2023-02-27T15:04:53.449Z"
   },
   {
    "duration": 20,
    "start_time": "2023-02-27T16:18:49.009Z"
   },
   {
    "duration": 16,
    "start_time": "2023-02-27T16:19:31.069Z"
   },
   {
    "duration": 13,
    "start_time": "2023-02-27T16:19:48.564Z"
   },
   {
    "duration": 12,
    "start_time": "2023-02-27T16:21:48.873Z"
   },
   {
    "duration": 15,
    "start_time": "2023-02-27T16:25:41.959Z"
   },
   {
    "duration": 14,
    "start_time": "2023-02-27T16:29:27.162Z"
   },
   {
    "duration": 44,
    "start_time": "2023-02-27T16:29:38.759Z"
   },
   {
    "duration": 13,
    "start_time": "2023-02-27T16:29:38.806Z"
   },
   {
    "duration": 15,
    "start_time": "2023-02-27T16:29:38.821Z"
   },
   {
    "duration": 15,
    "start_time": "2023-02-27T16:29:38.837Z"
   },
   {
    "duration": 8,
    "start_time": "2023-02-27T16:29:38.854Z"
   },
   {
    "duration": 28,
    "start_time": "2023-02-27T16:29:38.863Z"
   },
   {
    "duration": 17,
    "start_time": "2023-02-27T16:29:42.904Z"
   },
   {
    "duration": 23,
    "start_time": "2023-02-27T16:30:43.182Z"
   },
   {
    "duration": 15,
    "start_time": "2023-02-27T16:30:49.231Z"
   },
   {
    "duration": 15,
    "start_time": "2023-02-27T16:38:28.292Z"
   },
   {
    "duration": 41,
    "start_time": "2023-02-27T16:53:10.203Z"
   },
   {
    "duration": 12,
    "start_time": "2023-02-27T16:53:10.246Z"
   },
   {
    "duration": 19,
    "start_time": "2023-02-27T16:53:10.260Z"
   },
   {
    "duration": 22,
    "start_time": "2023-02-27T16:53:10.281Z"
   },
   {
    "duration": 9,
    "start_time": "2023-02-27T16:53:10.304Z"
   },
   {
    "duration": 9,
    "start_time": "2023-02-27T16:53:10.314Z"
   },
   {
    "duration": 19,
    "start_time": "2023-02-27T16:53:10.324Z"
   },
   {
    "duration": 17,
    "start_time": "2023-02-27T16:53:10.345Z"
   },
   {
    "duration": 5,
    "start_time": "2023-02-27T17:01:34.174Z"
   },
   {
    "duration": 6,
    "start_time": "2023-02-27T17:02:14.299Z"
   },
   {
    "duration": 1983,
    "start_time": "2023-02-27T17:03:40.193Z"
   },
   {
    "duration": 20,
    "start_time": "2023-02-27T17:18:00.249Z"
   },
   {
    "duration": 8,
    "start_time": "2023-02-27T17:28:45.488Z"
   },
   {
    "duration": 39,
    "start_time": "2023-02-27T17:41:45.115Z"
   },
   {
    "duration": 11,
    "start_time": "2023-02-27T17:41:45.157Z"
   },
   {
    "duration": 28,
    "start_time": "2023-02-27T17:41:45.170Z"
   },
   {
    "duration": 24,
    "start_time": "2023-02-27T17:41:45.199Z"
   },
   {
    "duration": 6,
    "start_time": "2023-02-27T17:41:45.226Z"
   },
   {
    "duration": 5,
    "start_time": "2023-02-27T17:41:45.234Z"
   },
   {
    "duration": 17,
    "start_time": "2023-02-27T17:41:45.241Z"
   },
   {
    "duration": 40,
    "start_time": "2023-02-27T17:41:45.259Z"
   },
   {
    "duration": 10,
    "start_time": "2023-02-27T17:41:45.301Z"
   },
   {
    "duration": 10,
    "start_time": "2023-02-27T17:41:50.800Z"
   },
   {
    "duration": 13,
    "start_time": "2023-02-27T17:42:28.645Z"
   },
   {
    "duration": 8,
    "start_time": "2023-02-27T17:44:22.312Z"
   },
   {
    "duration": 6,
    "start_time": "2023-02-27T17:45:09.274Z"
   },
   {
    "duration": 15,
    "start_time": "2023-02-27T17:46:04.569Z"
   },
   {
    "duration": 18,
    "start_time": "2023-02-27T17:46:13.997Z"
   },
   {
    "duration": 16,
    "start_time": "2023-02-27T17:48:16.502Z"
   },
   {
    "duration": 41,
    "start_time": "2023-02-27T17:48:43.179Z"
   },
   {
    "duration": 13,
    "start_time": "2023-02-27T17:48:43.222Z"
   },
   {
    "duration": 26,
    "start_time": "2023-02-27T17:48:43.236Z"
   },
   {
    "duration": 12,
    "start_time": "2023-02-27T17:48:43.264Z"
   },
   {
    "duration": 5,
    "start_time": "2023-02-27T17:48:43.278Z"
   },
   {
    "duration": 6,
    "start_time": "2023-02-27T17:48:43.285Z"
   },
   {
    "duration": 14,
    "start_time": "2023-02-27T17:48:43.293Z"
   },
   {
    "duration": 24,
    "start_time": "2023-02-27T17:48:43.309Z"
   },
   {
    "duration": 6,
    "start_time": "2023-02-27T17:48:43.335Z"
   },
   {
    "duration": 28,
    "start_time": "2023-02-27T17:48:43.343Z"
   },
   {
    "duration": 1530,
    "start_time": "2023-02-27T17:48:43.392Z"
   },
   {
    "duration": 3,
    "start_time": "2023-02-27T17:48:44.924Z"
   },
   {
    "duration": 23,
    "start_time": "2023-02-27T17:56:58.245Z"
   },
   {
    "duration": 23,
    "start_time": "2023-02-27T17:58:42.150Z"
   },
   {
    "duration": 38,
    "start_time": "2023-02-27T17:59:18.566Z"
   },
   {
    "duration": 11,
    "start_time": "2023-02-27T17:59:18.606Z"
   },
   {
    "duration": 21,
    "start_time": "2023-02-27T17:59:18.618Z"
   },
   {
    "duration": 17,
    "start_time": "2023-02-27T17:59:18.641Z"
   },
   {
    "duration": 5,
    "start_time": "2023-02-27T17:59:18.661Z"
   },
   {
    "duration": 21,
    "start_time": "2023-02-27T17:59:18.667Z"
   },
   {
    "duration": 29,
    "start_time": "2023-02-27T17:59:18.690Z"
   },
   {
    "duration": 16,
    "start_time": "2023-02-27T17:59:18.721Z"
   },
   {
    "duration": 5,
    "start_time": "2023-02-27T17:59:18.739Z"
   },
   {
    "duration": 13,
    "start_time": "2023-02-27T17:59:18.745Z"
   },
   {
    "duration": 1447,
    "start_time": "2023-02-27T17:59:18.760Z"
   },
   {
    "duration": 22,
    "start_time": "2023-02-27T17:59:20.209Z"
   },
   {
    "duration": 19,
    "start_time": "2023-02-27T18:00:38.767Z"
   },
   {
    "duration": 19,
    "start_time": "2023-02-27T18:01:18.931Z"
   },
   {
    "duration": 32,
    "start_time": "2023-02-27T18:01:47.842Z"
   },
   {
    "duration": 39,
    "start_time": "2023-02-27T18:06:05.659Z"
   },
   {
    "duration": 13,
    "start_time": "2023-02-27T18:06:05.700Z"
   },
   {
    "duration": 29,
    "start_time": "2023-02-27T18:06:05.714Z"
   },
   {
    "duration": 24,
    "start_time": "2023-02-27T18:06:05.745Z"
   },
   {
    "duration": 6,
    "start_time": "2023-02-27T18:06:05.772Z"
   },
   {
    "duration": 21,
    "start_time": "2023-02-27T18:06:05.779Z"
   },
   {
    "duration": 21,
    "start_time": "2023-02-27T18:06:05.801Z"
   },
   {
    "duration": 24,
    "start_time": "2023-02-27T18:06:05.824Z"
   },
   {
    "duration": 16,
    "start_time": "2023-02-27T18:06:05.851Z"
   },
   {
    "duration": 12,
    "start_time": "2023-02-27T18:06:05.868Z"
   },
   {
    "duration": 1540,
    "start_time": "2023-02-27T18:06:05.881Z"
   },
   {
    "duration": 28,
    "start_time": "2023-02-27T18:06:07.423Z"
   },
   {
    "duration": 4,
    "start_time": "2023-02-27T18:27:18.082Z"
   },
   {
    "duration": 4,
    "start_time": "2023-02-27T18:28:14.003Z"
   },
   {
    "duration": 5,
    "start_time": "2023-02-27T18:28:31.959Z"
   },
   {
    "duration": 3,
    "start_time": "2023-02-27T18:30:25.709Z"
   },
   {
    "duration": 4,
    "start_time": "2023-02-27T18:30:34.920Z"
   },
   {
    "duration": 4,
    "start_time": "2023-02-27T18:32:19.964Z"
   },
   {
    "duration": 5,
    "start_time": "2023-02-27T18:32:55.338Z"
   },
   {
    "duration": 1340,
    "start_time": "2023-02-28T16:20:26.887Z"
   },
   {
    "duration": 16,
    "start_time": "2023-02-28T16:20:28.229Z"
   },
   {
    "duration": 62,
    "start_time": "2023-02-28T16:20:28.247Z"
   },
   {
    "duration": 18,
    "start_time": "2023-02-28T16:20:28.311Z"
   },
   {
    "duration": 5,
    "start_time": "2023-02-28T16:20:28.342Z"
   },
   {
    "duration": 16,
    "start_time": "2023-02-28T16:20:28.349Z"
   },
   {
    "duration": 37,
    "start_time": "2023-02-28T16:20:28.367Z"
   },
   {
    "duration": 19,
    "start_time": "2023-02-28T16:20:28.406Z"
   },
   {
    "duration": 35,
    "start_time": "2023-02-28T16:20:28.431Z"
   },
   {
    "duration": 16,
    "start_time": "2023-02-28T16:20:28.468Z"
   },
   {
    "duration": 2096,
    "start_time": "2023-02-28T16:20:28.485Z"
   },
   {
    "duration": 33,
    "start_time": "2023-02-28T16:20:30.583Z"
   },
   {
    "duration": 105,
    "start_time": "2023-02-28T16:20:30.617Z"
   },
   {
    "duration": 59,
    "start_time": "2023-02-28T16:20:54.241Z"
   },
   {
    "duration": 53,
    "start_time": "2023-02-28T16:28:12.457Z"
   },
   {
    "duration": 111,
    "start_time": "2023-02-28T16:33:02.886Z"
   },
   {
    "duration": 128,
    "start_time": "2023-02-28T16:33:18.562Z"
   },
   {
    "duration": 132,
    "start_time": "2023-02-28T16:34:14.681Z"
   },
   {
    "duration": 4,
    "start_time": "2023-02-28T16:42:11.894Z"
   },
   {
    "duration": 4,
    "start_time": "2023-02-28T16:58:02.485Z"
   },
   {
    "duration": 3,
    "start_time": "2023-02-28T16:59:00.053Z"
   },
   {
    "duration": 1266,
    "start_time": "2023-03-01T09:13:40.077Z"
   },
   {
    "duration": 17,
    "start_time": "2023-03-01T09:13:41.346Z"
   },
   {
    "duration": 19,
    "start_time": "2023-03-01T09:13:41.365Z"
   },
   {
    "duration": 10,
    "start_time": "2023-03-01T09:13:41.386Z"
   },
   {
    "duration": 4,
    "start_time": "2023-03-01T09:13:41.398Z"
   },
   {
    "duration": 5,
    "start_time": "2023-03-01T09:13:41.403Z"
   },
   {
    "duration": 33,
    "start_time": "2023-03-01T09:13:41.410Z"
   },
   {
    "duration": 18,
    "start_time": "2023-03-01T09:13:41.445Z"
   },
   {
    "duration": 6,
    "start_time": "2023-03-01T09:13:41.465Z"
   },
   {
    "duration": 19,
    "start_time": "2023-03-01T09:13:41.473Z"
   },
   {
    "duration": 69,
    "start_time": "2023-03-01T09:13:41.494Z"
   },
   {
    "duration": 34,
    "start_time": "2023-03-01T09:13:41.565Z"
   },
   {
    "duration": 611,
    "start_time": "2023-03-01T09:13:41.601Z"
   },
   {
    "duration": 5,
    "start_time": "2023-03-01T09:13:42.214Z"
   },
   {
    "duration": 13,
    "start_time": "2023-03-01T09:18:43.756Z"
   },
   {
    "duration": 132,
    "start_time": "2023-03-01T09:24:04.282Z"
   },
   {
    "duration": 36,
    "start_time": "2023-03-01T09:25:43.353Z"
   },
   {
    "duration": 12,
    "start_time": "2023-03-01T09:25:43.391Z"
   },
   {
    "duration": 15,
    "start_time": "2023-03-01T09:25:43.405Z"
   },
   {
    "duration": 17,
    "start_time": "2023-03-01T09:25:43.423Z"
   },
   {
    "duration": 14,
    "start_time": "2023-03-01T09:25:43.442Z"
   },
   {
    "duration": 7,
    "start_time": "2023-03-01T09:25:43.457Z"
   },
   {
    "duration": 15,
    "start_time": "2023-03-01T09:25:43.466Z"
   },
   {
    "duration": 17,
    "start_time": "2023-03-01T09:25:43.482Z"
   },
   {
    "duration": 12,
    "start_time": "2023-03-01T09:25:43.501Z"
   },
   {
    "duration": 24,
    "start_time": "2023-03-01T09:25:43.529Z"
   },
   {
    "duration": 19,
    "start_time": "2023-03-01T09:25:43.555Z"
   },
   {
    "duration": 0,
    "start_time": "2023-03-01T09:25:43.575Z"
   },
   {
    "duration": 0,
    "start_time": "2023-03-01T09:25:43.577Z"
   },
   {
    "duration": 0,
    "start_time": "2023-03-01T09:25:43.578Z"
   },
   {
    "duration": 0,
    "start_time": "2023-03-01T09:25:43.579Z"
   },
   {
    "duration": 10,
    "start_time": "2023-03-01T09:27:15.940Z"
   },
   {
    "duration": 12,
    "start_time": "2023-03-01T09:27:29.282Z"
   },
   {
    "duration": 10,
    "start_time": "2023-03-01T09:28:03.443Z"
   },
   {
    "duration": 9,
    "start_time": "2023-03-01T09:30:19.364Z"
   },
   {
    "duration": 36,
    "start_time": "2023-03-01T09:38:05.686Z"
   },
   {
    "duration": 13,
    "start_time": "2023-03-01T09:38:05.724Z"
   },
   {
    "duration": 13,
    "start_time": "2023-03-01T09:38:05.738Z"
   },
   {
    "duration": 12,
    "start_time": "2023-03-01T09:38:05.753Z"
   },
   {
    "duration": 5,
    "start_time": "2023-03-01T09:38:05.767Z"
   },
   {
    "duration": 9,
    "start_time": "2023-03-01T09:38:05.774Z"
   },
   {
    "duration": 14,
    "start_time": "2023-03-01T09:38:05.785Z"
   },
   {
    "duration": 19,
    "start_time": "2023-03-01T09:38:05.826Z"
   },
   {
    "duration": 13,
    "start_time": "2023-03-01T09:38:05.846Z"
   },
   {
    "duration": 13,
    "start_time": "2023-03-01T09:38:05.861Z"
   },
   {
    "duration": 10,
    "start_time": "2023-03-01T09:38:05.875Z"
   },
   {
    "duration": 0,
    "start_time": "2023-03-01T09:38:05.887Z"
   },
   {
    "duration": 0,
    "start_time": "2023-03-01T09:38:05.888Z"
   },
   {
    "duration": 0,
    "start_time": "2023-03-01T09:38:05.889Z"
   },
   {
    "duration": 0,
    "start_time": "2023-03-01T09:38:05.891Z"
   },
   {
    "duration": 37,
    "start_time": "2023-03-01T09:39:21.277Z"
   },
   {
    "duration": 12,
    "start_time": "2023-03-01T09:39:21.316Z"
   },
   {
    "duration": 14,
    "start_time": "2023-03-01T09:39:21.330Z"
   },
   {
    "duration": 16,
    "start_time": "2023-03-01T09:39:21.346Z"
   },
   {
    "duration": 6,
    "start_time": "2023-03-01T09:39:21.366Z"
   },
   {
    "duration": 7,
    "start_time": "2023-03-01T09:39:21.374Z"
   },
   {
    "duration": 14,
    "start_time": "2023-03-01T09:39:21.383Z"
   },
   {
    "duration": 26,
    "start_time": "2023-03-01T09:39:21.427Z"
   },
   {
    "duration": 8,
    "start_time": "2023-03-01T09:39:21.455Z"
   },
   {
    "duration": 12,
    "start_time": "2023-03-01T09:39:21.466Z"
   },
   {
    "duration": 9,
    "start_time": "2023-03-01T09:39:21.480Z"
   },
   {
    "duration": 87,
    "start_time": "2023-03-01T09:39:21.491Z"
   },
   {
    "duration": 47,
    "start_time": "2023-03-01T09:39:21.580Z"
   },
   {
    "duration": 190,
    "start_time": "2023-03-01T09:39:21.630Z"
   },
   {
    "duration": 7,
    "start_time": "2023-03-01T09:39:21.821Z"
   },
   {
    "duration": 34,
    "start_time": "2023-03-01T09:41:36.680Z"
   },
   {
    "duration": 29,
    "start_time": "2023-03-01T09:52:43.328Z"
   },
   {
    "duration": 43,
    "start_time": "2023-03-01T09:53:56.605Z"
   },
   {
    "duration": 14,
    "start_time": "2023-03-01T09:53:56.650Z"
   },
   {
    "duration": 14,
    "start_time": "2023-03-01T09:53:56.666Z"
   },
   {
    "duration": 14,
    "start_time": "2023-03-01T09:53:56.681Z"
   },
   {
    "duration": 34,
    "start_time": "2023-03-01T09:53:56.698Z"
   },
   {
    "duration": 5,
    "start_time": "2023-03-01T09:53:56.734Z"
   },
   {
    "duration": 22,
    "start_time": "2023-03-01T09:53:56.741Z"
   },
   {
    "duration": 20,
    "start_time": "2023-03-01T09:53:56.765Z"
   },
   {
    "duration": 6,
    "start_time": "2023-03-01T09:53:56.787Z"
   },
   {
    "duration": 34,
    "start_time": "2023-03-01T09:53:56.795Z"
   },
   {
    "duration": 14,
    "start_time": "2023-03-01T09:53:56.832Z"
   },
   {
    "duration": 51,
    "start_time": "2023-03-01T09:53:56.849Z"
   },
   {
    "duration": 57,
    "start_time": "2023-03-01T09:53:56.902Z"
   },
   {
    "duration": 153,
    "start_time": "2023-03-01T09:53:56.961Z"
   },
   {
    "duration": 5,
    "start_time": "2023-03-01T09:53:57.115Z"
   },
   {
    "duration": 209,
    "start_time": "2023-03-01T09:53:57.128Z"
   },
   {
    "duration": 197,
    "start_time": "2023-03-01T10:12:48.229Z"
   },
   {
    "duration": 31,
    "start_time": "2023-03-01T10:18:47.684Z"
   },
   {
    "duration": 38,
    "start_time": "2023-03-01T10:19:37.275Z"
   },
   {
    "duration": 13,
    "start_time": "2023-03-01T10:19:37.315Z"
   },
   {
    "duration": 32,
    "start_time": "2023-03-01T10:19:37.330Z"
   },
   {
    "duration": 19,
    "start_time": "2023-03-01T10:19:37.364Z"
   },
   {
    "duration": 8,
    "start_time": "2023-03-01T10:19:37.386Z"
   },
   {
    "duration": 37,
    "start_time": "2023-03-01T10:19:37.396Z"
   },
   {
    "duration": 32,
    "start_time": "2023-03-01T10:19:37.435Z"
   },
   {
    "duration": 19,
    "start_time": "2023-03-01T10:19:37.468Z"
   },
   {
    "duration": 7,
    "start_time": "2023-03-01T10:19:37.489Z"
   },
   {
    "duration": 18,
    "start_time": "2023-03-01T10:19:37.499Z"
   },
   {
    "duration": 13,
    "start_time": "2023-03-01T10:19:37.519Z"
   },
   {
    "duration": 41,
    "start_time": "2023-03-01T10:19:37.534Z"
   },
   {
    "duration": 33,
    "start_time": "2023-03-01T10:19:37.577Z"
   },
   {
    "duration": 198,
    "start_time": "2023-03-01T10:19:37.629Z"
   },
   {
    "duration": 5,
    "start_time": "2023-03-01T10:19:37.829Z"
   },
   {
    "duration": 33,
    "start_time": "2023-03-01T10:19:37.835Z"
   },
   {
    "duration": 58,
    "start_time": "2023-03-01T11:07:12.326Z"
   },
   {
    "duration": 11,
    "start_time": "2023-03-01T11:07:12.386Z"
   },
   {
    "duration": 12,
    "start_time": "2023-03-01T11:07:12.399Z"
   },
   {
    "duration": 11,
    "start_time": "2023-03-01T11:07:12.413Z"
   },
   {
    "duration": 6,
    "start_time": "2023-03-01T11:07:12.426Z"
   },
   {
    "duration": 30,
    "start_time": "2023-03-01T11:07:12.435Z"
   },
   {
    "duration": 14,
    "start_time": "2023-03-01T11:07:12.467Z"
   },
   {
    "duration": 17,
    "start_time": "2023-03-01T11:07:12.482Z"
   },
   {
    "duration": 102,
    "start_time": "2023-03-01T11:07:12.500Z"
   },
   {
    "duration": 10,
    "start_time": "2023-03-01T11:07:12.604Z"
   },
   {
    "duration": 27,
    "start_time": "2023-03-01T11:07:12.615Z"
   },
   {
    "duration": 55,
    "start_time": "2023-03-01T11:07:12.644Z"
   },
   {
    "duration": 50,
    "start_time": "2023-03-01T11:07:12.702Z"
   },
   {
    "duration": 152,
    "start_time": "2023-03-01T11:07:12.757Z"
   },
   {
    "duration": 5,
    "start_time": "2023-03-01T11:07:12.911Z"
   },
   {
    "duration": 41,
    "start_time": "2023-03-01T11:07:12.918Z"
   },
   {
    "duration": 199,
    "start_time": "2023-03-01T13:01:02.855Z"
   },
   {
    "duration": 168,
    "start_time": "2023-03-01T13:01:28.504Z"
   },
   {
    "duration": 50,
    "start_time": "2023-03-01T13:02:56.841Z"
   },
   {
    "duration": 1630,
    "start_time": "2023-03-02T15:22:01.185Z"
   },
   {
    "duration": 15,
    "start_time": "2023-03-02T15:22:02.818Z"
   },
   {
    "duration": 55,
    "start_time": "2023-03-02T15:22:02.835Z"
   },
   {
    "duration": 38,
    "start_time": "2023-03-02T15:22:02.899Z"
   },
   {
    "duration": 5,
    "start_time": "2023-03-02T15:22:02.940Z"
   },
   {
    "duration": 50,
    "start_time": "2023-03-02T15:22:02.953Z"
   },
   {
    "duration": 46,
    "start_time": "2023-03-02T15:22:03.006Z"
   },
   {
    "duration": 46,
    "start_time": "2023-03-02T15:22:03.057Z"
   },
   {
    "duration": 22,
    "start_time": "2023-03-02T15:22:03.107Z"
   },
   {
    "duration": 25,
    "start_time": "2023-03-02T15:22:03.131Z"
   },
   {
    "duration": 63,
    "start_time": "2023-03-02T15:22:03.158Z"
   },
   {
    "duration": 102,
    "start_time": "2023-03-02T15:22:03.223Z"
   },
   {
    "duration": 39,
    "start_time": "2023-03-02T15:22:03.327Z"
   },
   {
    "duration": 830,
    "start_time": "2023-03-02T15:22:03.373Z"
   },
   {
    "duration": 5,
    "start_time": "2023-03-02T15:22:04.207Z"
   },
   {
    "duration": 201,
    "start_time": "2023-03-02T15:32:42.489Z"
   },
   {
    "duration": 178,
    "start_time": "2023-03-02T15:44:16.666Z"
   },
   {
    "duration": 3673,
    "start_time": "2023-03-02T15:45:20.519Z"
   },
   {
    "duration": 5092,
    "start_time": "2023-03-02T15:49:30.323Z"
   },
   {
    "duration": 4940,
    "start_time": "2023-03-02T15:50:30.178Z"
   },
   {
    "duration": 26087,
    "start_time": "2023-03-02T15:50:57.876Z"
   },
   {
    "duration": 21562,
    "start_time": "2023-03-02T16:01:48.298Z"
   },
   {
    "duration": 21458,
    "start_time": "2023-03-02T16:02:28.891Z"
   },
   {
    "duration": 12346,
    "start_time": "2023-03-02T16:03:34.177Z"
   },
   {
    "duration": 47,
    "start_time": "2023-03-02T16:06:01.880Z"
   },
   {
    "duration": 17,
    "start_time": "2023-03-02T16:06:01.930Z"
   },
   {
    "duration": 45,
    "start_time": "2023-03-02T16:06:01.951Z"
   },
   {
    "duration": 46,
    "start_time": "2023-03-02T16:06:01.998Z"
   },
   {
    "duration": 59,
    "start_time": "2023-03-02T16:06:02.045Z"
   },
   {
    "duration": 31,
    "start_time": "2023-03-02T16:06:02.106Z"
   },
   {
    "duration": 39,
    "start_time": "2023-03-02T16:06:02.138Z"
   },
   {
    "duration": 39,
    "start_time": "2023-03-02T16:06:02.179Z"
   },
   {
    "duration": 18,
    "start_time": "2023-03-02T16:06:02.219Z"
   },
   {
    "duration": 49,
    "start_time": "2023-03-02T16:06:02.240Z"
   },
   {
    "duration": 27,
    "start_time": "2023-03-02T16:06:02.290Z"
   },
   {
    "duration": 67,
    "start_time": "2023-03-02T16:06:02.319Z"
   },
   {
    "duration": 34,
    "start_time": "2023-03-02T16:06:02.387Z"
   },
   {
    "duration": 155,
    "start_time": "2023-03-02T16:06:02.423Z"
   },
   {
    "duration": 4,
    "start_time": "2023-03-02T16:06:02.579Z"
   },
   {
    "duration": 235,
    "start_time": "2023-03-02T16:06:02.585Z"
   },
   {
    "duration": 12446,
    "start_time": "2023-03-02T16:06:02.822Z"
   },
   {
    "duration": 12304,
    "start_time": "2023-03-02T16:07:22.363Z"
   },
   {
    "duration": 856,
    "start_time": "2023-03-02T16:14:25.297Z"
   },
   {
    "duration": 733,
    "start_time": "2023-03-02T16:14:44.929Z"
   },
   {
    "duration": 474,
    "start_time": "2023-03-02T16:16:46.898Z"
   },
   {
    "duration": 113,
    "start_time": "2023-03-02T16:18:33.112Z"
   },
   {
    "duration": 40,
    "start_time": "2023-03-02T16:40:45.265Z"
   },
   {
    "duration": 11,
    "start_time": "2023-03-02T16:40:45.307Z"
   },
   {
    "duration": 13,
    "start_time": "2023-03-02T16:40:45.319Z"
   },
   {
    "duration": 39,
    "start_time": "2023-03-02T16:40:45.333Z"
   },
   {
    "duration": 6,
    "start_time": "2023-03-02T16:40:45.376Z"
   },
   {
    "duration": 39,
    "start_time": "2023-03-02T16:40:45.384Z"
   },
   {
    "duration": 35,
    "start_time": "2023-03-02T16:40:45.426Z"
   },
   {
    "duration": 48,
    "start_time": "2023-03-02T16:40:45.464Z"
   },
   {
    "duration": 14,
    "start_time": "2023-03-02T16:40:45.515Z"
   },
   {
    "duration": 70,
    "start_time": "2023-03-02T16:40:45.531Z"
   },
   {
    "duration": 18,
    "start_time": "2023-03-02T16:40:45.603Z"
   },
   {
    "duration": 56,
    "start_time": "2023-03-02T16:40:45.623Z"
   },
   {
    "duration": 53,
    "start_time": "2023-03-02T16:40:45.681Z"
   },
   {
    "duration": 236,
    "start_time": "2023-03-02T16:40:45.737Z"
   },
   {
    "duration": 4,
    "start_time": "2023-03-02T16:40:45.975Z"
   },
   {
    "duration": 171,
    "start_time": "2023-03-02T16:40:45.980Z"
   },
   {
    "duration": 11193,
    "start_time": "2023-03-02T16:40:46.153Z"
   },
   {
    "duration": 210,
    "start_time": "2023-03-02T16:40:57.348Z"
   },
   {
    "duration": 1225,
    "start_time": "2023-03-02T18:57:21.921Z"
   },
   {
    "duration": 13,
    "start_time": "2023-03-02T18:57:23.148Z"
   },
   {
    "duration": 18,
    "start_time": "2023-03-02T18:57:23.162Z"
   },
   {
    "duration": 11,
    "start_time": "2023-03-02T18:57:23.182Z"
   },
   {
    "duration": 4,
    "start_time": "2023-03-02T18:57:23.195Z"
   },
   {
    "duration": 8,
    "start_time": "2023-03-02T18:57:23.200Z"
   },
   {
    "duration": 40,
    "start_time": "2023-03-02T18:57:23.209Z"
   },
   {
    "duration": 17,
    "start_time": "2023-03-02T18:57:23.251Z"
   },
   {
    "duration": 6,
    "start_time": "2023-03-02T18:57:23.269Z"
   },
   {
    "duration": 9,
    "start_time": "2023-03-02T18:57:23.276Z"
   },
   {
    "duration": 7,
    "start_time": "2023-03-02T18:57:23.287Z"
   },
   {
    "duration": 67,
    "start_time": "2023-03-02T18:57:23.295Z"
   },
   {
    "duration": 35,
    "start_time": "2023-03-02T18:57:23.364Z"
   },
   {
    "duration": 572,
    "start_time": "2023-03-02T18:57:23.402Z"
   },
   {
    "duration": 5,
    "start_time": "2023-03-02T18:57:23.976Z"
   },
   {
    "duration": 189,
    "start_time": "2023-03-02T18:57:23.982Z"
   },
   {
    "duration": 11298,
    "start_time": "2023-03-02T18:57:24.172Z"
   },
   {
    "duration": 379,
    "start_time": "2023-03-02T18:57:35.471Z"
   },
   {
    "duration": 80,
    "start_time": "2023-03-02T19:05:44.269Z"
   },
   {
    "duration": 30,
    "start_time": "2023-03-02T19:06:03.589Z"
   },
   {
    "duration": 40,
    "start_time": "2023-03-02T19:06:09.020Z"
   },
   {
    "duration": 181,
    "start_time": "2023-03-02T19:07:36.765Z"
   },
   {
    "duration": 174,
    "start_time": "2023-03-02T19:08:59.822Z"
   },
   {
    "duration": 33,
    "start_time": "2023-03-02T19:09:44.451Z"
   },
   {
    "duration": 186,
    "start_time": "2023-03-02T19:10:08.240Z"
   },
   {
    "duration": 207,
    "start_time": "2023-03-02T19:19:49.367Z"
   },
   {
    "duration": 78,
    "start_time": "2023-03-02T19:20:58.138Z"
   },
   {
    "duration": 12211,
    "start_time": "2023-03-02T19:21:32.586Z"
   },
   {
    "duration": 21369,
    "start_time": "2023-03-02T19:22:26.961Z"
   },
   {
    "duration": 12145,
    "start_time": "2023-03-02T19:22:59.761Z"
   },
   {
    "duration": 11528,
    "start_time": "2023-03-02T19:25:23.669Z"
   },
   {
    "duration": 3,
    "start_time": "2023-03-02T19:25:41.970Z"
   },
   {
    "duration": 59,
    "start_time": "2023-03-02T19:26:28.589Z"
   },
   {
    "duration": 102,
    "start_time": "2023-03-02T19:37:27.466Z"
   },
   {
    "duration": 4,
    "start_time": "2023-03-02T19:47:05.350Z"
   },
   {
    "duration": 1275,
    "start_time": "2023-03-03T06:20:49.655Z"
   },
   {
    "duration": 15,
    "start_time": "2023-03-03T06:20:50.933Z"
   },
   {
    "duration": 25,
    "start_time": "2023-03-03T06:20:50.950Z"
   },
   {
    "duration": 13,
    "start_time": "2023-03-03T06:20:50.977Z"
   },
   {
    "duration": 5,
    "start_time": "2023-03-03T06:20:50.993Z"
   },
   {
    "duration": 18,
    "start_time": "2023-03-03T06:20:51.000Z"
   },
   {
    "duration": 40,
    "start_time": "2023-03-03T06:20:51.020Z"
   },
   {
    "duration": 31,
    "start_time": "2023-03-03T06:20:51.062Z"
   },
   {
    "duration": 8,
    "start_time": "2023-03-03T06:20:51.095Z"
   },
   {
    "duration": 37,
    "start_time": "2023-03-03T06:20:51.105Z"
   },
   {
    "duration": 12,
    "start_time": "2023-03-03T06:20:51.145Z"
   },
   {
    "duration": 54,
    "start_time": "2023-03-03T06:20:51.159Z"
   },
   {
    "duration": 57,
    "start_time": "2023-03-03T06:20:51.215Z"
   },
   {
    "duration": 571,
    "start_time": "2023-03-03T06:20:51.275Z"
   },
   {
    "duration": 5,
    "start_time": "2023-03-03T06:20:51.848Z"
   },
   {
    "duration": 213,
    "start_time": "2023-03-03T06:20:51.854Z"
   },
   {
    "duration": 12630,
    "start_time": "2023-03-03T06:20:52.069Z"
   },
   {
    "duration": 148,
    "start_time": "2023-03-03T06:21:04.700Z"
   },
   {
    "duration": 375,
    "start_time": "2023-03-03T06:21:04.851Z"
   },
   {
    "duration": 12440,
    "start_time": "2023-03-03T06:21:05.228Z"
   },
   {
    "duration": 74,
    "start_time": "2023-03-03T06:21:17.670Z"
   },
   {
    "duration": 6,
    "start_time": "2023-03-03T06:21:17.746Z"
   },
   {
    "duration": 5,
    "start_time": "2023-03-03T06:26:13.195Z"
   },
   {
    "duration": 2,
    "start_time": "2023-03-03T06:26:53.591Z"
   },
   {
    "duration": 160,
    "start_time": "2023-03-03T06:35:37.218Z"
   },
   {
    "duration": 17,
    "start_time": "2023-03-03T06:43:25.302Z"
   },
   {
    "duration": 15885,
    "start_time": "2023-03-03T06:44:26.416Z"
   },
   {
    "duration": 234,
    "start_time": "2023-03-03T06:55:20.762Z"
   },
   {
    "duration": 14718,
    "start_time": "2023-03-03T06:55:29.933Z"
   },
   {
    "duration": 9026,
    "start_time": "2023-03-03T06:56:35.996Z"
   },
   {
    "duration": 221,
    "start_time": "2023-03-03T06:57:18.269Z"
   },
   {
    "duration": 226,
    "start_time": "2023-03-03T06:58:58.211Z"
   },
   {
    "duration": 210,
    "start_time": "2023-03-03T06:59:09.806Z"
   },
   {
    "duration": 232,
    "start_time": "2023-03-03T06:59:50.682Z"
   },
   {
    "duration": 223,
    "start_time": "2023-03-03T07:00:17.984Z"
   },
   {
    "duration": 309,
    "start_time": "2023-03-03T07:02:08.933Z"
   },
   {
    "duration": 41,
    "start_time": "2023-03-03T07:02:31.277Z"
   },
   {
    "duration": 15,
    "start_time": "2023-03-03T07:02:31.320Z"
   },
   {
    "duration": 24,
    "start_time": "2023-03-03T07:02:31.336Z"
   },
   {
    "duration": 35,
    "start_time": "2023-03-03T07:02:31.363Z"
   },
   {
    "duration": 16,
    "start_time": "2023-03-03T07:02:31.400Z"
   },
   {
    "duration": 16,
    "start_time": "2023-03-03T07:02:31.417Z"
   },
   {
    "duration": 17,
    "start_time": "2023-03-03T07:02:31.434Z"
   },
   {
    "duration": 27,
    "start_time": "2023-03-03T07:02:31.453Z"
   },
   {
    "duration": 6,
    "start_time": "2023-03-03T07:02:31.483Z"
   },
   {
    "duration": 17,
    "start_time": "2023-03-03T07:02:31.491Z"
   },
   {
    "duration": 22,
    "start_time": "2023-03-03T07:02:31.510Z"
   },
   {
    "duration": 47,
    "start_time": "2023-03-03T07:02:31.540Z"
   },
   {
    "duration": 30,
    "start_time": "2023-03-03T07:02:31.590Z"
   },
   {
    "duration": 130,
    "start_time": "2023-03-03T07:02:31.643Z"
   },
   {
    "duration": 5,
    "start_time": "2023-03-03T07:02:31.775Z"
   },
   {
    "duration": 209,
    "start_time": "2023-03-03T07:02:31.782Z"
   },
   {
    "duration": 11448,
    "start_time": "2023-03-03T07:02:31.993Z"
   },
   {
    "duration": 199,
    "start_time": "2023-03-03T07:02:43.443Z"
   },
   {
    "duration": 200,
    "start_time": "2023-03-03T07:02:43.643Z"
   },
   {
    "duration": 11731,
    "start_time": "2023-03-03T07:02:43.845Z"
   },
   {
    "duration": 77,
    "start_time": "2023-03-03T07:02:55.578Z"
   },
   {
    "duration": 95,
    "start_time": "2023-03-03T07:02:55.657Z"
   },
   {
    "duration": 315,
    "start_time": "2023-03-03T07:02:55.754Z"
   },
   {
    "duration": 15204,
    "start_time": "2023-03-03T07:02:56.071Z"
   },
   {
    "duration": 69,
    "start_time": "2023-03-03T07:03:11.277Z"
   },
   {
    "duration": 91,
    "start_time": "2023-03-03T07:14:27.977Z"
   },
   {
    "duration": 11,
    "start_time": "2023-03-03T07:15:29.388Z"
   },
   {
    "duration": 100,
    "start_time": "2023-03-03T07:16:19.408Z"
   },
   {
    "duration": 107,
    "start_time": "2023-03-03T07:16:46.763Z"
   },
   {
    "duration": 6902,
    "start_time": "2023-03-03T07:18:16.855Z"
   },
   {
    "duration": 6893,
    "start_time": "2023-03-03T07:18:43.338Z"
   },
   {
    "duration": 21,
    "start_time": "2023-03-03T07:20:00.955Z"
   },
   {
    "duration": 50,
    "start_time": "2023-03-03T07:27:43.760Z"
   },
   {
    "duration": 17,
    "start_time": "2023-03-03T07:27:43.812Z"
   },
   {
    "duration": 17,
    "start_time": "2023-03-03T07:27:43.831Z"
   },
   {
    "duration": 15,
    "start_time": "2023-03-03T07:27:43.849Z"
   },
   {
    "duration": 5,
    "start_time": "2023-03-03T07:27:43.867Z"
   },
   {
    "duration": 8,
    "start_time": "2023-03-03T07:27:43.874Z"
   },
   {
    "duration": 17,
    "start_time": "2023-03-03T07:27:43.884Z"
   },
   {
    "duration": 53,
    "start_time": "2023-03-03T07:27:43.902Z"
   },
   {
    "duration": 6,
    "start_time": "2023-03-03T07:27:43.957Z"
   },
   {
    "duration": 9,
    "start_time": "2023-03-03T07:27:43.964Z"
   },
   {
    "duration": 8,
    "start_time": "2023-03-03T07:27:43.974Z"
   },
   {
    "duration": 64,
    "start_time": "2023-03-03T07:27:43.983Z"
   },
   {
    "duration": 34,
    "start_time": "2023-03-03T07:27:44.049Z"
   },
   {
    "duration": 144,
    "start_time": "2023-03-03T07:27:44.086Z"
   },
   {
    "duration": 10,
    "start_time": "2023-03-03T07:27:44.232Z"
   },
   {
    "duration": 204,
    "start_time": "2023-03-03T07:27:44.244Z"
   },
   {
    "duration": 11290,
    "start_time": "2023-03-03T07:27:44.449Z"
   },
   {
    "duration": 26,
    "start_time": "2023-03-03T07:27:55.741Z"
   },
   {
    "duration": 356,
    "start_time": "2023-03-03T07:27:55.769Z"
   },
   {
    "duration": 11811,
    "start_time": "2023-03-03T07:27:56.127Z"
   },
   {
    "duration": 201,
    "start_time": "2023-03-03T07:28:07.941Z"
   },
   {
    "duration": 103,
    "start_time": "2023-03-03T07:28:08.144Z"
   },
   {
    "duration": 241,
    "start_time": "2023-03-03T07:28:08.249Z"
   },
   {
    "duration": 14911,
    "start_time": "2023-03-03T07:28:08.493Z"
   },
   {
    "duration": 135,
    "start_time": "2023-03-03T07:28:23.406Z"
   },
   {
    "duration": 104,
    "start_time": "2023-03-03T07:28:23.544Z"
   },
   {
    "duration": 112,
    "start_time": "2023-03-03T07:28:23.649Z"
   },
   {
    "duration": 6764,
    "start_time": "2023-03-03T07:28:23.763Z"
   },
   {
    "duration": 25,
    "start_time": "2023-03-03T07:28:30.529Z"
   },
   {
    "duration": 183,
    "start_time": "2023-03-03T07:37:52.589Z"
   },
   {
    "duration": 11562,
    "start_time": "2023-03-03T07:39:34.596Z"
   },
   {
    "duration": 198,
    "start_time": "2023-03-03T07:41:20.266Z"
   },
   {
    "duration": 239,
    "start_time": "2023-03-03T07:42:46.203Z"
   },
   {
    "duration": 215,
    "start_time": "2023-03-03T07:43:48.193Z"
   },
   {
    "duration": 15385,
    "start_time": "2023-03-03T07:45:00.312Z"
   },
   {
    "duration": 46,
    "start_time": "2023-03-03T07:46:30.296Z"
   },
   {
    "duration": 35,
    "start_time": "2023-03-03T07:46:49.608Z"
   },
   {
    "duration": 94,
    "start_time": "2023-03-03T07:47:16.148Z"
   },
   {
    "duration": 100,
    "start_time": "2023-03-03T07:48:22.321Z"
   },
   {
    "duration": 6608,
    "start_time": "2023-03-03T07:49:49.125Z"
   },
   {
    "duration": 21,
    "start_time": "2023-03-03T07:50:35.586Z"
   },
   {
    "duration": 1329,
    "start_time": "2023-03-03T13:46:54.725Z"
   },
   {
    "duration": 13,
    "start_time": "2023-03-03T13:46:56.056Z"
   },
   {
    "duration": 18,
    "start_time": "2023-03-03T13:46:56.071Z"
   },
   {
    "duration": 11,
    "start_time": "2023-03-03T13:46:56.091Z"
   },
   {
    "duration": 4,
    "start_time": "2023-03-03T13:46:56.105Z"
   },
   {
    "duration": 9,
    "start_time": "2023-03-03T13:46:56.110Z"
   },
   {
    "duration": 30,
    "start_time": "2023-03-03T13:46:56.121Z"
   },
   {
    "duration": 19,
    "start_time": "2023-03-03T13:46:56.153Z"
   },
   {
    "duration": 6,
    "start_time": "2023-03-03T13:46:56.174Z"
   },
   {
    "duration": 13,
    "start_time": "2023-03-03T13:46:56.182Z"
   },
   {
    "duration": 7,
    "start_time": "2023-03-03T13:46:56.197Z"
   },
   {
    "duration": 69,
    "start_time": "2023-03-03T13:46:56.206Z"
   },
   {
    "duration": 31,
    "start_time": "2023-03-03T13:46:56.277Z"
   },
   {
    "duration": 605,
    "start_time": "2023-03-03T13:46:56.310Z"
   },
   {
    "duration": 5,
    "start_time": "2023-03-03T13:46:56.917Z"
   },
   {
    "duration": 196,
    "start_time": "2023-03-03T13:46:56.924Z"
   },
   {
    "duration": 11977,
    "start_time": "2023-03-03T13:46:57.122Z"
   },
   {
    "duration": 152,
    "start_time": "2023-03-03T13:47:09.101Z"
   },
   {
    "duration": 310,
    "start_time": "2023-03-03T13:47:09.256Z"
   },
   {
    "duration": 12590,
    "start_time": "2023-03-03T13:47:09.568Z"
   },
   {
    "duration": 97,
    "start_time": "2023-03-03T13:47:22.159Z"
   },
   {
    "duration": 101,
    "start_time": "2023-03-03T13:47:22.258Z"
   },
   {
    "duration": 246,
    "start_time": "2023-03-03T13:47:22.361Z"
   },
   {
    "duration": 15647,
    "start_time": "2023-03-03T13:47:22.608Z"
   },
   {
    "duration": 95,
    "start_time": "2023-03-03T13:47:38.256Z"
   },
   {
    "duration": 101,
    "start_time": "2023-03-03T13:47:38.353Z"
   },
   {
    "duration": 121,
    "start_time": "2023-03-03T13:47:38.456Z"
   },
   {
    "duration": 7114,
    "start_time": "2023-03-03T13:47:38.579Z"
   },
   {
    "duration": 154,
    "start_time": "2023-03-03T13:47:45.695Z"
   },
   {
    "duration": 22,
    "start_time": "2023-03-03T14:06:06.473Z"
   },
   {
    "duration": 119,
    "start_time": "2023-03-03T14:43:27.038Z"
   },
   {
    "duration": 11,
    "start_time": "2023-03-03T14:53:11.577Z"
   },
   {
    "duration": 23,
    "start_time": "2023-03-03T14:55:36.376Z"
   },
   {
    "duration": 26,
    "start_time": "2023-03-03T14:56:03.343Z"
   },
   {
    "duration": 25,
    "start_time": "2023-03-03T14:57:01.067Z"
   },
   {
    "duration": 23,
    "start_time": "2023-03-03T14:57:11.316Z"
   },
   {
    "duration": 39,
    "start_time": "2023-03-03T14:57:39.477Z"
   },
   {
    "duration": 36,
    "start_time": "2023-03-03T14:58:11.967Z"
   },
   {
    "duration": 49,
    "start_time": "2023-03-03T15:00:12.816Z"
   },
   {
    "duration": 37,
    "start_time": "2023-03-03T15:00:57.347Z"
   },
   {
    "duration": 56,
    "start_time": "2023-03-03T15:01:49.071Z"
   },
   {
    "duration": 76,
    "start_time": "2023-03-03T15:03:44.230Z"
   },
   {
    "duration": 33,
    "start_time": "2023-03-03T15:12:11.552Z"
   },
   {
    "duration": 46,
    "start_time": "2023-03-03T15:13:02.826Z"
   },
   {
    "duration": 15,
    "start_time": "2023-03-03T15:13:02.874Z"
   },
   {
    "duration": 30,
    "start_time": "2023-03-03T15:13:02.891Z"
   },
   {
    "duration": 29,
    "start_time": "2023-03-03T15:13:02.923Z"
   },
   {
    "duration": 11,
    "start_time": "2023-03-03T15:13:02.954Z"
   },
   {
    "duration": 11,
    "start_time": "2023-03-03T15:13:02.966Z"
   },
   {
    "duration": 22,
    "start_time": "2023-03-03T15:13:02.979Z"
   },
   {
    "duration": 23,
    "start_time": "2023-03-03T15:13:03.003Z"
   },
   {
    "duration": 6,
    "start_time": "2023-03-03T15:13:03.028Z"
   },
   {
    "duration": 20,
    "start_time": "2023-03-03T15:13:03.036Z"
   },
   {
    "duration": 9,
    "start_time": "2023-03-03T15:13:03.057Z"
   },
   {
    "duration": 39,
    "start_time": "2023-03-03T15:13:03.068Z"
   },
   {
    "duration": 61,
    "start_time": "2023-03-03T15:13:03.109Z"
   },
   {
    "duration": 143,
    "start_time": "2023-03-03T15:13:03.174Z"
   },
   {
    "duration": 5,
    "start_time": "2023-03-03T15:13:03.319Z"
   },
   {
    "duration": 199,
    "start_time": "2023-03-03T15:13:03.325Z"
   },
   {
    "duration": 12184,
    "start_time": "2023-03-03T15:13:03.525Z"
   },
   {
    "duration": 46,
    "start_time": "2023-03-03T15:13:15.711Z"
   },
   {
    "duration": 375,
    "start_time": "2023-03-03T15:13:15.758Z"
   },
   {
    "duration": 12150,
    "start_time": "2023-03-03T15:13:16.135Z"
   },
   {
    "duration": 67,
    "start_time": "2023-03-03T15:13:28.287Z"
   },
   {
    "duration": 105,
    "start_time": "2023-03-03T15:13:28.356Z"
   },
   {
    "duration": 326,
    "start_time": "2023-03-03T15:13:28.463Z"
   },
   {
    "duration": 16100,
    "start_time": "2023-03-03T15:13:28.790Z"
   },
   {
    "duration": 166,
    "start_time": "2023-03-03T15:13:44.893Z"
   },
   {
    "duration": 93,
    "start_time": "2023-03-03T15:13:45.061Z"
   },
   {
    "duration": 156,
    "start_time": "2023-03-03T15:13:45.162Z"
   },
   {
    "duration": 7349,
    "start_time": "2023-03-03T15:13:45.324Z"
   },
   {
    "duration": 85,
    "start_time": "2023-03-03T15:13:52.674Z"
   },
   {
    "duration": 4,
    "start_time": "2023-03-03T15:13:52.762Z"
   },
   {
    "duration": 161,
    "start_time": "2023-03-03T15:13:52.768Z"
   },
   {
    "duration": 42,
    "start_time": "2023-03-03T16:21:56.262Z"
   },
   {
    "duration": 12,
    "start_time": "2023-03-03T16:21:56.306Z"
   },
   {
    "duration": 13,
    "start_time": "2023-03-03T16:21:56.319Z"
   },
   {
    "duration": 13,
    "start_time": "2023-03-03T16:21:56.333Z"
   },
   {
    "duration": 4,
    "start_time": "2023-03-03T16:21:56.348Z"
   },
   {
    "duration": 6,
    "start_time": "2023-03-03T16:21:56.354Z"
   },
   {
    "duration": 14,
    "start_time": "2023-03-03T16:21:56.361Z"
   },
   {
    "duration": 16,
    "start_time": "2023-03-03T16:21:56.377Z"
   },
   {
    "duration": 6,
    "start_time": "2023-03-03T16:21:56.394Z"
   },
   {
    "duration": 10,
    "start_time": "2023-03-03T16:21:56.401Z"
   },
   {
    "duration": 39,
    "start_time": "2023-03-03T16:21:56.412Z"
   },
   {
    "duration": 39,
    "start_time": "2023-03-03T16:21:56.453Z"
   },
   {
    "duration": 33,
    "start_time": "2023-03-03T16:21:56.494Z"
   },
   {
    "duration": 137,
    "start_time": "2023-03-03T16:21:56.550Z"
   },
   {
    "duration": 4,
    "start_time": "2023-03-03T16:21:56.688Z"
   },
   {
    "duration": 196,
    "start_time": "2023-03-03T16:21:56.694Z"
   },
   {
    "duration": 12073,
    "start_time": "2023-03-03T16:21:56.893Z"
   },
   {
    "duration": 83,
    "start_time": "2023-03-03T16:22:08.967Z"
   },
   {
    "duration": 276,
    "start_time": "2023-03-03T16:22:09.053Z"
   },
   {
    "duration": 11841,
    "start_time": "2023-03-03T16:22:09.331Z"
   },
   {
    "duration": 75,
    "start_time": "2023-03-03T16:22:21.174Z"
   },
   {
    "duration": 103,
    "start_time": "2023-03-03T16:22:21.252Z"
   },
   {
    "duration": 232,
    "start_time": "2023-03-03T16:22:21.356Z"
   },
   {
    "duration": 15191,
    "start_time": "2023-03-03T16:22:21.590Z"
   },
   {
    "duration": 71,
    "start_time": "2023-03-03T16:22:36.782Z"
   },
   {
    "duration": 101,
    "start_time": "2023-03-03T16:22:36.855Z"
   },
   {
    "duration": 179,
    "start_time": "2023-03-03T16:22:36.958Z"
   },
   {
    "duration": 6818,
    "start_time": "2023-03-03T16:22:37.139Z"
   },
   {
    "duration": 91,
    "start_time": "2023-03-03T16:22:43.959Z"
   },
   {
    "duration": 4,
    "start_time": "2023-03-03T16:22:44.052Z"
   },
   {
    "duration": 161,
    "start_time": "2023-03-03T16:22:44.058Z"
   },
   {
    "duration": 11,
    "start_time": "2023-03-03T16:30:31.488Z"
   },
   {
    "duration": 42,
    "start_time": "2023-03-03T16:30:51.834Z"
   },
   {
    "duration": 12,
    "start_time": "2023-03-03T16:30:51.878Z"
   },
   {
    "duration": 23,
    "start_time": "2023-03-03T16:30:51.892Z"
   },
   {
    "duration": 30,
    "start_time": "2023-03-03T16:30:51.918Z"
   },
   {
    "duration": 13,
    "start_time": "2023-03-03T16:30:51.950Z"
   },
   {
    "duration": 7,
    "start_time": "2023-03-03T16:30:51.965Z"
   },
   {
    "duration": 17,
    "start_time": "2023-03-03T16:30:51.973Z"
   },
   {
    "duration": 31,
    "start_time": "2023-03-03T16:30:51.992Z"
   },
   {
    "duration": 6,
    "start_time": "2023-03-03T16:30:52.026Z"
   },
   {
    "duration": 20,
    "start_time": "2023-03-03T16:30:52.034Z"
   },
   {
    "duration": 11,
    "start_time": "2023-03-03T16:30:52.056Z"
   },
   {
    "duration": 39,
    "start_time": "2023-03-03T16:30:52.069Z"
   },
   {
    "duration": 51,
    "start_time": "2023-03-03T16:30:52.110Z"
   },
   {
    "duration": 151,
    "start_time": "2023-03-03T16:30:52.165Z"
   },
   {
    "duration": 4,
    "start_time": "2023-03-03T16:30:52.318Z"
   },
   {
    "duration": 187,
    "start_time": "2023-03-03T16:30:52.324Z"
   },
   {
    "duration": 11784,
    "start_time": "2023-03-03T16:30:52.513Z"
   },
   {
    "duration": 57,
    "start_time": "2023-03-03T16:31:04.299Z"
   },
   {
    "duration": 291,
    "start_time": "2023-03-03T16:31:04.449Z"
   },
   {
    "duration": 11853,
    "start_time": "2023-03-03T16:31:04.742Z"
   },
   {
    "duration": 152,
    "start_time": "2023-03-03T16:31:16.597Z"
   },
   {
    "duration": 96,
    "start_time": "2023-03-03T16:31:16.755Z"
   },
   {
    "duration": 258,
    "start_time": "2023-03-03T16:31:16.853Z"
   },
   {
    "duration": 14804,
    "start_time": "2023-03-03T16:31:17.113Z"
   },
   {
    "duration": 128,
    "start_time": "2023-03-03T16:31:31.919Z"
   },
   {
    "duration": 102,
    "start_time": "2023-03-03T16:31:32.050Z"
   },
   {
    "duration": 121,
    "start_time": "2023-03-03T16:31:32.153Z"
   },
   {
    "duration": 6984,
    "start_time": "2023-03-03T16:31:32.276Z"
   },
   {
    "duration": 90,
    "start_time": "2023-03-03T16:31:39.262Z"
   },
   {
    "duration": 93,
    "start_time": "2023-03-03T16:31:39.355Z"
   },
   {
    "duration": 68,
    "start_time": "2023-03-03T16:31:39.450Z"
   },
   {
    "duration": 226,
    "start_time": "2023-03-03T16:31:39.519Z"
   },
   {
    "duration": 66,
    "start_time": "2023-03-03T16:34:37.238Z"
   },
   {
    "duration": 3,
    "start_time": "2023-03-03T16:37:36.538Z"
   },
   {
    "duration": 64,
    "start_time": "2023-03-03T16:40:52.567Z"
   },
   {
    "duration": 43,
    "start_time": "2023-03-03T16:58:11.190Z"
   },
   {
    "duration": 13,
    "start_time": "2023-03-03T16:58:11.235Z"
   },
   {
    "duration": 26,
    "start_time": "2023-03-03T16:58:11.249Z"
   },
   {
    "duration": 29,
    "start_time": "2023-03-03T16:58:11.277Z"
   },
   {
    "duration": 7,
    "start_time": "2023-03-03T16:58:11.309Z"
   },
   {
    "duration": 23,
    "start_time": "2023-03-03T16:58:11.318Z"
   },
   {
    "duration": 25,
    "start_time": "2023-03-03T16:58:11.343Z"
   },
   {
    "duration": 37,
    "start_time": "2023-03-03T16:58:11.369Z"
   },
   {
    "duration": 5,
    "start_time": "2023-03-03T16:58:11.408Z"
   },
   {
    "duration": 29,
    "start_time": "2023-03-03T16:58:11.415Z"
   },
   {
    "duration": 10,
    "start_time": "2023-03-03T16:58:11.446Z"
   },
   {
    "duration": 81,
    "start_time": "2023-03-03T16:58:11.457Z"
   },
   {
    "duration": 32,
    "start_time": "2023-03-03T16:58:11.540Z"
   },
   {
    "duration": 140,
    "start_time": "2023-03-03T16:58:11.575Z"
   },
   {
    "duration": 6,
    "start_time": "2023-03-03T16:58:11.717Z"
   },
   {
    "duration": 198,
    "start_time": "2023-03-03T16:58:11.724Z"
   },
   {
    "duration": 12080,
    "start_time": "2023-03-03T16:58:11.924Z"
   },
   {
    "duration": 242,
    "start_time": "2023-03-03T16:58:24.006Z"
   },
   {
    "duration": 234,
    "start_time": "2023-03-03T16:58:24.250Z"
   },
   {
    "duration": 12213,
    "start_time": "2023-03-03T16:58:24.486Z"
   },
   {
    "duration": 55,
    "start_time": "2023-03-03T16:58:36.701Z"
   },
   {
    "duration": 103,
    "start_time": "2023-03-03T16:58:36.758Z"
   },
   {
    "duration": 320,
    "start_time": "2023-03-03T16:58:36.863Z"
   },
   {
    "duration": 15451,
    "start_time": "2023-03-03T16:58:37.185Z"
   },
   {
    "duration": 114,
    "start_time": "2023-03-03T16:58:52.638Z"
   },
   {
    "duration": 101,
    "start_time": "2023-03-03T16:58:52.755Z"
   },
   {
    "duration": 123,
    "start_time": "2023-03-03T16:58:52.858Z"
   },
   {
    "duration": 7111,
    "start_time": "2023-03-03T16:58:52.983Z"
   },
   {
    "duration": 162,
    "start_time": "2023-03-03T16:59:00.096Z"
   },
   {
    "duration": 67,
    "start_time": "2023-03-03T16:59:00.348Z"
   },
   {
    "duration": 233,
    "start_time": "2023-03-03T16:59:00.416Z"
   },
   {
    "duration": 94,
    "start_time": "2023-03-04T18:28:25.090Z"
   },
   {
    "duration": 1944,
    "start_time": "2023-03-04T18:29:59.836Z"
   },
   {
    "duration": 42,
    "start_time": "2023-03-04T18:30:30.902Z"
   },
   {
    "duration": 92,
    "start_time": "2023-03-04T18:31:54.976Z"
   },
   {
    "duration": 4,
    "start_time": "2023-03-04T18:47:53.111Z"
   },
   {
    "duration": 64,
    "start_time": "2023-03-04T18:47:53.117Z"
   },
   {
    "duration": 18,
    "start_time": "2023-03-04T18:47:53.188Z"
   },
   {
    "duration": 25,
    "start_time": "2023-03-04T18:47:53.210Z"
   },
   {
    "duration": 17,
    "start_time": "2023-03-04T18:47:53.237Z"
   },
   {
    "duration": 28,
    "start_time": "2023-03-04T18:47:53.257Z"
   },
   {
    "duration": 16,
    "start_time": "2023-03-04T18:47:53.288Z"
   },
   {
    "duration": 16,
    "start_time": "2023-03-04T18:47:56.691Z"
   },
   {
    "duration": 16,
    "start_time": "2023-03-04T18:48:20.111Z"
   },
   {
    "duration": 113,
    "start_time": "2023-03-04T19:03:01.729Z"
   },
   {
    "duration": 97,
    "start_time": "2023-03-04T19:10:34.612Z"
   },
   {
    "duration": 117,
    "start_time": "2023-03-04T19:14:17.634Z"
   },
   {
    "duration": 112,
    "start_time": "2023-03-04T19:14:58.012Z"
   },
   {
    "duration": 4,
    "start_time": "2023-03-04T19:15:06.530Z"
   },
   {
    "duration": 93,
    "start_time": "2023-03-04T19:15:06.537Z"
   },
   {
    "duration": 12,
    "start_time": "2023-03-04T19:15:06.631Z"
   },
   {
    "duration": 45,
    "start_time": "2023-03-04T19:15:06.646Z"
   },
   {
    "duration": 23,
    "start_time": "2023-03-04T19:15:06.694Z"
   },
   {
    "duration": 6,
    "start_time": "2023-03-04T19:15:06.719Z"
   },
   {
    "duration": 9,
    "start_time": "2023-03-04T19:15:06.727Z"
   },
   {
    "duration": 64,
    "start_time": "2023-03-04T19:15:06.738Z"
   },
   {
    "duration": 15,
    "start_time": "2023-03-04T19:15:06.806Z"
   },
   {
    "duration": 39,
    "start_time": "2023-03-04T19:15:06.822Z"
   },
   {
    "duration": 15,
    "start_time": "2023-03-04T19:15:06.870Z"
   },
   {
    "duration": 14,
    "start_time": "2023-03-04T19:15:06.887Z"
   },
   {
    "duration": 19,
    "start_time": "2023-03-04T19:15:06.903Z"
   },
   {
    "duration": 54,
    "start_time": "2023-03-04T19:15:06.924Z"
   },
   {
    "duration": 34,
    "start_time": "2023-03-04T19:15:06.983Z"
   },
   {
    "duration": 189,
    "start_time": "2023-03-04T19:15:07.019Z"
   },
   {
    "duration": 4,
    "start_time": "2023-03-04T19:15:07.210Z"
   },
   {
    "duration": 191,
    "start_time": "2023-03-04T19:15:07.216Z"
   },
   {
    "duration": 11572,
    "start_time": "2023-03-04T19:15:07.408Z"
   },
   {
    "duration": 73,
    "start_time": "2023-03-04T19:15:18.985Z"
   },
   {
    "duration": 324,
    "start_time": "2023-03-04T19:15:19.063Z"
   },
   {
    "duration": 11852,
    "start_time": "2023-03-04T19:15:19.389Z"
   },
   {
    "duration": 45,
    "start_time": "2023-03-04T19:15:31.243Z"
   },
   {
    "duration": 157,
    "start_time": "2023-03-04T19:15:31.349Z"
   },
   {
    "duration": 5,
    "start_time": "2023-03-04T19:15:40.534Z"
   },
   {
    "duration": 10,
    "start_time": "2023-03-04T19:17:36.093Z"
   },
   {
    "duration": 5,
    "start_time": "2023-03-04T19:21:30.292Z"
   },
   {
    "duration": 103,
    "start_time": "2023-03-04T19:21:30.299Z"
   },
   {
    "duration": 13,
    "start_time": "2023-03-04T19:21:30.404Z"
   },
   {
    "duration": 32,
    "start_time": "2023-03-04T19:21:30.419Z"
   },
   {
    "duration": 62,
    "start_time": "2023-03-04T19:21:30.454Z"
   },
   {
    "duration": 6,
    "start_time": "2023-03-04T19:21:30.519Z"
   },
   {
    "duration": 14,
    "start_time": "2023-03-04T19:21:30.527Z"
   },
   {
    "duration": 72,
    "start_time": "2023-03-04T19:21:30.544Z"
   },
   {
    "duration": 15,
    "start_time": "2023-03-04T19:21:30.618Z"
   },
   {
    "duration": 39,
    "start_time": "2023-03-04T19:21:30.635Z"
   },
   {
    "duration": 31,
    "start_time": "2023-03-04T19:21:30.676Z"
   },
   {
    "duration": 23,
    "start_time": "2023-03-04T19:21:30.709Z"
   },
   {
    "duration": 59,
    "start_time": "2023-03-04T19:21:30.734Z"
   },
   {
    "duration": 72,
    "start_time": "2023-03-04T19:21:30.796Z"
   },
   {
    "duration": 42,
    "start_time": "2023-03-04T19:21:30.883Z"
   },
   {
    "duration": 145,
    "start_time": "2023-03-04T19:21:30.927Z"
   },
   {
    "duration": 9,
    "start_time": "2023-03-04T19:21:31.077Z"
   },
   {
    "duration": 193,
    "start_time": "2023-03-04T19:21:31.088Z"
   },
   {
    "duration": 11740,
    "start_time": "2023-03-04T19:21:31.289Z"
   },
   {
    "duration": 136,
    "start_time": "2023-03-04T19:21:43.031Z"
   },
   {
    "duration": 290,
    "start_time": "2023-03-04T19:21:43.172Z"
   },
   {
    "duration": 11894,
    "start_time": "2023-03-04T19:21:43.465Z"
   },
   {
    "duration": 116,
    "start_time": "2023-03-04T19:21:55.364Z"
   },
   {
    "duration": 143,
    "start_time": "2023-03-04T19:21:55.483Z"
   },
   {
    "duration": 24,
    "start_time": "2023-03-04T19:21:55.628Z"
   },
   {
    "duration": 306,
    "start_time": "2023-03-04T19:21:55.654Z"
   },
   {
    "duration": 15952,
    "start_time": "2023-03-04T19:21:55.966Z"
   },
   {
    "duration": 128,
    "start_time": "2023-03-04T19:22:11.920Z"
   },
   {
    "duration": 36,
    "start_time": "2023-03-04T19:22:12.050Z"
   },
   {
    "duration": 194,
    "start_time": "2023-03-04T19:22:12.095Z"
   },
   {
    "duration": 7198,
    "start_time": "2023-03-04T19:22:12.295Z"
   },
   {
    "duration": 61,
    "start_time": "2023-03-04T19:22:19.499Z"
   },
   {
    "duration": 99,
    "start_time": "2023-03-04T19:22:19.650Z"
   },
   {
    "duration": 232,
    "start_time": "2023-03-04T19:22:19.751Z"
   },
   {
    "duration": 11,
    "start_time": "2023-03-04T20:08:57.547Z"
   },
   {
    "duration": 82,
    "start_time": "2023-03-04T20:08:57.560Z"
   },
   {
    "duration": 27,
    "start_time": "2023-03-04T20:08:57.645Z"
   },
   {
    "duration": 19,
    "start_time": "2023-03-04T20:08:57.676Z"
   },
   {
    "duration": 20,
    "start_time": "2023-03-04T20:08:57.698Z"
   },
   {
    "duration": 12,
    "start_time": "2023-03-04T20:08:57.721Z"
   },
   {
    "duration": 14,
    "start_time": "2023-03-04T20:08:57.735Z"
   },
   {
    "duration": 85,
    "start_time": "2023-03-04T20:08:57.753Z"
   },
   {
    "duration": 21,
    "start_time": "2023-03-04T20:08:57.840Z"
   },
   {
    "duration": 45,
    "start_time": "2023-03-04T20:08:57.867Z"
   },
   {
    "duration": 8,
    "start_time": "2023-03-04T20:08:58.016Z"
   },
   {
    "duration": 26,
    "start_time": "2023-03-04T20:08:58.026Z"
   },
   {
    "duration": 31,
    "start_time": "2023-03-04T20:08:58.054Z"
   },
   {
    "duration": 40,
    "start_time": "2023-03-04T20:08:58.087Z"
   },
   {
    "duration": 46,
    "start_time": "2023-03-04T20:08:58.130Z"
   },
   {
    "duration": 200,
    "start_time": "2023-03-04T20:08:58.177Z"
   },
   {
    "duration": 5,
    "start_time": "2023-03-04T20:08:58.379Z"
   },
   {
    "duration": 233,
    "start_time": "2023-03-04T20:08:58.387Z"
   },
   {
    "duration": 13309,
    "start_time": "2023-03-04T20:08:58.622Z"
   },
   {
    "duration": 59,
    "start_time": "2023-03-04T20:09:11.933Z"
   },
   {
    "duration": 386,
    "start_time": "2023-03-04T20:09:11.994Z"
   },
   {
    "duration": 12639,
    "start_time": "2023-03-04T20:09:12.383Z"
   },
   {
    "duration": 127,
    "start_time": "2023-03-04T20:09:25.024Z"
   },
   {
    "duration": 27,
    "start_time": "2023-03-04T20:09:25.153Z"
   },
   {
    "duration": 102,
    "start_time": "2023-03-04T20:09:25.182Z"
   },
   {
    "duration": 248,
    "start_time": "2023-03-04T20:09:25.286Z"
   },
   {
    "duration": 15356,
    "start_time": "2023-03-04T20:09:25.536Z"
   },
   {
    "duration": 68,
    "start_time": "2023-03-04T20:09:40.895Z"
   },
   {
    "duration": 109,
    "start_time": "2023-03-04T20:09:40.975Z"
   },
   {
    "duration": 151,
    "start_time": "2023-03-04T20:09:41.155Z"
   },
   {
    "duration": 7616,
    "start_time": "2023-03-04T20:09:41.308Z"
   },
   {
    "duration": 58,
    "start_time": "2023-03-04T20:09:48.926Z"
   },
   {
    "duration": 175,
    "start_time": "2023-03-04T20:09:49.055Z"
   },
   {
    "duration": 316,
    "start_time": "2023-03-04T20:09:49.233Z"
   },
   {
    "duration": 124,
    "start_time": "2023-03-04T20:12:39.218Z"
   },
   {
    "duration": 4,
    "start_time": "2023-03-04T21:05:50.566Z"
   },
   {
    "duration": 48,
    "start_time": "2023-03-04T21:05:50.572Z"
   },
   {
    "duration": 17,
    "start_time": "2023-03-04T21:05:50.671Z"
   },
   {
    "duration": 19,
    "start_time": "2023-03-04T21:05:50.691Z"
   },
   {
    "duration": 16,
    "start_time": "2023-03-04T21:05:50.711Z"
   },
   {
    "duration": 8,
    "start_time": "2023-03-04T21:05:50.730Z"
   },
   {
    "duration": 7,
    "start_time": "2023-03-04T21:05:50.751Z"
   },
   {
    "duration": 39,
    "start_time": "2023-03-04T21:05:50.760Z"
   },
   {
    "duration": 15,
    "start_time": "2023-03-04T21:05:50.801Z"
   },
   {
    "duration": 26,
    "start_time": "2023-03-04T21:05:50.818Z"
   },
   {
    "duration": 10,
    "start_time": "2023-03-04T21:05:50.850Z"
   },
   {
    "duration": 28,
    "start_time": "2023-03-04T21:05:50.870Z"
   },
   {
    "duration": 10,
    "start_time": "2023-03-04T21:05:50.900Z"
   },
   {
    "duration": 61,
    "start_time": "2023-03-04T21:05:50.913Z"
   },
   {
    "duration": 45,
    "start_time": "2023-03-04T21:05:50.977Z"
   },
   {
    "duration": 180,
    "start_time": "2023-03-04T21:05:51.026Z"
   },
   {
    "duration": 7,
    "start_time": "2023-03-04T21:05:51.208Z"
   },
   {
    "duration": 191,
    "start_time": "2023-03-04T21:05:51.217Z"
   },
   {
    "duration": 11185,
    "start_time": "2023-03-04T21:05:51.411Z"
   },
   {
    "duration": 157,
    "start_time": "2023-03-04T21:06:02.598Z"
   },
   {
    "duration": 299,
    "start_time": "2023-03-04T21:06:02.759Z"
   },
   {
    "duration": 11694,
    "start_time": "2023-03-04T21:06:03.061Z"
   },
   {
    "duration": 90,
    "start_time": "2023-03-04T21:06:14.762Z"
   },
   {
    "duration": 97,
    "start_time": "2023-03-04T21:06:14.854Z"
   },
   {
    "duration": 33,
    "start_time": "2023-03-04T21:06:14.954Z"
   },
   {
    "duration": 217,
    "start_time": "2023-03-04T21:06:14.990Z"
   },
   {
    "duration": 15568,
    "start_time": "2023-03-04T21:06:15.209Z"
   },
   {
    "duration": 73,
    "start_time": "2023-03-04T21:06:30.780Z"
   },
   {
    "duration": 146,
    "start_time": "2023-03-04T21:06:30.855Z"
   },
   {
    "duration": 187,
    "start_time": "2023-03-04T21:06:31.003Z"
   },
   {
    "duration": 7534,
    "start_time": "2023-03-04T21:06:31.192Z"
   },
   {
    "duration": 46,
    "start_time": "2023-03-04T21:06:38.727Z"
   },
   {
    "duration": 241,
    "start_time": "2023-03-04T21:06:38.776Z"
   },
   {
    "duration": 245,
    "start_time": "2023-03-04T21:06:39.020Z"
   },
   {
    "duration": 1638,
    "start_time": "2023-03-06T07:38:56.707Z"
   },
   {
    "duration": 84,
    "start_time": "2023-03-06T07:38:58.349Z"
   },
   {
    "duration": 14,
    "start_time": "2023-03-06T07:38:58.435Z"
   },
   {
    "duration": 18,
    "start_time": "2023-03-06T07:38:58.451Z"
   },
   {
    "duration": 12,
    "start_time": "2023-03-06T07:38:58.471Z"
   },
   {
    "duration": 5,
    "start_time": "2023-03-06T07:38:58.485Z"
   },
   {
    "duration": 6,
    "start_time": "2023-03-06T07:38:58.492Z"
   },
   {
    "duration": 19,
    "start_time": "2023-03-06T07:38:58.500Z"
   },
   {
    "duration": 39,
    "start_time": "2023-03-06T07:38:58.520Z"
   },
   {
    "duration": 18,
    "start_time": "2023-03-06T07:38:58.561Z"
   },
   {
    "duration": 6,
    "start_time": "2023-03-06T07:38:58.581Z"
   },
   {
    "duration": 10,
    "start_time": "2023-03-06T07:38:58.589Z"
   },
   {
    "duration": 11,
    "start_time": "2023-03-06T07:38:58.601Z"
   },
   {
    "duration": 36,
    "start_time": "2023-03-06T07:38:58.649Z"
   },
   {
    "duration": 31,
    "start_time": "2023-03-06T07:38:58.686Z"
   },
   {
    "duration": 152,
    "start_time": "2023-03-06T07:38:58.719Z"
   },
   {
    "duration": 4,
    "start_time": "2023-03-06T07:38:58.873Z"
   },
   {
    "duration": 166,
    "start_time": "2023-03-06T07:38:58.878Z"
   },
   {
    "duration": 10529,
    "start_time": "2023-03-06T07:38:59.048Z"
   },
   {
    "duration": 85,
    "start_time": "2023-03-06T07:39:09.579Z"
   },
   {
    "duration": 183,
    "start_time": "2023-03-06T07:39:09.750Z"
   },
   {
    "duration": 10627,
    "start_time": "2023-03-06T07:39:09.935Z"
   },
   {
    "duration": 85,
    "start_time": "2023-03-06T07:39:20.564Z"
   },
   {
    "duration": 100,
    "start_time": "2023-03-06T07:39:20.652Z"
   },
   {
    "duration": 21,
    "start_time": "2023-03-06T07:39:20.753Z"
   },
   {
    "duration": 207,
    "start_time": "2023-03-06T07:39:20.776Z"
   }
  ],
  "kernelspec": {
   "display_name": "Python 3 (ipykernel)",
   "language": "python",
   "name": "python3"
  },
  "language_info": {
   "codemirror_mode": {
    "name": "ipython",
    "version": 3
   },
   "file_extension": ".py",
   "mimetype": "text/x-python",
   "name": "python",
   "nbconvert_exporter": "python",
   "pygments_lexer": "ipython3",
   "version": "3.9.13"
  },
  "toc": {
   "base_numbering": 1,
   "nav_menu": {},
   "number_sections": true,
   "sideBar": true,
   "skip_h1_title": true,
   "title_cell": "Содержание",
   "title_sidebar": "Contents",
   "toc_cell": true,
   "toc_position": {},
   "toc_section_display": true,
   "toc_window_display": true
  }
 },
 "nbformat": 4,
 "nbformat_minor": 2
}
